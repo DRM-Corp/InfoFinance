{
 "cells": [
  {
   "cell_type": "markdown",
   "id": "05612105-5c14-4d9c-b2c8-bfd9f53758dc",
   "metadata": {},
   "source": [
    "# Forecast CAC40"
   ]
  },
  {
   "cell_type": "code",
   "execution_count": 12,
   "id": "e1cc24d7-45da-4c24-936d-2a9e495f4859",
   "metadata": {
    "scrolled": true
   },
   "outputs": [
    {
     "name": "stdout",
     "output_type": "stream",
     "text": [
      "Fetching CAC 40 tickers...\n",
      "40 tickers retrieved.\n",
      "\n",
      "Analyzing stocks...\n",
      "\n",
      "Analyzing AC.PA...\n",
      "AC.PA: Data ready for analysis.\n"
     ]
    },
    {
     "name": "stderr",
     "output_type": "stream",
     "text": [
      "10:34:41 - cmdstanpy - INFO - Chain [1] start processing\n",
      "10:34:41 - cmdstanpy - INFO - Chain [1] done processing\n"
     ]
    },
    {
     "name": "stdout",
     "output_type": "stream",
     "text": [
      "Forecast successful for AC.PA.\n",
      "\n",
      "Analyzing AI.PA...\n",
      "AI.PA: Data ready for analysis.\n"
     ]
    },
    {
     "name": "stderr",
     "output_type": "stream",
     "text": [
      "10:34:42 - cmdstanpy - INFO - Chain [1] start processing\n",
      "10:34:42 - cmdstanpy - INFO - Chain [1] done processing\n"
     ]
    },
    {
     "name": "stdout",
     "output_type": "stream",
     "text": [
      "Forecast successful for AI.PA.\n",
      "\n",
      "Analyzing AIR.PA...\n",
      "AIR.PA: Data ready for analysis.\n"
     ]
    },
    {
     "name": "stderr",
     "output_type": "stream",
     "text": [
      "10:34:42 - cmdstanpy - INFO - Chain [1] start processing\n",
      "10:34:43 - cmdstanpy - INFO - Chain [1] done processing\n"
     ]
    },
    {
     "name": "stdout",
     "output_type": "stream",
     "text": [
      "Forecast successful for AIR.PA.\n",
      "\n",
      "Analyzing MT.AS...\n",
      "MT.AS: Data ready for analysis.\n"
     ]
    },
    {
     "name": "stderr",
     "output_type": "stream",
     "text": [
      "10:34:43 - cmdstanpy - INFO - Chain [1] start processing\n",
      "10:34:44 - cmdstanpy - INFO - Chain [1] done processing\n"
     ]
    },
    {
     "name": "stdout",
     "output_type": "stream",
     "text": [
      "Forecast successful for MT.AS.\n",
      "\n",
      "Analyzing CS.PA...\n",
      "CS.PA: Data ready for analysis.\n"
     ]
    },
    {
     "name": "stderr",
     "output_type": "stream",
     "text": [
      "10:34:44 - cmdstanpy - INFO - Chain [1] start processing\n",
      "10:34:44 - cmdstanpy - INFO - Chain [1] done processing\n"
     ]
    },
    {
     "name": "stdout",
     "output_type": "stream",
     "text": [
      "Forecast successful for CS.PA.\n",
      "\n",
      "Analyzing BNP.PA...\n",
      "BNP.PA: Data ready for analysis.\n"
     ]
    },
    {
     "name": "stderr",
     "output_type": "stream",
     "text": [
      "10:34:45 - cmdstanpy - INFO - Chain [1] start processing\n",
      "10:34:45 - cmdstanpy - INFO - Chain [1] done processing\n"
     ]
    },
    {
     "name": "stdout",
     "output_type": "stream",
     "text": [
      "Forecast successful for BNP.PA.\n",
      "\n",
      "Analyzing EN.PA...\n",
      "EN.PA: Data ready for analysis.\n"
     ]
    },
    {
     "name": "stderr",
     "output_type": "stream",
     "text": [
      "10:34:46 - cmdstanpy - INFO - Chain [1] start processing\n",
      "10:34:46 - cmdstanpy - INFO - Chain [1] done processing\n"
     ]
    },
    {
     "name": "stdout",
     "output_type": "stream",
     "text": [
      "Forecast successful for EN.PA.\n",
      "\n",
      "Analyzing CAP.PA...\n",
      "CAP.PA: Data ready for analysis.\n"
     ]
    },
    {
     "name": "stderr",
     "output_type": "stream",
     "text": [
      "10:34:46 - cmdstanpy - INFO - Chain [1] start processing\n",
      "10:34:47 - cmdstanpy - INFO - Chain [1] done processing\n"
     ]
    },
    {
     "name": "stdout",
     "output_type": "stream",
     "text": [
      "Forecast successful for CAP.PA.\n",
      "\n",
      "Analyzing CA.PA...\n",
      "CA.PA: Data ready for analysis.\n"
     ]
    },
    {
     "name": "stderr",
     "output_type": "stream",
     "text": [
      "10:34:47 - cmdstanpy - INFO - Chain [1] start processing\n",
      "10:34:47 - cmdstanpy - INFO - Chain [1] done processing\n"
     ]
    },
    {
     "name": "stdout",
     "output_type": "stream",
     "text": [
      "Forecast successful for CA.PA.\n",
      "\n",
      "Analyzing ACA.PA...\n",
      "ACA.PA: Data ready for analysis.\n"
     ]
    },
    {
     "name": "stderr",
     "output_type": "stream",
     "text": [
      "10:34:48 - cmdstanpy - INFO - Chain [1] start processing\n",
      "10:34:48 - cmdstanpy - INFO - Chain [1] done processing\n"
     ]
    },
    {
     "name": "stdout",
     "output_type": "stream",
     "text": [
      "Forecast successful for ACA.PA.\n",
      "\n",
      "Analyzing BN.PA...\n",
      "BN.PA: Data ready for analysis.\n"
     ]
    },
    {
     "name": "stderr",
     "output_type": "stream",
     "text": [
      "10:34:49 - cmdstanpy - INFO - Chain [1] start processing\n",
      "10:34:49 - cmdstanpy - INFO - Chain [1] done processing\n"
     ]
    },
    {
     "name": "stdout",
     "output_type": "stream",
     "text": [
      "Forecast successful for BN.PA.\n",
      "\n",
      "Analyzing DSY.PA...\n",
      "DSY.PA: Data ready for analysis.\n"
     ]
    },
    {
     "name": "stderr",
     "output_type": "stream",
     "text": [
      "10:34:50 - cmdstanpy - INFO - Chain [1] start processing\n",
      "10:34:50 - cmdstanpy - INFO - Chain [1] done processing\n"
     ]
    },
    {
     "name": "stdout",
     "output_type": "stream",
     "text": [
      "Forecast successful for DSY.PA.\n",
      "\n",
      "Analyzing EDEN.PA...\n",
      "EDEN.PA: Data ready for analysis.\n"
     ]
    },
    {
     "name": "stderr",
     "output_type": "stream",
     "text": [
      "10:34:50 - cmdstanpy - INFO - Chain [1] start processing\n",
      "10:34:50 - cmdstanpy - INFO - Chain [1] done processing\n"
     ]
    },
    {
     "name": "stdout",
     "output_type": "stream",
     "text": [
      "Forecast successful for EDEN.PA.\n",
      "\n",
      "Analyzing ENGI.PA...\n",
      "ENGI.PA: Data ready for analysis.\n"
     ]
    },
    {
     "name": "stderr",
     "output_type": "stream",
     "text": [
      "10:34:51 - cmdstanpy - INFO - Chain [1] start processing\n",
      "10:34:51 - cmdstanpy - INFO - Chain [1] done processing\n"
     ]
    },
    {
     "name": "stdout",
     "output_type": "stream",
     "text": [
      "Forecast successful for ENGI.PA.\n",
      "\n",
      "Analyzing EL.PA...\n",
      "EL.PA: Data ready for analysis.\n"
     ]
    },
    {
     "name": "stderr",
     "output_type": "stream",
     "text": [
      "10:34:52 - cmdstanpy - INFO - Chain [1] start processing\n",
      "10:34:52 - cmdstanpy - INFO - Chain [1] done processing\n"
     ]
    },
    {
     "name": "stdout",
     "output_type": "stream",
     "text": [
      "Forecast successful for EL.PA.\n",
      "\n",
      "Analyzing ERF.PA...\n",
      "ERF.PA: Data ready for analysis.\n"
     ]
    },
    {
     "name": "stderr",
     "output_type": "stream",
     "text": [
      "10:34:52 - cmdstanpy - INFO - Chain [1] start processing\n",
      "10:34:53 - cmdstanpy - INFO - Chain [1] done processing\n"
     ]
    },
    {
     "name": "stdout",
     "output_type": "stream",
     "text": [
      "Forecast successful for ERF.PA.\n",
      "\n",
      "Analyzing RMS.PA...\n",
      "RMS.PA: Data ready for analysis.\n"
     ]
    },
    {
     "name": "stderr",
     "output_type": "stream",
     "text": [
      "10:34:53 - cmdstanpy - INFO - Chain [1] start processing\n",
      "10:34:53 - cmdstanpy - INFO - Chain [1] done processing\n"
     ]
    },
    {
     "name": "stdout",
     "output_type": "stream",
     "text": [
      "Forecast successful for RMS.PA.\n",
      "\n",
      "Analyzing KER.PA...\n",
      "KER.PA: Data ready for analysis.\n"
     ]
    },
    {
     "name": "stderr",
     "output_type": "stream",
     "text": [
      "10:34:54 - cmdstanpy - INFO - Chain [1] start processing\n",
      "10:34:54 - cmdstanpy - INFO - Chain [1] done processing\n"
     ]
    },
    {
     "name": "stdout",
     "output_type": "stream",
     "text": [
      "Forecast successful for KER.PA.\n",
      "\n",
      "Analyzing OR.PA...\n",
      "OR.PA: Data ready for analysis.\n"
     ]
    },
    {
     "name": "stderr",
     "output_type": "stream",
     "text": [
      "10:34:55 - cmdstanpy - INFO - Chain [1] start processing\n",
      "10:34:55 - cmdstanpy - INFO - Chain [1] done processing\n"
     ]
    },
    {
     "name": "stdout",
     "output_type": "stream",
     "text": [
      "Forecast successful for OR.PA.\n",
      "\n",
      "Analyzing LR.PA...\n",
      "LR.PA: Data ready for analysis.\n"
     ]
    },
    {
     "name": "stderr",
     "output_type": "stream",
     "text": [
      "10:34:56 - cmdstanpy - INFO - Chain [1] start processing\n",
      "10:34:56 - cmdstanpy - INFO - Chain [1] done processing\n"
     ]
    },
    {
     "name": "stdout",
     "output_type": "stream",
     "text": [
      "Forecast successful for LR.PA.\n",
      "\n",
      "Analyzing MC.PA...\n",
      "MC.PA: Data ready for analysis.\n"
     ]
    },
    {
     "name": "stderr",
     "output_type": "stream",
     "text": [
      "10:34:57 - cmdstanpy - INFO - Chain [1] start processing\n",
      "10:34:57 - cmdstanpy - INFO - Chain [1] done processing\n"
     ]
    },
    {
     "name": "stdout",
     "output_type": "stream",
     "text": [
      "Forecast successful for MC.PA.\n",
      "\n",
      "Analyzing ML.PA...\n",
      "ML.PA: Data ready for analysis.\n"
     ]
    },
    {
     "name": "stderr",
     "output_type": "stream",
     "text": [
      "10:34:57 - cmdstanpy - INFO - Chain [1] start processing\n",
      "10:34:58 - cmdstanpy - INFO - Chain [1] done processing\n"
     ]
    },
    {
     "name": "stdout",
     "output_type": "stream",
     "text": [
      "Forecast successful for ML.PA.\n",
      "\n",
      "Analyzing ORA.PA...\n",
      "ORA.PA: Data ready for analysis.\n"
     ]
    },
    {
     "name": "stderr",
     "output_type": "stream",
     "text": [
      "10:34:58 - cmdstanpy - INFO - Chain [1] start processing\n",
      "10:34:59 - cmdstanpy - INFO - Chain [1] done processing\n"
     ]
    },
    {
     "name": "stdout",
     "output_type": "stream",
     "text": [
      "Forecast successful for ORA.PA.\n",
      "\n",
      "Analyzing RI.PA...\n",
      "RI.PA: Data ready for analysis.\n"
     ]
    },
    {
     "name": "stderr",
     "output_type": "stream",
     "text": [
      "10:34:59 - cmdstanpy - INFO - Chain [1] start processing\n",
      "10:34:59 - cmdstanpy - INFO - Chain [1] done processing\n"
     ]
    },
    {
     "name": "stdout",
     "output_type": "stream",
     "text": [
      "Forecast successful for RI.PA.\n",
      "\n",
      "Analyzing PUB.PA...\n",
      "PUB.PA: Data ready for analysis.\n"
     ]
    },
    {
     "name": "stderr",
     "output_type": "stream",
     "text": [
      "10:35:00 - cmdstanpy - INFO - Chain [1] start processing\n",
      "10:35:00 - cmdstanpy - INFO - Chain [1] done processing\n"
     ]
    },
    {
     "name": "stdout",
     "output_type": "stream",
     "text": [
      "Forecast successful for PUB.PA.\n",
      "\n",
      "Analyzing RNO.PA...\n",
      "RNO.PA: Data ready for analysis.\n"
     ]
    },
    {
     "name": "stderr",
     "output_type": "stream",
     "text": [
      "10:35:01 - cmdstanpy - INFO - Chain [1] start processing\n",
      "10:35:01 - cmdstanpy - INFO - Chain [1] done processing\n"
     ]
    },
    {
     "name": "stdout",
     "output_type": "stream",
     "text": [
      "Forecast successful for RNO.PA.\n",
      "\n",
      "Analyzing SAF.PA...\n",
      "SAF.PA: Data ready for analysis.\n"
     ]
    },
    {
     "name": "stderr",
     "output_type": "stream",
     "text": [
      "10:35:02 - cmdstanpy - INFO - Chain [1] start processing\n",
      "10:35:02 - cmdstanpy - INFO - Chain [1] done processing\n"
     ]
    },
    {
     "name": "stdout",
     "output_type": "stream",
     "text": [
      "Forecast successful for SAF.PA.\n",
      "\n",
      "Analyzing SGO.PA...\n",
      "SGO.PA: Data ready for analysis.\n"
     ]
    },
    {
     "name": "stderr",
     "output_type": "stream",
     "text": [
      "10:35:02 - cmdstanpy - INFO - Chain [1] start processing\n",
      "10:35:03 - cmdstanpy - INFO - Chain [1] done processing\n"
     ]
    },
    {
     "name": "stdout",
     "output_type": "stream",
     "text": [
      "Forecast successful for SGO.PA.\n",
      "\n",
      "Analyzing SAN.PA...\n",
      "SAN.PA: Data ready for analysis.\n"
     ]
    },
    {
     "name": "stderr",
     "output_type": "stream",
     "text": [
      "10:35:03 - cmdstanpy - INFO - Chain [1] start processing\n",
      "10:35:03 - cmdstanpy - INFO - Chain [1] done processing\n"
     ]
    },
    {
     "name": "stdout",
     "output_type": "stream",
     "text": [
      "Forecast successful for SAN.PA.\n",
      "\n",
      "Analyzing SU.PA...\n",
      "SU.PA: Data ready for analysis.\n"
     ]
    },
    {
     "name": "stderr",
     "output_type": "stream",
     "text": [
      "10:35:04 - cmdstanpy - INFO - Chain [1] start processing\n",
      "10:35:04 - cmdstanpy - INFO - Chain [1] done processing\n"
     ]
    },
    {
     "name": "stdout",
     "output_type": "stream",
     "text": [
      "Forecast successful for SU.PA.\n",
      "\n",
      "Analyzing GLE.PA...\n",
      "GLE.PA: Data ready for analysis.\n"
     ]
    },
    {
     "name": "stderr",
     "output_type": "stream",
     "text": [
      "10:35:05 - cmdstanpy - INFO - Chain [1] start processing\n",
      "10:35:05 - cmdstanpy - INFO - Chain [1] done processing\n"
     ]
    },
    {
     "name": "stdout",
     "output_type": "stream",
     "text": [
      "Forecast successful for GLE.PA.\n",
      "\n",
      "Analyzing STLAP.PA...\n",
      "STLAP.PA: Data ready for analysis.\n"
     ]
    },
    {
     "name": "stderr",
     "output_type": "stream",
     "text": [
      "10:35:05 - cmdstanpy - INFO - Chain [1] start processing\n",
      "10:35:06 - cmdstanpy - INFO - Chain [1] done processing\n"
     ]
    },
    {
     "name": "stdout",
     "output_type": "stream",
     "text": [
      "Forecast successful for STLAP.PA.\n",
      "\n",
      "Analyzing STMPA.PA...\n",
      "STMPA.PA: Data ready for analysis.\n"
     ]
    },
    {
     "name": "stderr",
     "output_type": "stream",
     "text": [
      "10:35:06 - cmdstanpy - INFO - Chain [1] start processing\n",
      "10:35:06 - cmdstanpy - INFO - Chain [1] done processing\n"
     ]
    },
    {
     "name": "stdout",
     "output_type": "stream",
     "text": [
      "Forecast successful for STMPA.PA.\n",
      "\n",
      "Analyzing TEP.PA...\n",
      "TEP.PA: Data ready for analysis.\n"
     ]
    },
    {
     "name": "stderr",
     "output_type": "stream",
     "text": [
      "10:35:07 - cmdstanpy - INFO - Chain [1] start processing\n",
      "10:35:07 - cmdstanpy - INFO - Chain [1] done processing\n"
     ]
    },
    {
     "name": "stdout",
     "output_type": "stream",
     "text": [
      "Forecast successful for TEP.PA.\n",
      "\n",
      "Analyzing HO.PA...\n",
      "HO.PA: Data ready for analysis.\n"
     ]
    },
    {
     "name": "stderr",
     "output_type": "stream",
     "text": [
      "10:35:07 - cmdstanpy - INFO - Chain [1] start processing\n",
      "10:35:08 - cmdstanpy - INFO - Chain [1] done processing\n"
     ]
    },
    {
     "name": "stdout",
     "output_type": "stream",
     "text": [
      "Forecast successful for HO.PA.\n",
      "\n",
      "Analyzing TTE.PA...\n"
     ]
    },
    {
     "name": "stderr",
     "output_type": "stream",
     "text": [
      "10:35:08 - cmdstanpy - INFO - Chain [1] start processing\n"
     ]
    },
    {
     "name": "stdout",
     "output_type": "stream",
     "text": [
      "TTE.PA: Data ready for analysis.\n"
     ]
    },
    {
     "name": "stderr",
     "output_type": "stream",
     "text": [
      "10:35:08 - cmdstanpy - INFO - Chain [1] done processing\n",
      "10:35:09 - cmdstanpy - INFO - Chain [1] start processing\n"
     ]
    },
    {
     "name": "stdout",
     "output_type": "stream",
     "text": [
      "Forecast successful for TTE.PA.\n",
      "\n",
      "Analyzing URW.PA...\n",
      "URW.PA: Data ready for analysis.\n"
     ]
    },
    {
     "name": "stderr",
     "output_type": "stream",
     "text": [
      "10:35:09 - cmdstanpy - INFO - Chain [1] done processing\n"
     ]
    },
    {
     "name": "stdout",
     "output_type": "stream",
     "text": [
      "Forecast successful for URW.PA.\n",
      "\n",
      "Analyzing VIE.PA...\n",
      "VIE.PA: Data ready for analysis.\n"
     ]
    },
    {
     "name": "stderr",
     "output_type": "stream",
     "text": [
      "10:35:09 - cmdstanpy - INFO - Chain [1] start processing\n",
      "10:35:09 - cmdstanpy - INFO - Chain [1] done processing\n"
     ]
    },
    {
     "name": "stdout",
     "output_type": "stream",
     "text": [
      "Forecast successful for VIE.PA.\n",
      "\n",
      "Analyzing DG.PA...\n",
      "DG.PA: Data ready for analysis.\n"
     ]
    },
    {
     "name": "stderr",
     "output_type": "stream",
     "text": [
      "10:35:10 - cmdstanpy - INFO - Chain [1] start processing\n",
      "10:35:10 - cmdstanpy - INFO - Chain [1] done processing\n"
     ]
    },
    {
     "name": "stdout",
     "output_type": "stream",
     "text": [
      "Forecast successful for DG.PA.\n",
      "\n",
      "Analyzing VIV.PA...\n",
      "VIV.PA: Data ready for analysis.\n"
     ]
    },
    {
     "name": "stderr",
     "output_type": "stream",
     "text": [
      "10:35:11 - cmdstanpy - INFO - Chain [1] start processing\n",
      "10:35:11 - cmdstanpy - INFO - Chain [1] done processing\n",
      "C:\\Users\\mania\\anaconda3\\Lib\\site-packages\\prophet\\plot.py:72: FutureWarning: The behavior of DatetimeProperties.to_pydatetime is deprecated, in a future version this will return a Series containing python datetime objects instead of an ndarray. To retain the old behavior, call `np.array` on the result\n",
      "  fcst_t = fcst['ds'].dt.to_pydatetime()\n",
      "C:\\Users\\mania\\anaconda3\\Lib\\site-packages\\prophet\\plot.py:73: FutureWarning: The behavior of DatetimeProperties.to_pydatetime is deprecated, in a future version this will return a Series containing python datetime objects instead of an ndarray. To retain the old behavior, call `np.array` on the result\n",
      "  ax.plot(m.history['ds'].dt.to_pydatetime(), m.history['y'], 'k.',\n"
     ]
    },
    {
     "name": "stdout",
     "output_type": "stream",
     "text": [
      "Forecast successful for VIV.PA.\n",
      "\n",
      "Identifying top investment opportunities...\n",
      "\n",
      "Top investment opportunities (predicted growth):\n",
      "STMPA.PA: Predicted growth: 0.51%\n",
      "ERF.PA: Predicted growth: 0.47%\n",
      "AIR.PA: Predicted growth: 0.43%\n",
      "AC.PA: Predicted growth: 0.37%\n",
      "DSY.PA: Predicted growth: 0.36%\n",
      "SAF.PA: Predicted growth: 0.35%\n",
      "SU.PA: Predicted growth: 0.32%\n",
      "CAP.PA: Predicted growth: 0.31%\n",
      "BNP.PA: Predicted growth: 0.22%\n",
      "AI.PA: Predicted growth: 0.21%\n",
      "\n",
      "Saving results...\n",
      "\n",
      "Ranking saved at: cac40_analysis\\ranking.csv\n",
      "Saving predictions for STMPA.PA...\n",
      "Saving predictions for ERF.PA...\n",
      "Saving predictions for AIR.PA...\n",
      "Saving predictions for AC.PA...\n",
      "Saving predictions for DSY.PA...\n",
      "Saving predictions for SAF.PA...\n",
      "Saving predictions for SU.PA...\n",
      "Saving predictions for CAP.PA...\n",
      "Saving predictions for BNP.PA...\n",
      "Saving predictions for AI.PA...\n"
     ]
    }
   ],
   "source": [
    "import os\n",
    "import yfinance as yf\n",
    "from prophet import Prophet\n",
    "import pandas as pd\n",
    "import matplotlib.pyplot as plt\n",
    "import requests\n",
    "\n",
    "def get_cac40_tickers():\n",
    "    \"\"\"\n",
    "    Returns the CAC 40 tickers.\n",
    "    \"\"\"\n",
    "    return [\n",
    "        \"AC.PA\", \"AI.PA\", \"AIR.PA\", \"MT.AS\", \"CS.PA\", \"BNP.PA\", \"EN.PA\",\n",
    "        \"CAP.PA\", \"CA.PA\", \"ACA.PA\", \"BN.PA\", \"DSY.PA\", \"EDEN.PA\", \"ENGI.PA\",\n",
    "        \"EL.PA\", \"ERF.PA\", \"RMS.PA\", \"KER.PA\", \"OR.PA\", \"LR.PA\", \"MC.PA\",\n",
    "        \"ML.PA\", \"ORA.PA\", \"RI.PA\", \"PUB.PA\", \"RNO.PA\", \"SAF.PA\", \"SGO.PA\",\n",
    "        \"SAN.PA\", \"SU.PA\", \"GLE.PA\", \"STLAP.PA\", \"STMPA.PA\", \"TEP.PA\",\n",
    "        \"HO.PA\", \"TTE.PA\", \"URW.PA\", \"VIE.PA\", \"DG.PA\", \"VIV.PA\"\n",
    "    ]\n",
    "\n",
    "def get_stock_data(ticker, start_date, end_date):\n",
    "    try:\n",
    "        data = yf.download(ticker, start=start_date, end=end_date, progress=False)\n",
    "        if data.empty:\n",
    "            print(f\"{ticker}: No data available.\")\n",
    "            return None\n",
    "\n",
    "        if isinstance(data.columns, pd.MultiIndex):\n",
    "            data.columns = [' '.join(col).strip() for col in data.columns.values]\n",
    "\n",
    "        close_col = next((col for col in data.columns if \"Close\" in col and ticker in col), None)\n",
    "        if close_col:\n",
    "            data.reset_index(inplace=True)\n",
    "            data = data[['Date', close_col]].rename(columns={'Date': 'ds', close_col: 'y'})\n",
    "        else:\n",
    "            print(f\"{ticker}: No Close or Adjusted Close column found.\")\n",
    "            return None\n",
    "\n",
    "        data.dropna(inplace=True)\n",
    "\n",
    "        if not pd.api.types.is_numeric_dtype(data['y']):\n",
    "            print(f\"{ticker}: Data is not numeric after processing.\")\n",
    "            return None\n",
    "\n",
    "        if len(data) < 50:\n",
    "            print(f\"{ticker}: Series too short for reliable analysis.\")\n",
    "            return None\n",
    "\n",
    "        return data\n",
    "    except Exception as e:\n",
    "        print(f\"{ticker}: Error fetching data - {e}\")\n",
    "        return None\n",
    "\n",
    "def forecast_stock(data, periods=7):\n",
    "    try:\n",
    "        model = Prophet()\n",
    "        model.fit(data)\n",
    "        future = model.make_future_dataframe(periods=periods)\n",
    "        forecast = model.predict(future)\n",
    "        return forecast, model\n",
    "    except Exception as e:\n",
    "        print(f\"Error forecasting with Prophet: {e}\")\n",
    "        return None, None\n",
    "\n",
    "def analyze_tickers(tickers, start_date, end_date, forecast_days=7):\n",
    "    results = {}\n",
    "    for ticker in tickers:\n",
    "        print(f\"\\nAnalyzing {ticker}...\")\n",
    "        data = get_stock_data(ticker, start_date, end_date)\n",
    "        if data is not None:\n",
    "            print(f\"{ticker}: Data ready for analysis.\")\n",
    "            forecast, model = forecast_stock(data, periods=forecast_days)\n",
    "            if forecast is not None:\n",
    "                print(f\"Forecast successful for {ticker}.\")\n",
    "                results[ticker] = {'data': data, 'forecast': forecast, 'model': model}\n",
    "    return results\n",
    "\n",
    "def find_top_opportunities(results, forecast_days=7):\n",
    "    opportunities = []\n",
    "    for ticker, result in results.items():\n",
    "        forecast = result['forecast']\n",
    "        try:\n",
    "            growth = (forecast['yhat'].iloc[-1] - forecast['yhat'].iloc[-forecast_days]) / forecast['yhat'].iloc[-forecast_days]\n",
    "            opportunities.append((ticker, growth))\n",
    "        except Exception as e:\n",
    "            print(f\"{ticker}: Error calculating growth - {e}\")\n",
    "    opportunities = sorted(opportunities, key=lambda x: x[1], reverse=True)\n",
    "    return opportunities\n",
    "\n",
    "def save_results_and_images(results, top_opportunities, output_dir=\"cac40_analysis\", top_n=None):\n",
    "    os.makedirs(output_dir, exist_ok=True)\n",
    "    ranking_df = pd.DataFrame(top_opportunities, columns=[\"Ticker\", \"Growth\"])\n",
    "    ranking_csv_path = os.path.join(output_dir, \"ranking.csv\")\n",
    "    ranking_df.to_csv(ranking_csv_path, index=False)\n",
    "    print(f\"\\nRanking saved at: {ranking_csv_path}\")\n",
    "\n",
    "    for ticker, _ in top_opportunities[:top_n] if top_n else top_opportunities:\n",
    "        print(f\"Saving predictions for {ticker}...\")\n",
    "        action_dir = os.path.join(output_dir, ticker)\n",
    "        os.makedirs(action_dir, exist_ok=True)\n",
    "\n",
    "        forecast = results[ticker]['forecast']\n",
    "        model = results[ticker]['model']\n",
    "        fig = model.plot(forecast)\n",
    "        fig_path = os.path.join(action_dir, f\"{ticker}_forecast.png\")\n",
    "        fig.savefig(fig_path)\n",
    "        plt.close(fig)\n",
    "\n",
    "if __name__ == \"__main__\":\n",
    "    start_date = '2020-01-01'\n",
    "    end_date = '2024-11-28'\n",
    "    forecast_days = 2\n",
    "\n",
    "    print(\"Fetching CAC 40 tickers...\")\n",
    "    cac40_tickers = get_cac40_tickers()\n",
    "    print(f\"{len(cac40_tickers)} tickers retrieved.\")\n",
    "\n",
    "    print(\"\\nAnalyzing stocks...\")\n",
    "    results = analyze_tickers(cac40_tickers, start_date, end_date, forecast_days)\n",
    "\n",
    "    print(\"\\nIdentifying top investment opportunities...\")\n",
    "    top_opportunities = find_top_opportunities(results, forecast_days=forecast_days)\n",
    "    print(\"\\nTop investment opportunities (predicted growth):\")\n",
    "    for ticker, growth in top_opportunities[:10]:\n",
    "        print(f\"{ticker}: Predicted growth: {growth:.2%}\")\n",
    "\n",
    "    print(\"\\nSaving results...\")\n",
    "    save_results_and_images(results, top_opportunities, output_dir=\"cac40_analysis\", top_n=10)\n"
   ]
  },
  {
   "cell_type": "markdown",
   "id": "88544bfa-e59d-4776-ba27-391b4c93f2ae",
   "metadata": {},
   "source": [
    "# Forecast S&P500"
   ]
  },
  {
   "cell_type": "code",
   "execution_count": 26,
   "id": "fffd6c06-cdd6-4099-9df9-47d1b52b7bb4",
   "metadata": {
    "scrolled": true
   },
   "outputs": [
    {
     "name": "stdout",
     "output_type": "stream",
     "text": [
      "Récupération des tickers du S&P 500...\n"
     ]
    },
    {
     "name": "stderr",
     "output_type": "stream",
     "text": [
      "C:\\Users\\mania\\AppData\\Local\\Temp\\ipykernel_10564\\908370912.py:14: FutureWarning: Passing literal html to 'read_html' is deprecated and will be removed in a future version. To read from a literal string, wrap it in a 'StringIO' object.\n",
      "  tables = pd.read_html(response.text)\n"
     ]
    },
    {
     "name": "stdout",
     "output_type": "stream",
     "text": [
      "503 tickers récupérés.\n",
      "\n",
      "Analyse des actions...\n",
      "\n",
      "Analyse de MMM...\n",
      "MMM: Données prêtes pour l'analyse.\n"
     ]
    },
    {
     "name": "stderr",
     "output_type": "stream",
     "text": [
      "10:58:23 - cmdstanpy - INFO - Chain [1] start processing\n",
      "10:58:24 - cmdstanpy - INFO - Chain [1] done processing\n"
     ]
    },
    {
     "name": "stdout",
     "output_type": "stream",
     "text": [
      "Prévision réussie pour MMM.\n",
      "\n",
      "Analyse de AOS...\n",
      "AOS: Données prêtes pour l'analyse.\n"
     ]
    },
    {
     "name": "stderr",
     "output_type": "stream",
     "text": [
      "10:58:24 - cmdstanpy - INFO - Chain [1] start processing\n",
      "10:58:25 - cmdstanpy - INFO - Chain [1] done processing\n"
     ]
    },
    {
     "name": "stdout",
     "output_type": "stream",
     "text": [
      "Prévision réussie pour AOS.\n",
      "\n",
      "Analyse de ABT...\n",
      "ABT: Données prêtes pour l'analyse.\n"
     ]
    },
    {
     "name": "stderr",
     "output_type": "stream",
     "text": [
      "10:58:25 - cmdstanpy - INFO - Chain [1] start processing\n",
      "10:58:26 - cmdstanpy - INFO - Chain [1] done processing\n"
     ]
    },
    {
     "name": "stdout",
     "output_type": "stream",
     "text": [
      "Prévision réussie pour ABT.\n",
      "\n",
      "Analyse de ABBV...\n",
      "ABBV: Données prêtes pour l'analyse.\n"
     ]
    },
    {
     "name": "stderr",
     "output_type": "stream",
     "text": [
      "10:58:26 - cmdstanpy - INFO - Chain [1] start processing\n",
      "10:58:27 - cmdstanpy - INFO - Chain [1] done processing\n"
     ]
    },
    {
     "name": "stdout",
     "output_type": "stream",
     "text": [
      "Prévision réussie pour ABBV.\n",
      "\n",
      "Analyse de ACN...\n",
      "ACN: Données prêtes pour l'analyse.\n"
     ]
    },
    {
     "name": "stderr",
     "output_type": "stream",
     "text": [
      "10:58:27 - cmdstanpy - INFO - Chain [1] start processing\n",
      "10:58:28 - cmdstanpy - INFO - Chain [1] done processing\n"
     ]
    },
    {
     "name": "stdout",
     "output_type": "stream",
     "text": [
      "Prévision réussie pour ACN.\n",
      "\n",
      "Analyse de ADBE...\n",
      "ADBE: Données prêtes pour l'analyse.\n"
     ]
    },
    {
     "name": "stderr",
     "output_type": "stream",
     "text": [
      "10:58:28 - cmdstanpy - INFO - Chain [1] start processing\n",
      "10:58:29 - cmdstanpy - INFO - Chain [1] done processing\n"
     ]
    },
    {
     "name": "stdout",
     "output_type": "stream",
     "text": [
      "Prévision réussie pour ADBE.\n",
      "\n",
      "Analyse de AMD...\n",
      "AMD: Données prêtes pour l'analyse.\n"
     ]
    },
    {
     "name": "stderr",
     "output_type": "stream",
     "text": [
      "10:58:29 - cmdstanpy - INFO - Chain [1] start processing\n",
      "10:58:29 - cmdstanpy - INFO - Chain [1] done processing\n"
     ]
    },
    {
     "name": "stdout",
     "output_type": "stream",
     "text": [
      "Prévision réussie pour AMD.\n",
      "\n",
      "Analyse de AES...\n",
      "AES: Données prêtes pour l'analyse.\n"
     ]
    },
    {
     "name": "stderr",
     "output_type": "stream",
     "text": [
      "10:58:30 - cmdstanpy - INFO - Chain [1] start processing\n",
      "10:58:31 - cmdstanpy - INFO - Chain [1] done processing\n"
     ]
    },
    {
     "name": "stdout",
     "output_type": "stream",
     "text": [
      "Prévision réussie pour AES.\n",
      "\n",
      "Analyse de AFL...\n",
      "AFL: Données prêtes pour l'analyse.\n"
     ]
    },
    {
     "name": "stderr",
     "output_type": "stream",
     "text": [
      "10:58:31 - cmdstanpy - INFO - Chain [1] start processing\n",
      "10:58:32 - cmdstanpy - INFO - Chain [1] done processing\n"
     ]
    },
    {
     "name": "stdout",
     "output_type": "stream",
     "text": [
      "Prévision réussie pour AFL.\n",
      "\n",
      "Analyse de A...\n",
      "A: Données prêtes pour l'analyse.\n"
     ]
    },
    {
     "name": "stderr",
     "output_type": "stream",
     "text": [
      "10:58:32 - cmdstanpy - INFO - Chain [1] start processing\n",
      "10:58:32 - cmdstanpy - INFO - Chain [1] done processing\n"
     ]
    },
    {
     "name": "stdout",
     "output_type": "stream",
     "text": [
      "Prévision réussie pour A.\n",
      "\n",
      "Analyse de APD...\n",
      "APD: Données prêtes pour l'analyse.\n"
     ]
    },
    {
     "name": "stderr",
     "output_type": "stream",
     "text": [
      "10:58:33 - cmdstanpy - INFO - Chain [1] start processing\n",
      "10:58:33 - cmdstanpy - INFO - Chain [1] done processing\n"
     ]
    },
    {
     "name": "stdout",
     "output_type": "stream",
     "text": [
      "Prévision réussie pour APD.\n",
      "\n",
      "Analyse de ABNB...\n",
      "ABNB: Données prêtes pour l'analyse.\n"
     ]
    },
    {
     "name": "stderr",
     "output_type": "stream",
     "text": [
      "10:58:34 - cmdstanpy - INFO - Chain [1] start processing\n",
      "10:58:34 - cmdstanpy - INFO - Chain [1] done processing\n"
     ]
    },
    {
     "name": "stdout",
     "output_type": "stream",
     "text": [
      "Prévision réussie pour ABNB.\n",
      "\n",
      "Analyse de AKAM...\n",
      "AKAM: Données prêtes pour l'analyse.\n"
     ]
    },
    {
     "name": "stderr",
     "output_type": "stream",
     "text": [
      "10:58:35 - cmdstanpy - INFO - Chain [1] start processing\n",
      "10:58:35 - cmdstanpy - INFO - Chain [1] done processing\n"
     ]
    },
    {
     "name": "stdout",
     "output_type": "stream",
     "text": [
      "Prévision réussie pour AKAM.\n",
      "\n",
      "Analyse de ALB...\n",
      "ALB: Données prêtes pour l'analyse.\n"
     ]
    },
    {
     "name": "stderr",
     "output_type": "stream",
     "text": [
      "10:58:36 - cmdstanpy - INFO - Chain [1] start processing\n",
      "10:58:36 - cmdstanpy - INFO - Chain [1] done processing\n"
     ]
    },
    {
     "name": "stdout",
     "output_type": "stream",
     "text": [
      "Prévision réussie pour ALB.\n",
      "\n",
      "Analyse de ARE...\n",
      "ARE: Données prêtes pour l'analyse.\n"
     ]
    },
    {
     "name": "stderr",
     "output_type": "stream",
     "text": [
      "10:58:36 - cmdstanpy - INFO - Chain [1] start processing\n",
      "10:58:37 - cmdstanpy - INFO - Chain [1] done processing\n"
     ]
    },
    {
     "name": "stdout",
     "output_type": "stream",
     "text": [
      "Prévision réussie pour ARE.\n",
      "\n",
      "Analyse de ALGN...\n",
      "ALGN: Données prêtes pour l'analyse.\n"
     ]
    },
    {
     "name": "stderr",
     "output_type": "stream",
     "text": [
      "10:58:38 - cmdstanpy - INFO - Chain [1] start processing\n",
      "10:58:38 - cmdstanpy - INFO - Chain [1] done processing\n"
     ]
    },
    {
     "name": "stdout",
     "output_type": "stream",
     "text": [
      "Prévision réussie pour ALGN.\n",
      "\n",
      "Analyse de ALLE...\n",
      "ALLE: Données prêtes pour l'analyse.\n"
     ]
    },
    {
     "name": "stderr",
     "output_type": "stream",
     "text": [
      "10:58:39 - cmdstanpy - INFO - Chain [1] start processing\n",
      "10:58:39 - cmdstanpy - INFO - Chain [1] done processing\n"
     ]
    },
    {
     "name": "stdout",
     "output_type": "stream",
     "text": [
      "Prévision réussie pour ALLE.\n",
      "\n",
      "Analyse de LNT...\n",
      "LNT: Données prêtes pour l'analyse.\n"
     ]
    },
    {
     "name": "stderr",
     "output_type": "stream",
     "text": [
      "10:58:40 - cmdstanpy - INFO - Chain [1] start processing\n",
      "10:58:40 - cmdstanpy - INFO - Chain [1] done processing\n"
     ]
    },
    {
     "name": "stdout",
     "output_type": "stream",
     "text": [
      "Prévision réussie pour LNT.\n",
      "\n",
      "Analyse de ALL...\n",
      "ALL: Données prêtes pour l'analyse.\n"
     ]
    },
    {
     "name": "stderr",
     "output_type": "stream",
     "text": [
      "10:58:41 - cmdstanpy - INFO - Chain [1] start processing\n",
      "10:58:41 - cmdstanpy - INFO - Chain [1] done processing\n"
     ]
    },
    {
     "name": "stdout",
     "output_type": "stream",
     "text": [
      "Prévision réussie pour ALL.\n",
      "\n",
      "Analyse de GOOGL...\n",
      "GOOGL: Données prêtes pour l'analyse.\n"
     ]
    },
    {
     "name": "stderr",
     "output_type": "stream",
     "text": [
      "10:58:42 - cmdstanpy - INFO - Chain [1] start processing\n",
      "10:58:42 - cmdstanpy - INFO - Chain [1] done processing\n"
     ]
    },
    {
     "name": "stdout",
     "output_type": "stream",
     "text": [
      "Prévision réussie pour GOOGL.\n",
      "\n",
      "Analyse de GOOG...\n",
      "GOOG: Données prêtes pour l'analyse.\n"
     ]
    },
    {
     "name": "stderr",
     "output_type": "stream",
     "text": [
      "10:58:43 - cmdstanpy - INFO - Chain [1] start processing\n",
      "10:58:43 - cmdstanpy - INFO - Chain [1] done processing\n"
     ]
    },
    {
     "name": "stdout",
     "output_type": "stream",
     "text": [
      "Prévision réussie pour GOOG.\n",
      "\n",
      "Analyse de MO...\n",
      "MO: Données prêtes pour l'analyse.\n"
     ]
    },
    {
     "name": "stderr",
     "output_type": "stream",
     "text": [
      "10:58:44 - cmdstanpy - INFO - Chain [1] start processing\n",
      "10:58:44 - cmdstanpy - INFO - Chain [1] done processing\n"
     ]
    },
    {
     "name": "stdout",
     "output_type": "stream",
     "text": [
      "Prévision réussie pour MO.\n",
      "\n",
      "Analyse de AMZN...\n",
      "AMZN: Données prêtes pour l'analyse.\n"
     ]
    },
    {
     "name": "stderr",
     "output_type": "stream",
     "text": [
      "10:58:45 - cmdstanpy - INFO - Chain [1] start processing\n",
      "10:58:45 - cmdstanpy - INFO - Chain [1] done processing\n"
     ]
    },
    {
     "name": "stdout",
     "output_type": "stream",
     "text": [
      "Prévision réussie pour AMZN.\n",
      "\n",
      "Analyse de AMCR...\n",
      "AMCR: Données prêtes pour l'analyse.\n"
     ]
    },
    {
     "name": "stderr",
     "output_type": "stream",
     "text": [
      "10:58:45 - cmdstanpy - INFO - Chain [1] start processing\n",
      "10:58:46 - cmdstanpy - INFO - Chain [1] done processing\n"
     ]
    },
    {
     "name": "stdout",
     "output_type": "stream",
     "text": [
      "Prévision réussie pour AMCR.\n",
      "\n",
      "Analyse de AMTM...\n"
     ]
    },
    {
     "name": "stderr",
     "output_type": "stream",
     "text": [
      "\n",
      "1 Failed download:\n",
      "['AMTM']: YFPricesMissingError('$%ticker%: possibly delisted; no price data found  (1d 2020-01-01 -> 2023-11-01) (Yahoo error = \"Data doesn\\'t exist for startDate = 1577854800, endDate = 1698811200\")')\n"
     ]
    },
    {
     "name": "stdout",
     "output_type": "stream",
     "text": [
      "AMTM: Pas de données disponibles.\n",
      "\n",
      "Analyse de AEE...\n",
      "AEE: Données prêtes pour l'analyse.\n"
     ]
    },
    {
     "name": "stderr",
     "output_type": "stream",
     "text": [
      "10:58:47 - cmdstanpy - INFO - Chain [1] start processing\n",
      "10:58:47 - cmdstanpy - INFO - Chain [1] done processing\n"
     ]
    },
    {
     "name": "stdout",
     "output_type": "stream",
     "text": [
      "Prévision réussie pour AEE.\n",
      "\n",
      "Analyse de AEP...\n",
      "AEP: Données prêtes pour l'analyse.\n"
     ]
    },
    {
     "name": "stderr",
     "output_type": "stream",
     "text": [
      "10:58:48 - cmdstanpy - INFO - Chain [1] start processing\n",
      "10:58:48 - cmdstanpy - INFO - Chain [1] done processing\n"
     ]
    },
    {
     "name": "stdout",
     "output_type": "stream",
     "text": [
      "Prévision réussie pour AEP.\n",
      "\n",
      "Analyse de AXP...\n",
      "AXP: Données prêtes pour l'analyse.\n"
     ]
    },
    {
     "name": "stderr",
     "output_type": "stream",
     "text": [
      "10:58:49 - cmdstanpy - INFO - Chain [1] start processing\n",
      "10:58:49 - cmdstanpy - INFO - Chain [1] done processing\n"
     ]
    },
    {
     "name": "stdout",
     "output_type": "stream",
     "text": [
      "Prévision réussie pour AXP.\n",
      "\n",
      "Analyse de AIG...\n",
      "AIG: Données prêtes pour l'analyse.\n"
     ]
    },
    {
     "name": "stderr",
     "output_type": "stream",
     "text": [
      "10:58:50 - cmdstanpy - INFO - Chain [1] start processing\n",
      "10:58:50 - cmdstanpy - INFO - Chain [1] done processing\n"
     ]
    },
    {
     "name": "stdout",
     "output_type": "stream",
     "text": [
      "Prévision réussie pour AIG.\n",
      "\n",
      "Analyse de AMT...\n",
      "AMT: Données prêtes pour l'analyse.\n"
     ]
    },
    {
     "name": "stderr",
     "output_type": "stream",
     "text": [
      "10:58:51 - cmdstanpy - INFO - Chain [1] start processing\n",
      "10:58:51 - cmdstanpy - INFO - Chain [1] done processing\n"
     ]
    },
    {
     "name": "stdout",
     "output_type": "stream",
     "text": [
      "Prévision réussie pour AMT.\n",
      "\n",
      "Analyse de AWK...\n",
      "AWK: Données prêtes pour l'analyse.\n"
     ]
    },
    {
     "name": "stderr",
     "output_type": "stream",
     "text": [
      "10:58:52 - cmdstanpy - INFO - Chain [1] start processing\n",
      "10:58:52 - cmdstanpy - INFO - Chain [1] done processing\n"
     ]
    },
    {
     "name": "stdout",
     "output_type": "stream",
     "text": [
      "Prévision réussie pour AWK.\n",
      "\n",
      "Analyse de AMP...\n",
      "AMP: Données prêtes pour l'analyse.\n"
     ]
    },
    {
     "name": "stderr",
     "output_type": "stream",
     "text": [
      "10:58:53 - cmdstanpy - INFO - Chain [1] start processing\n",
      "10:58:53 - cmdstanpy - INFO - Chain [1] done processing\n"
     ]
    },
    {
     "name": "stdout",
     "output_type": "stream",
     "text": [
      "Prévision réussie pour AMP.\n",
      "\n",
      "Analyse de AME...\n",
      "AME: Données prêtes pour l'analyse.\n"
     ]
    },
    {
     "name": "stderr",
     "output_type": "stream",
     "text": [
      "10:58:54 - cmdstanpy - INFO - Chain [1] start processing\n",
      "10:58:54 - cmdstanpy - INFO - Chain [1] done processing\n"
     ]
    },
    {
     "name": "stdout",
     "output_type": "stream",
     "text": [
      "Prévision réussie pour AME.\n",
      "\n",
      "Analyse de AMGN...\n",
      "AMGN: Données prêtes pour l'analyse.\n"
     ]
    },
    {
     "name": "stderr",
     "output_type": "stream",
     "text": [
      "10:58:55 - cmdstanpy - INFO - Chain [1] start processing\n",
      "10:58:55 - cmdstanpy - INFO - Chain [1] done processing\n"
     ]
    },
    {
     "name": "stdout",
     "output_type": "stream",
     "text": [
      "Prévision réussie pour AMGN.\n",
      "\n",
      "Analyse de APH...\n",
      "APH: Données prêtes pour l'analyse.\n"
     ]
    },
    {
     "name": "stderr",
     "output_type": "stream",
     "text": [
      "10:58:56 - cmdstanpy - INFO - Chain [1] start processing\n",
      "10:58:56 - cmdstanpy - INFO - Chain [1] done processing\n"
     ]
    },
    {
     "name": "stdout",
     "output_type": "stream",
     "text": [
      "Prévision réussie pour APH.\n",
      "\n",
      "Analyse de ADI...\n",
      "ADI: Données prêtes pour l'analyse.\n"
     ]
    },
    {
     "name": "stderr",
     "output_type": "stream",
     "text": [
      "10:58:57 - cmdstanpy - INFO - Chain [1] start processing\n",
      "10:58:57 - cmdstanpy - INFO - Chain [1] done processing\n"
     ]
    },
    {
     "name": "stdout",
     "output_type": "stream",
     "text": [
      "Prévision réussie pour ADI.\n",
      "\n",
      "Analyse de ANSS...\n",
      "ANSS: Données prêtes pour l'analyse.\n"
     ]
    },
    {
     "name": "stderr",
     "output_type": "stream",
     "text": [
      "10:58:58 - cmdstanpy - INFO - Chain [1] start processing\n",
      "10:58:58 - cmdstanpy - INFO - Chain [1] done processing\n"
     ]
    },
    {
     "name": "stdout",
     "output_type": "stream",
     "text": [
      "Prévision réussie pour ANSS.\n",
      "\n",
      "Analyse de AON...\n",
      "AON: Données prêtes pour l'analyse.\n"
     ]
    },
    {
     "name": "stderr",
     "output_type": "stream",
     "text": [
      "10:58:59 - cmdstanpy - INFO - Chain [1] start processing\n",
      "10:58:59 - cmdstanpy - INFO - Chain [1] done processing\n"
     ]
    },
    {
     "name": "stdout",
     "output_type": "stream",
     "text": [
      "Prévision réussie pour AON.\n",
      "\n",
      "Analyse de APA...\n",
      "APA: Données prêtes pour l'analyse.\n"
     ]
    },
    {
     "name": "stderr",
     "output_type": "stream",
     "text": [
      "10:59:00 - cmdstanpy - INFO - Chain [1] start processing\n",
      "10:59:00 - cmdstanpy - INFO - Chain [1] done processing\n"
     ]
    },
    {
     "name": "stdout",
     "output_type": "stream",
     "text": [
      "Prévision réussie pour APA.\n",
      "\n",
      "Analyse de AAPL...\n",
      "AAPL: Données prêtes pour l'analyse.\n"
     ]
    },
    {
     "name": "stderr",
     "output_type": "stream",
     "text": [
      "10:59:01 - cmdstanpy - INFO - Chain [1] start processing\n",
      "10:59:01 - cmdstanpy - INFO - Chain [1] done processing\n"
     ]
    },
    {
     "name": "stdout",
     "output_type": "stream",
     "text": [
      "Prévision réussie pour AAPL.\n",
      "\n",
      "Analyse de AMAT...\n",
      "AMAT: Données prêtes pour l'analyse.\n"
     ]
    },
    {
     "name": "stderr",
     "output_type": "stream",
     "text": [
      "10:59:02 - cmdstanpy - INFO - Chain [1] start processing\n",
      "10:59:02 - cmdstanpy - INFO - Chain [1] done processing\n"
     ]
    },
    {
     "name": "stdout",
     "output_type": "stream",
     "text": [
      "Prévision réussie pour AMAT.\n",
      "\n",
      "Analyse de APTV...\n",
      "APTV: Données prêtes pour l'analyse.\n"
     ]
    },
    {
     "name": "stderr",
     "output_type": "stream",
     "text": [
      "10:59:02 - cmdstanpy - INFO - Chain [1] start processing\n",
      "10:59:03 - cmdstanpy - INFO - Chain [1] done processing\n"
     ]
    },
    {
     "name": "stdout",
     "output_type": "stream",
     "text": [
      "Prévision réussie pour APTV.\n",
      "\n",
      "Analyse de ACGL...\n",
      "ACGL: Données prêtes pour l'analyse.\n"
     ]
    },
    {
     "name": "stderr",
     "output_type": "stream",
     "text": [
      "10:59:03 - cmdstanpy - INFO - Chain [1] start processing\n",
      "10:59:04 - cmdstanpy - INFO - Chain [1] done processing\n"
     ]
    },
    {
     "name": "stdout",
     "output_type": "stream",
     "text": [
      "Prévision réussie pour ACGL.\n",
      "\n",
      "Analyse de ADM...\n",
      "ADM: Données prêtes pour l'analyse.\n"
     ]
    },
    {
     "name": "stderr",
     "output_type": "stream",
     "text": [
      "10:59:04 - cmdstanpy - INFO - Chain [1] start processing\n",
      "10:59:05 - cmdstanpy - INFO - Chain [1] done processing\n"
     ]
    },
    {
     "name": "stdout",
     "output_type": "stream",
     "text": [
      "Prévision réussie pour ADM.\n",
      "\n",
      "Analyse de ANET...\n",
      "ANET: Données prêtes pour l'analyse.\n"
     ]
    },
    {
     "name": "stderr",
     "output_type": "stream",
     "text": [
      "10:59:05 - cmdstanpy - INFO - Chain [1] start processing\n",
      "10:59:06 - cmdstanpy - INFO - Chain [1] done processing\n"
     ]
    },
    {
     "name": "stdout",
     "output_type": "stream",
     "text": [
      "Prévision réussie pour ANET.\n",
      "\n",
      "Analyse de AJG...\n",
      "AJG: Données prêtes pour l'analyse.\n"
     ]
    },
    {
     "name": "stderr",
     "output_type": "stream",
     "text": [
      "10:59:06 - cmdstanpy - INFO - Chain [1] start processing\n",
      "10:59:06 - cmdstanpy - INFO - Chain [1] done processing\n"
     ]
    },
    {
     "name": "stdout",
     "output_type": "stream",
     "text": [
      "Prévision réussie pour AJG.\n",
      "\n",
      "Analyse de AIZ...\n",
      "AIZ: Données prêtes pour l'analyse.\n"
     ]
    },
    {
     "name": "stderr",
     "output_type": "stream",
     "text": [
      "10:59:07 - cmdstanpy - INFO - Chain [1] start processing\n",
      "10:59:08 - cmdstanpy - INFO - Chain [1] done processing\n"
     ]
    },
    {
     "name": "stdout",
     "output_type": "stream",
     "text": [
      "Prévision réussie pour AIZ.\n",
      "\n",
      "Analyse de T...\n",
      "T: Données prêtes pour l'analyse.\n"
     ]
    },
    {
     "name": "stderr",
     "output_type": "stream",
     "text": [
      "10:59:08 - cmdstanpy - INFO - Chain [1] start processing\n",
      "10:59:08 - cmdstanpy - INFO - Chain [1] done processing\n"
     ]
    },
    {
     "name": "stdout",
     "output_type": "stream",
     "text": [
      "Prévision réussie pour T.\n",
      "\n",
      "Analyse de ATO...\n",
      "ATO: Données prêtes pour l'analyse.\n"
     ]
    },
    {
     "name": "stderr",
     "output_type": "stream",
     "text": [
      "10:59:09 - cmdstanpy - INFO - Chain [1] start processing\n",
      "10:59:09 - cmdstanpy - INFO - Chain [1] done processing\n"
     ]
    },
    {
     "name": "stdout",
     "output_type": "stream",
     "text": [
      "Prévision réussie pour ATO.\n",
      "\n",
      "Analyse de ADSK...\n",
      "ADSK: Données prêtes pour l'analyse.\n"
     ]
    },
    {
     "name": "stderr",
     "output_type": "stream",
     "text": [
      "10:59:10 - cmdstanpy - INFO - Chain [1] start processing\n",
      "10:59:10 - cmdstanpy - INFO - Chain [1] done processing\n"
     ]
    },
    {
     "name": "stdout",
     "output_type": "stream",
     "text": [
      "Prévision réussie pour ADSK.\n",
      "\n",
      "Analyse de ADP...\n",
      "ADP: Données prêtes pour l'analyse.\n"
     ]
    },
    {
     "name": "stderr",
     "output_type": "stream",
     "text": [
      "10:59:11 - cmdstanpy - INFO - Chain [1] start processing\n",
      "10:59:11 - cmdstanpy - INFO - Chain [1] done processing\n"
     ]
    },
    {
     "name": "stdout",
     "output_type": "stream",
     "text": [
      "Prévision réussie pour ADP.\n",
      "\n",
      "Analyse de AZO...\n",
      "AZO: Données prêtes pour l'analyse.\n"
     ]
    },
    {
     "name": "stderr",
     "output_type": "stream",
     "text": [
      "10:59:12 - cmdstanpy - INFO - Chain [1] start processing\n",
      "10:59:12 - cmdstanpy - INFO - Chain [1] done processing\n"
     ]
    },
    {
     "name": "stdout",
     "output_type": "stream",
     "text": [
      "Prévision réussie pour AZO.\n",
      "\n",
      "Analyse de AVB...\n",
      "AVB: Données prêtes pour l'analyse.\n"
     ]
    },
    {
     "name": "stderr",
     "output_type": "stream",
     "text": [
      "10:59:13 - cmdstanpy - INFO - Chain [1] start processing\n",
      "10:59:13 - cmdstanpy - INFO - Chain [1] done processing\n"
     ]
    },
    {
     "name": "stdout",
     "output_type": "stream",
     "text": [
      "Prévision réussie pour AVB.\n",
      "\n",
      "Analyse de AVY...\n",
      "AVY: Données prêtes pour l'analyse.\n"
     ]
    },
    {
     "name": "stderr",
     "output_type": "stream",
     "text": [
      "10:59:13 - cmdstanpy - INFO - Chain [1] start processing\n",
      "10:59:14 - cmdstanpy - INFO - Chain [1] done processing\n"
     ]
    },
    {
     "name": "stdout",
     "output_type": "stream",
     "text": [
      "Prévision réussie pour AVY.\n",
      "\n",
      "Analyse de AXON...\n",
      "AXON: Données prêtes pour l'analyse.\n"
     ]
    },
    {
     "name": "stderr",
     "output_type": "stream",
     "text": [
      "10:59:14 - cmdstanpy - INFO - Chain [1] start processing\n",
      "10:59:15 - cmdstanpy - INFO - Chain [1] done processing\n"
     ]
    },
    {
     "name": "stdout",
     "output_type": "stream",
     "text": [
      "Prévision réussie pour AXON.\n",
      "\n",
      "Analyse de BKR...\n",
      "BKR: Données prêtes pour l'analyse.\n"
     ]
    },
    {
     "name": "stderr",
     "output_type": "stream",
     "text": [
      "10:59:15 - cmdstanpy - INFO - Chain [1] start processing\n",
      "10:59:16 - cmdstanpy - INFO - Chain [1] done processing\n"
     ]
    },
    {
     "name": "stdout",
     "output_type": "stream",
     "text": [
      "Prévision réussie pour BKR.\n",
      "\n",
      "Analyse de BALL...\n",
      "BALL: Données prêtes pour l'analyse.\n"
     ]
    },
    {
     "name": "stderr",
     "output_type": "stream",
     "text": [
      "10:59:16 - cmdstanpy - INFO - Chain [1] start processing\n",
      "10:59:17 - cmdstanpy - INFO - Chain [1] done processing\n"
     ]
    },
    {
     "name": "stdout",
     "output_type": "stream",
     "text": [
      "Prévision réussie pour BALL.\n",
      "\n",
      "Analyse de BAC...\n",
      "BAC: Données prêtes pour l'analyse.\n"
     ]
    },
    {
     "name": "stderr",
     "output_type": "stream",
     "text": [
      "10:59:17 - cmdstanpy - INFO - Chain [1] start processing\n",
      "10:59:17 - cmdstanpy - INFO - Chain [1] done processing\n"
     ]
    },
    {
     "name": "stdout",
     "output_type": "stream",
     "text": [
      "Prévision réussie pour BAC.\n",
      "\n",
      "Analyse de BAX...\n",
      "BAX: Données prêtes pour l'analyse.\n"
     ]
    },
    {
     "name": "stderr",
     "output_type": "stream",
     "text": [
      "10:59:18 - cmdstanpy - INFO - Chain [1] start processing\n",
      "10:59:19 - cmdstanpy - INFO - Chain [1] done processing\n"
     ]
    },
    {
     "name": "stdout",
     "output_type": "stream",
     "text": [
      "Prévision réussie pour BAX.\n",
      "\n",
      "Analyse de BDX...\n",
      "BDX: Données prêtes pour l'analyse.\n"
     ]
    },
    {
     "name": "stderr",
     "output_type": "stream",
     "text": [
      "10:59:19 - cmdstanpy - INFO - Chain [1] start processing\n",
      "10:59:20 - cmdstanpy - INFO - Chain [1] done processing\n"
     ]
    },
    {
     "name": "stdout",
     "output_type": "stream",
     "text": [
      "Prévision réussie pour BDX.\n",
      "\n",
      "Analyse de BRK.B...\n"
     ]
    },
    {
     "name": "stderr",
     "output_type": "stream",
     "text": [
      "\n",
      "1 Failed download:\n",
      "['BRK.B']: YFTzMissingError('$%ticker%: possibly delisted; no timezone found')\n"
     ]
    },
    {
     "name": "stdout",
     "output_type": "stream",
     "text": [
      "BRK.B: Pas de données disponibles.\n",
      "\n",
      "Analyse de BBY...\n",
      "BBY: Données prêtes pour l'analyse.\n"
     ]
    },
    {
     "name": "stderr",
     "output_type": "stream",
     "text": [
      "10:59:21 - cmdstanpy - INFO - Chain [1] start processing\n",
      "10:59:21 - cmdstanpy - INFO - Chain [1] done processing\n"
     ]
    },
    {
     "name": "stdout",
     "output_type": "stream",
     "text": [
      "Prévision réussie pour BBY.\n",
      "\n",
      "Analyse de TECH...\n",
      "TECH: Données prêtes pour l'analyse.\n"
     ]
    },
    {
     "name": "stderr",
     "output_type": "stream",
     "text": [
      "10:59:22 - cmdstanpy - INFO - Chain [1] start processing\n",
      "10:59:22 - cmdstanpy - INFO - Chain [1] done processing\n"
     ]
    },
    {
     "name": "stdout",
     "output_type": "stream",
     "text": [
      "Prévision réussie pour TECH.\n",
      "\n",
      "Analyse de BIIB...\n",
      "BIIB: Données prêtes pour l'analyse.\n"
     ]
    },
    {
     "name": "stderr",
     "output_type": "stream",
     "text": [
      "10:59:23 - cmdstanpy - INFO - Chain [1] start processing\n",
      "10:59:23 - cmdstanpy - INFO - Chain [1] done processing\n"
     ]
    },
    {
     "name": "stdout",
     "output_type": "stream",
     "text": [
      "Prévision réussie pour BIIB.\n",
      "\n",
      "Analyse de BLK...\n",
      "BLK: Données prêtes pour l'analyse.\n"
     ]
    },
    {
     "name": "stderr",
     "output_type": "stream",
     "text": [
      "10:59:23 - cmdstanpy - INFO - Chain [1] start processing\n",
      "10:59:24 - cmdstanpy - INFO - Chain [1] done processing\n"
     ]
    },
    {
     "name": "stdout",
     "output_type": "stream",
     "text": [
      "Prévision réussie pour BLK.\n",
      "\n",
      "Analyse de BX...\n",
      "BX: Données prêtes pour l'analyse.\n"
     ]
    },
    {
     "name": "stderr",
     "output_type": "stream",
     "text": [
      "10:59:25 - cmdstanpy - INFO - Chain [1] start processing\n",
      "10:59:25 - cmdstanpy - INFO - Chain [1] done processing\n"
     ]
    },
    {
     "name": "stdout",
     "output_type": "stream",
     "text": [
      "Prévision réussie pour BX.\n",
      "\n",
      "Analyse de BK...\n",
      "BK: Données prêtes pour l'analyse.\n"
     ]
    },
    {
     "name": "stderr",
     "output_type": "stream",
     "text": [
      "10:59:25 - cmdstanpy - INFO - Chain [1] start processing\n",
      "10:59:26 - cmdstanpy - INFO - Chain [1] done processing\n"
     ]
    },
    {
     "name": "stdout",
     "output_type": "stream",
     "text": [
      "Prévision réussie pour BK.\n",
      "\n",
      "Analyse de BA...\n",
      "BA: Données prêtes pour l'analyse.\n"
     ]
    },
    {
     "name": "stderr",
     "output_type": "stream",
     "text": [
      "10:59:26 - cmdstanpy - INFO - Chain [1] start processing\n",
      "10:59:27 - cmdstanpy - INFO - Chain [1] done processing\n"
     ]
    },
    {
     "name": "stdout",
     "output_type": "stream",
     "text": [
      "Prévision réussie pour BA.\n",
      "\n",
      "Analyse de BKNG...\n",
      "BKNG: Données prêtes pour l'analyse.\n"
     ]
    },
    {
     "name": "stderr",
     "output_type": "stream",
     "text": [
      "10:59:27 - cmdstanpy - INFO - Chain [1] start processing\n",
      "10:59:28 - cmdstanpy - INFO - Chain [1] done processing\n"
     ]
    },
    {
     "name": "stdout",
     "output_type": "stream",
     "text": [
      "Prévision réussie pour BKNG.\n",
      "\n",
      "Analyse de BWA...\n",
      "BWA: Données prêtes pour l'analyse.\n"
     ]
    },
    {
     "name": "stderr",
     "output_type": "stream",
     "text": [
      "10:59:29 - cmdstanpy - INFO - Chain [1] start processing\n",
      "10:59:29 - cmdstanpy - INFO - Chain [1] done processing\n"
     ]
    },
    {
     "name": "stdout",
     "output_type": "stream",
     "text": [
      "Prévision réussie pour BWA.\n",
      "\n",
      "Analyse de BSX...\n",
      "BSX: Données prêtes pour l'analyse.\n"
     ]
    },
    {
     "name": "stderr",
     "output_type": "stream",
     "text": [
      "10:59:29 - cmdstanpy - INFO - Chain [1] start processing\n",
      "10:59:30 - cmdstanpy - INFO - Chain [1] done processing\n"
     ]
    },
    {
     "name": "stdout",
     "output_type": "stream",
     "text": [
      "Prévision réussie pour BSX.\n",
      "\n",
      "Analyse de BMY...\n",
      "BMY: Données prêtes pour l'analyse.\n"
     ]
    },
    {
     "name": "stderr",
     "output_type": "stream",
     "text": [
      "10:59:31 - cmdstanpy - INFO - Chain [1] start processing\n",
      "10:59:31 - cmdstanpy - INFO - Chain [1] done processing\n"
     ]
    },
    {
     "name": "stdout",
     "output_type": "stream",
     "text": [
      "Prévision réussie pour BMY.\n",
      "\n",
      "Analyse de AVGO...\n",
      "AVGO: Données prêtes pour l'analyse.\n"
     ]
    },
    {
     "name": "stderr",
     "output_type": "stream",
     "text": [
      "10:59:32 - cmdstanpy - INFO - Chain [1] start processing\n",
      "10:59:32 - cmdstanpy - INFO - Chain [1] done processing\n"
     ]
    },
    {
     "name": "stdout",
     "output_type": "stream",
     "text": [
      "Prévision réussie pour AVGO.\n",
      "\n",
      "Analyse de BR...\n",
      "BR: Données prêtes pour l'analyse.\n"
     ]
    },
    {
     "name": "stderr",
     "output_type": "stream",
     "text": [
      "10:59:33 - cmdstanpy - INFO - Chain [1] start processing\n",
      "10:59:33 - cmdstanpy - INFO - Chain [1] done processing\n"
     ]
    },
    {
     "name": "stdout",
     "output_type": "stream",
     "text": [
      "Prévision réussie pour BR.\n",
      "\n",
      "Analyse de BRO...\n",
      "BRO: Données prêtes pour l'analyse.\n"
     ]
    },
    {
     "name": "stderr",
     "output_type": "stream",
     "text": [
      "10:59:33 - cmdstanpy - INFO - Chain [1] start processing\n",
      "10:59:34 - cmdstanpy - INFO - Chain [1] done processing\n",
      "\n",
      "1 Failed download:\n",
      "['BF.B']: YFPricesMissingError('$%ticker%: possibly delisted; no price data found  (1d 2020-01-01 -> 2023-11-01)')\n"
     ]
    },
    {
     "name": "stdout",
     "output_type": "stream",
     "text": [
      "Prévision réussie pour BRO.\n",
      "\n",
      "Analyse de BF.B...\n",
      "BF.B: Pas de données disponibles.\n",
      "\n",
      "Analyse de BLDR...\n",
      "BLDR: Données prêtes pour l'analyse.\n"
     ]
    },
    {
     "name": "stderr",
     "output_type": "stream",
     "text": [
      "10:59:34 - cmdstanpy - INFO - Chain [1] start processing\n",
      "10:59:35 - cmdstanpy - INFO - Chain [1] done processing\n"
     ]
    },
    {
     "name": "stdout",
     "output_type": "stream",
     "text": [
      "Prévision réussie pour BLDR.\n",
      "\n",
      "Analyse de BG...\n",
      "BG: Données prêtes pour l'analyse.\n"
     ]
    },
    {
     "name": "stderr",
     "output_type": "stream",
     "text": [
      "10:59:35 - cmdstanpy - INFO - Chain [1] start processing\n",
      "10:59:36 - cmdstanpy - INFO - Chain [1] done processing\n"
     ]
    },
    {
     "name": "stdout",
     "output_type": "stream",
     "text": [
      "Prévision réussie pour BG.\n",
      "\n",
      "Analyse de BXP...\n",
      "BXP: Données prêtes pour l'analyse.\n"
     ]
    },
    {
     "name": "stderr",
     "output_type": "stream",
     "text": [
      "10:59:36 - cmdstanpy - INFO - Chain [1] start processing\n",
      "10:59:37 - cmdstanpy - INFO - Chain [1] done processing\n"
     ]
    },
    {
     "name": "stdout",
     "output_type": "stream",
     "text": [
      "Prévision réussie pour BXP.\n",
      "\n",
      "Analyse de CHRW...\n",
      "CHRW: Données prêtes pour l'analyse.\n"
     ]
    },
    {
     "name": "stderr",
     "output_type": "stream",
     "text": [
      "10:59:37 - cmdstanpy - INFO - Chain [1] start processing\n",
      "10:59:38 - cmdstanpy - INFO - Chain [1] done processing\n"
     ]
    },
    {
     "name": "stdout",
     "output_type": "stream",
     "text": [
      "Prévision réussie pour CHRW.\n",
      "\n",
      "Analyse de CDNS...\n",
      "CDNS: Données prêtes pour l'analyse.\n"
     ]
    },
    {
     "name": "stderr",
     "output_type": "stream",
     "text": [
      "10:59:38 - cmdstanpy - INFO - Chain [1] start processing\n",
      "10:59:39 - cmdstanpy - INFO - Chain [1] done processing\n"
     ]
    },
    {
     "name": "stdout",
     "output_type": "stream",
     "text": [
      "Prévision réussie pour CDNS.\n",
      "\n",
      "Analyse de CZR...\n",
      "CZR: Données prêtes pour l'analyse.\n"
     ]
    },
    {
     "name": "stderr",
     "output_type": "stream",
     "text": [
      "10:59:39 - cmdstanpy - INFO - Chain [1] start processing\n",
      "10:59:39 - cmdstanpy - INFO - Chain [1] done processing\n"
     ]
    },
    {
     "name": "stdout",
     "output_type": "stream",
     "text": [
      "Prévision réussie pour CZR.\n",
      "\n",
      "Analyse de CPT...\n",
      "CPT: Données prêtes pour l'analyse.\n"
     ]
    },
    {
     "name": "stderr",
     "output_type": "stream",
     "text": [
      "10:59:40 - cmdstanpy - INFO - Chain [1] start processing\n",
      "10:59:40 - cmdstanpy - INFO - Chain [1] done processing\n"
     ]
    },
    {
     "name": "stdout",
     "output_type": "stream",
     "text": [
      "Prévision réussie pour CPT.\n",
      "\n",
      "Analyse de CPB...\n",
      "CPB: Données prêtes pour l'analyse.\n"
     ]
    },
    {
     "name": "stderr",
     "output_type": "stream",
     "text": [
      "10:59:41 - cmdstanpy - INFO - Chain [1] start processing\n",
      "10:59:41 - cmdstanpy - INFO - Chain [1] done processing\n"
     ]
    },
    {
     "name": "stdout",
     "output_type": "stream",
     "text": [
      "Prévision réussie pour CPB.\n",
      "\n",
      "Analyse de COF...\n",
      "COF: Données prêtes pour l'analyse.\n"
     ]
    },
    {
     "name": "stderr",
     "output_type": "stream",
     "text": [
      "10:59:42 - cmdstanpy - INFO - Chain [1] start processing\n",
      "10:59:42 - cmdstanpy - INFO - Chain [1] done processing\n"
     ]
    },
    {
     "name": "stdout",
     "output_type": "stream",
     "text": [
      "Prévision réussie pour COF.\n",
      "\n",
      "Analyse de CAH...\n",
      "CAH: Données prêtes pour l'analyse.\n"
     ]
    },
    {
     "name": "stderr",
     "output_type": "stream",
     "text": [
      "10:59:43 - cmdstanpy - INFO - Chain [1] start processing\n",
      "10:59:43 - cmdstanpy - INFO - Chain [1] done processing\n"
     ]
    },
    {
     "name": "stdout",
     "output_type": "stream",
     "text": [
      "Prévision réussie pour CAH.\n",
      "\n",
      "Analyse de KMX...\n",
      "KMX: Données prêtes pour l'analyse.\n"
     ]
    },
    {
     "name": "stderr",
     "output_type": "stream",
     "text": [
      "10:59:44 - cmdstanpy - INFO - Chain [1] start processing\n",
      "10:59:44 - cmdstanpy - INFO - Chain [1] done processing\n"
     ]
    },
    {
     "name": "stdout",
     "output_type": "stream",
     "text": [
      "Prévision réussie pour KMX.\n",
      "\n",
      "Analyse de CCL...\n",
      "CCL: Données prêtes pour l'analyse.\n"
     ]
    },
    {
     "name": "stderr",
     "output_type": "stream",
     "text": [
      "10:59:45 - cmdstanpy - INFO - Chain [1] start processing\n",
      "10:59:45 - cmdstanpy - INFO - Chain [1] done processing\n"
     ]
    },
    {
     "name": "stdout",
     "output_type": "stream",
     "text": [
      "Prévision réussie pour CCL.\n",
      "\n",
      "Analyse de CARR...\n",
      "CARR: Données prêtes pour l'analyse.\n"
     ]
    },
    {
     "name": "stderr",
     "output_type": "stream",
     "text": [
      "10:59:46 - cmdstanpy - INFO - Chain [1] start processing\n",
      "10:59:46 - cmdstanpy - INFO - Chain [1] done processing\n"
     ]
    },
    {
     "name": "stdout",
     "output_type": "stream",
     "text": [
      "Prévision réussie pour CARR.\n",
      "\n",
      "Analyse de CTLT...\n",
      "CTLT: Données prêtes pour l'analyse.\n"
     ]
    },
    {
     "name": "stderr",
     "output_type": "stream",
     "text": [
      "10:59:47 - cmdstanpy - INFO - Chain [1] start processing\n",
      "10:59:47 - cmdstanpy - INFO - Chain [1] done processing\n"
     ]
    },
    {
     "name": "stdout",
     "output_type": "stream",
     "text": [
      "Prévision réussie pour CTLT.\n",
      "\n",
      "Analyse de CAT...\n",
      "CAT: Données prêtes pour l'analyse.\n"
     ]
    },
    {
     "name": "stderr",
     "output_type": "stream",
     "text": [
      "10:59:48 - cmdstanpy - INFO - Chain [1] start processing\n",
      "10:59:48 - cmdstanpy - INFO - Chain [1] done processing\n"
     ]
    },
    {
     "name": "stdout",
     "output_type": "stream",
     "text": [
      "Prévision réussie pour CAT.\n",
      "\n",
      "Analyse de CBOE...\n",
      "CBOE: Données prêtes pour l'analyse.\n"
     ]
    },
    {
     "name": "stderr",
     "output_type": "stream",
     "text": [
      "10:59:49 - cmdstanpy - INFO - Chain [1] start processing\n",
      "10:59:49 - cmdstanpy - INFO - Chain [1] done processing\n"
     ]
    },
    {
     "name": "stdout",
     "output_type": "stream",
     "text": [
      "Prévision réussie pour CBOE.\n",
      "\n",
      "Analyse de CBRE...\n",
      "CBRE: Données prêtes pour l'analyse.\n"
     ]
    },
    {
     "name": "stderr",
     "output_type": "stream",
     "text": [
      "10:59:50 - cmdstanpy - INFO - Chain [1] start processing\n",
      "10:59:50 - cmdstanpy - INFO - Chain [1] done processing\n"
     ]
    },
    {
     "name": "stdout",
     "output_type": "stream",
     "text": [
      "Prévision réussie pour CBRE.\n",
      "\n",
      "Analyse de CDW...\n",
      "CDW: Données prêtes pour l'analyse.\n"
     ]
    },
    {
     "name": "stderr",
     "output_type": "stream",
     "text": [
      "10:59:51 - cmdstanpy - INFO - Chain [1] start processing\n",
      "10:59:51 - cmdstanpy - INFO - Chain [1] done processing\n"
     ]
    },
    {
     "name": "stdout",
     "output_type": "stream",
     "text": [
      "Prévision réussie pour CDW.\n",
      "\n",
      "Analyse de CE...\n",
      "CE: Données prêtes pour l'analyse.\n"
     ]
    },
    {
     "name": "stderr",
     "output_type": "stream",
     "text": [
      "10:59:52 - cmdstanpy - INFO - Chain [1] start processing\n",
      "10:59:52 - cmdstanpy - INFO - Chain [1] done processing\n"
     ]
    },
    {
     "name": "stdout",
     "output_type": "stream",
     "text": [
      "Prévision réussie pour CE.\n",
      "\n",
      "Analyse de COR...\n",
      "COR: Données prêtes pour l'analyse.\n"
     ]
    },
    {
     "name": "stderr",
     "output_type": "stream",
     "text": [
      "10:59:53 - cmdstanpy - INFO - Chain [1] start processing\n",
      "10:59:53 - cmdstanpy - INFO - Chain [1] done processing\n"
     ]
    },
    {
     "name": "stdout",
     "output_type": "stream",
     "text": [
      "Prévision réussie pour COR.\n",
      "\n",
      "Analyse de CNC...\n",
      "CNC: Données prêtes pour l'analyse.\n"
     ]
    },
    {
     "name": "stderr",
     "output_type": "stream",
     "text": [
      "10:59:54 - cmdstanpy - INFO - Chain [1] start processing\n",
      "10:59:54 - cmdstanpy - INFO - Chain [1] done processing\n"
     ]
    },
    {
     "name": "stdout",
     "output_type": "stream",
     "text": [
      "Prévision réussie pour CNC.\n",
      "\n",
      "Analyse de CNP...\n",
      "CNP: Données prêtes pour l'analyse.\n"
     ]
    },
    {
     "name": "stderr",
     "output_type": "stream",
     "text": [
      "10:59:55 - cmdstanpy - INFO - Chain [1] start processing\n",
      "10:59:55 - cmdstanpy - INFO - Chain [1] done processing\n"
     ]
    },
    {
     "name": "stdout",
     "output_type": "stream",
     "text": [
      "Prévision réussie pour CNP.\n",
      "\n",
      "Analyse de CF...\n",
      "CF: Données prêtes pour l'analyse.\n"
     ]
    },
    {
     "name": "stderr",
     "output_type": "stream",
     "text": [
      "10:59:55 - cmdstanpy - INFO - Chain [1] start processing\n",
      "10:59:56 - cmdstanpy - INFO - Chain [1] done processing\n"
     ]
    },
    {
     "name": "stdout",
     "output_type": "stream",
     "text": [
      "Prévision réussie pour CF.\n",
      "\n",
      "Analyse de CRL...\n",
      "CRL: Données prêtes pour l'analyse.\n"
     ]
    },
    {
     "name": "stderr",
     "output_type": "stream",
     "text": [
      "10:59:56 - cmdstanpy - INFO - Chain [1] start processing\n",
      "10:59:57 - cmdstanpy - INFO - Chain [1] done processing\n"
     ]
    },
    {
     "name": "stdout",
     "output_type": "stream",
     "text": [
      "Prévision réussie pour CRL.\n",
      "\n",
      "Analyse de SCHW...\n",
      "SCHW: Données prêtes pour l'analyse.\n"
     ]
    },
    {
     "name": "stderr",
     "output_type": "stream",
     "text": [
      "10:59:57 - cmdstanpy - INFO - Chain [1] start processing\n",
      "10:59:58 - cmdstanpy - INFO - Chain [1] done processing\n"
     ]
    },
    {
     "name": "stdout",
     "output_type": "stream",
     "text": [
      "Prévision réussie pour SCHW.\n",
      "\n",
      "Analyse de CHTR...\n",
      "CHTR: Données prêtes pour l'analyse.\n"
     ]
    },
    {
     "name": "stderr",
     "output_type": "stream",
     "text": [
      "10:59:59 - cmdstanpy - INFO - Chain [1] start processing\n",
      "10:59:59 - cmdstanpy - INFO - Chain [1] done processing\n"
     ]
    },
    {
     "name": "stdout",
     "output_type": "stream",
     "text": [
      "Prévision réussie pour CHTR.\n",
      "\n",
      "Analyse de CVX...\n",
      "CVX: Données prêtes pour l'analyse.\n"
     ]
    },
    {
     "name": "stderr",
     "output_type": "stream",
     "text": [
      "11:00:00 - cmdstanpy - INFO - Chain [1] start processing\n",
      "11:00:00 - cmdstanpy - INFO - Chain [1] done processing\n"
     ]
    },
    {
     "name": "stdout",
     "output_type": "stream",
     "text": [
      "Prévision réussie pour CVX.\n",
      "\n",
      "Analyse de CMG...\n",
      "CMG: Données prêtes pour l'analyse.\n"
     ]
    },
    {
     "name": "stderr",
     "output_type": "stream",
     "text": [
      "11:00:01 - cmdstanpy - INFO - Chain [1] start processing\n",
      "11:00:01 - cmdstanpy - INFO - Chain [1] done processing\n"
     ]
    },
    {
     "name": "stdout",
     "output_type": "stream",
     "text": [
      "Prévision réussie pour CMG.\n",
      "\n",
      "Analyse de CB...\n",
      "CB: Données prêtes pour l'analyse.\n"
     ]
    },
    {
     "name": "stderr",
     "output_type": "stream",
     "text": [
      "11:00:01 - cmdstanpy - INFO - Chain [1] start processing\n",
      "11:00:02 - cmdstanpy - INFO - Chain [1] done processing\n"
     ]
    },
    {
     "name": "stdout",
     "output_type": "stream",
     "text": [
      "Prévision réussie pour CB.\n",
      "\n",
      "Analyse de CHD...\n",
      "CHD: Données prêtes pour l'analyse.\n"
     ]
    },
    {
     "name": "stderr",
     "output_type": "stream",
     "text": [
      "11:00:02 - cmdstanpy - INFO - Chain [1] start processing\n",
      "11:00:03 - cmdstanpy - INFO - Chain [1] done processing\n"
     ]
    },
    {
     "name": "stdout",
     "output_type": "stream",
     "text": [
      "Prévision réussie pour CHD.\n",
      "\n",
      "Analyse de CI...\n",
      "CI: Données prêtes pour l'analyse.\n"
     ]
    },
    {
     "name": "stderr",
     "output_type": "stream",
     "text": [
      "11:00:03 - cmdstanpy - INFO - Chain [1] start processing\n",
      "11:00:04 - cmdstanpy - INFO - Chain [1] done processing\n"
     ]
    },
    {
     "name": "stdout",
     "output_type": "stream",
     "text": [
      "Prévision réussie pour CI.\n",
      "\n",
      "Analyse de CINF...\n",
      "CINF: Données prêtes pour l'analyse.\n"
     ]
    },
    {
     "name": "stderr",
     "output_type": "stream",
     "text": [
      "11:00:04 - cmdstanpy - INFO - Chain [1] start processing\n",
      "11:00:05 - cmdstanpy - INFO - Chain [1] done processing\n"
     ]
    },
    {
     "name": "stdout",
     "output_type": "stream",
     "text": [
      "Prévision réussie pour CINF.\n",
      "\n",
      "Analyse de CTAS...\n",
      "CTAS: Données prêtes pour l'analyse.\n"
     ]
    },
    {
     "name": "stderr",
     "output_type": "stream",
     "text": [
      "11:00:05 - cmdstanpy - INFO - Chain [1] start processing\n",
      "11:00:06 - cmdstanpy - INFO - Chain [1] done processing\n"
     ]
    },
    {
     "name": "stdout",
     "output_type": "stream",
     "text": [
      "Prévision réussie pour CTAS.\n",
      "\n",
      "Analyse de CSCO...\n",
      "CSCO: Données prêtes pour l'analyse.\n"
     ]
    },
    {
     "name": "stderr",
     "output_type": "stream",
     "text": [
      "11:00:06 - cmdstanpy - INFO - Chain [1] start processing\n",
      "11:00:07 - cmdstanpy - INFO - Chain [1] done processing\n"
     ]
    },
    {
     "name": "stdout",
     "output_type": "stream",
     "text": [
      "Prévision réussie pour CSCO.\n",
      "\n",
      "Analyse de C...\n",
      "C: Données prêtes pour l'analyse.\n"
     ]
    },
    {
     "name": "stderr",
     "output_type": "stream",
     "text": [
      "11:00:07 - cmdstanpy - INFO - Chain [1] start processing\n",
      "11:00:08 - cmdstanpy - INFO - Chain [1] done processing\n"
     ]
    },
    {
     "name": "stdout",
     "output_type": "stream",
     "text": [
      "Prévision réussie pour C.\n",
      "\n",
      "Analyse de CFG...\n",
      "CFG: Données prêtes pour l'analyse.\n"
     ]
    },
    {
     "name": "stderr",
     "output_type": "stream",
     "text": [
      "11:00:08 - cmdstanpy - INFO - Chain [1] start processing\n",
      "11:00:09 - cmdstanpy - INFO - Chain [1] done processing\n"
     ]
    },
    {
     "name": "stdout",
     "output_type": "stream",
     "text": [
      "Prévision réussie pour CFG.\n",
      "\n",
      "Analyse de CLX...\n",
      "CLX: Données prêtes pour l'analyse.\n"
     ]
    },
    {
     "name": "stderr",
     "output_type": "stream",
     "text": [
      "11:00:09 - cmdstanpy - INFO - Chain [1] start processing\n",
      "11:00:10 - cmdstanpy - INFO - Chain [1] done processing\n"
     ]
    },
    {
     "name": "stdout",
     "output_type": "stream",
     "text": [
      "Prévision réussie pour CLX.\n",
      "\n",
      "Analyse de CME...\n",
      "CME: Données prêtes pour l'analyse.\n"
     ]
    },
    {
     "name": "stderr",
     "output_type": "stream",
     "text": [
      "11:00:10 - cmdstanpy - INFO - Chain [1] start processing\n",
      "11:00:10 - cmdstanpy - INFO - Chain [1] done processing\n"
     ]
    },
    {
     "name": "stdout",
     "output_type": "stream",
     "text": [
      "Prévision réussie pour CME.\n",
      "\n",
      "Analyse de CMS...\n",
      "CMS: Données prêtes pour l'analyse.\n"
     ]
    },
    {
     "name": "stderr",
     "output_type": "stream",
     "text": [
      "11:00:11 - cmdstanpy - INFO - Chain [1] start processing\n",
      "11:00:12 - cmdstanpy - INFO - Chain [1] done processing\n"
     ]
    },
    {
     "name": "stdout",
     "output_type": "stream",
     "text": [
      "Prévision réussie pour CMS.\n",
      "\n",
      "Analyse de KO...\n",
      "KO: Données prêtes pour l'analyse.\n"
     ]
    },
    {
     "name": "stderr",
     "output_type": "stream",
     "text": [
      "11:00:12 - cmdstanpy - INFO - Chain [1] start processing\n",
      "11:00:12 - cmdstanpy - INFO - Chain [1] done processing\n"
     ]
    },
    {
     "name": "stdout",
     "output_type": "stream",
     "text": [
      "Prévision réussie pour KO.\n",
      "\n",
      "Analyse de CTSH...\n",
      "CTSH: Données prêtes pour l'analyse.\n"
     ]
    },
    {
     "name": "stderr",
     "output_type": "stream",
     "text": [
      "11:00:13 - cmdstanpy - INFO - Chain [1] start processing\n",
      "11:00:13 - cmdstanpy - INFO - Chain [1] done processing\n"
     ]
    },
    {
     "name": "stdout",
     "output_type": "stream",
     "text": [
      "Prévision réussie pour CTSH.\n",
      "\n",
      "Analyse de CL...\n",
      "CL: Données prêtes pour l'analyse.\n"
     ]
    },
    {
     "name": "stderr",
     "output_type": "stream",
     "text": [
      "11:00:14 - cmdstanpy - INFO - Chain [1] start processing\n",
      "11:00:15 - cmdstanpy - INFO - Chain [1] done processing\n"
     ]
    },
    {
     "name": "stdout",
     "output_type": "stream",
     "text": [
      "Prévision réussie pour CL.\n",
      "\n",
      "Analyse de CMCSA...\n",
      "CMCSA: Données prêtes pour l'analyse.\n"
     ]
    },
    {
     "name": "stderr",
     "output_type": "stream",
     "text": [
      "11:00:15 - cmdstanpy - INFO - Chain [1] start processing\n",
      "11:00:16 - cmdstanpy - INFO - Chain [1] done processing\n"
     ]
    },
    {
     "name": "stdout",
     "output_type": "stream",
     "text": [
      "Prévision réussie pour CMCSA.\n",
      "\n",
      "Analyse de CAG...\n",
      "CAG: Données prêtes pour l'analyse.\n"
     ]
    },
    {
     "name": "stderr",
     "output_type": "stream",
     "text": [
      "11:00:16 - cmdstanpy - INFO - Chain [1] start processing\n",
      "11:00:17 - cmdstanpy - INFO - Chain [1] done processing\n"
     ]
    },
    {
     "name": "stdout",
     "output_type": "stream",
     "text": [
      "Prévision réussie pour CAG.\n",
      "\n",
      "Analyse de COP...\n",
      "COP: Données prêtes pour l'analyse.\n"
     ]
    },
    {
     "name": "stderr",
     "output_type": "stream",
     "text": [
      "11:00:17 - cmdstanpy - INFO - Chain [1] start processing\n",
      "11:00:18 - cmdstanpy - INFO - Chain [1] done processing\n"
     ]
    },
    {
     "name": "stdout",
     "output_type": "stream",
     "text": [
      "Prévision réussie pour COP.\n",
      "\n",
      "Analyse de ED...\n",
      "ED: Données prêtes pour l'analyse.\n"
     ]
    },
    {
     "name": "stderr",
     "output_type": "stream",
     "text": [
      "11:00:19 - cmdstanpy - INFO - Chain [1] start processing\n",
      "11:00:19 - cmdstanpy - INFO - Chain [1] done processing\n"
     ]
    },
    {
     "name": "stdout",
     "output_type": "stream",
     "text": [
      "Prévision réussie pour ED.\n",
      "\n",
      "Analyse de STZ...\n",
      "STZ: Données prêtes pour l'analyse.\n"
     ]
    },
    {
     "name": "stderr",
     "output_type": "stream",
     "text": [
      "11:00:20 - cmdstanpy - INFO - Chain [1] start processing\n",
      "11:00:20 - cmdstanpy - INFO - Chain [1] done processing\n"
     ]
    },
    {
     "name": "stdout",
     "output_type": "stream",
     "text": [
      "Prévision réussie pour STZ.\n",
      "\n",
      "Analyse de CEG...\n",
      "CEG: Données prêtes pour l'analyse.\n"
     ]
    },
    {
     "name": "stderr",
     "output_type": "stream",
     "text": [
      "11:00:20 - cmdstanpy - INFO - Chain [1] start processing\n",
      "11:00:21 - cmdstanpy - INFO - Chain [1] done processing\n"
     ]
    },
    {
     "name": "stdout",
     "output_type": "stream",
     "text": [
      "Prévision réussie pour CEG.\n",
      "\n",
      "Analyse de COO...\n",
      "COO: Données prêtes pour l'analyse.\n"
     ]
    },
    {
     "name": "stderr",
     "output_type": "stream",
     "text": [
      "11:00:21 - cmdstanpy - INFO - Chain [1] start processing\n",
      "11:00:21 - cmdstanpy - INFO - Chain [1] done processing\n"
     ]
    },
    {
     "name": "stdout",
     "output_type": "stream",
     "text": [
      "Prévision réussie pour COO.\n",
      "\n",
      "Analyse de CPRT...\n",
      "CPRT: Données prêtes pour l'analyse.\n"
     ]
    },
    {
     "name": "stderr",
     "output_type": "stream",
     "text": [
      "11:00:22 - cmdstanpy - INFO - Chain [1] start processing\n",
      "11:00:22 - cmdstanpy - INFO - Chain [1] done processing\n"
     ]
    },
    {
     "name": "stdout",
     "output_type": "stream",
     "text": [
      "Prévision réussie pour CPRT.\n",
      "\n",
      "Analyse de GLW...\n",
      "GLW: Données prêtes pour l'analyse.\n"
     ]
    },
    {
     "name": "stderr",
     "output_type": "stream",
     "text": [
      "11:00:23 - cmdstanpy - INFO - Chain [1] start processing\n",
      "11:00:23 - cmdstanpy - INFO - Chain [1] done processing\n"
     ]
    },
    {
     "name": "stdout",
     "output_type": "stream",
     "text": [
      "Prévision réussie pour GLW.\n",
      "\n",
      "Analyse de CPAY...\n",
      "CPAY: Données prêtes pour l'analyse.\n"
     ]
    },
    {
     "name": "stderr",
     "output_type": "stream",
     "text": [
      "11:00:24 - cmdstanpy - INFO - Chain [1] start processing\n",
      "11:00:24 - cmdstanpy - INFO - Chain [1] done processing\n"
     ]
    },
    {
     "name": "stdout",
     "output_type": "stream",
     "text": [
      "Prévision réussie pour CPAY.\n",
      "\n",
      "Analyse de CTVA...\n",
      "CTVA: Données prêtes pour l'analyse.\n"
     ]
    },
    {
     "name": "stderr",
     "output_type": "stream",
     "text": [
      "11:00:25 - cmdstanpy - INFO - Chain [1] start processing\n",
      "11:00:25 - cmdstanpy - INFO - Chain [1] done processing\n"
     ]
    },
    {
     "name": "stdout",
     "output_type": "stream",
     "text": [
      "Prévision réussie pour CTVA.\n",
      "\n",
      "Analyse de CSGP...\n",
      "CSGP: Données prêtes pour l'analyse.\n"
     ]
    },
    {
     "name": "stderr",
     "output_type": "stream",
     "text": [
      "11:00:26 - cmdstanpy - INFO - Chain [1] start processing\n",
      "11:00:26 - cmdstanpy - INFO - Chain [1] done processing\n"
     ]
    },
    {
     "name": "stdout",
     "output_type": "stream",
     "text": [
      "Prévision réussie pour CSGP.\n",
      "\n",
      "Analyse de COST...\n",
      "COST: Données prêtes pour l'analyse.\n"
     ]
    },
    {
     "name": "stderr",
     "output_type": "stream",
     "text": [
      "11:00:27 - cmdstanpy - INFO - Chain [1] start processing\n",
      "11:00:27 - cmdstanpy - INFO - Chain [1] done processing\n"
     ]
    },
    {
     "name": "stdout",
     "output_type": "stream",
     "text": [
      "Prévision réussie pour COST.\n",
      "\n",
      "Analyse de CTRA...\n",
      "CTRA: Données prêtes pour l'analyse.\n"
     ]
    },
    {
     "name": "stderr",
     "output_type": "stream",
     "text": [
      "11:00:28 - cmdstanpy - INFO - Chain [1] start processing\n",
      "11:00:28 - cmdstanpy - INFO - Chain [1] done processing\n"
     ]
    },
    {
     "name": "stdout",
     "output_type": "stream",
     "text": [
      "Prévision réussie pour CTRA.\n",
      "\n",
      "Analyse de CRWD...\n",
      "CRWD: Données prêtes pour l'analyse.\n"
     ]
    },
    {
     "name": "stderr",
     "output_type": "stream",
     "text": [
      "11:00:29 - cmdstanpy - INFO - Chain [1] start processing\n",
      "11:00:29 - cmdstanpy - INFO - Chain [1] done processing\n"
     ]
    },
    {
     "name": "stdout",
     "output_type": "stream",
     "text": [
      "Prévision réussie pour CRWD.\n",
      "\n",
      "Analyse de CCI...\n",
      "CCI: Données prêtes pour l'analyse.\n"
     ]
    },
    {
     "name": "stderr",
     "output_type": "stream",
     "text": [
      "11:00:30 - cmdstanpy - INFO - Chain [1] start processing\n",
      "11:00:30 - cmdstanpy - INFO - Chain [1] done processing\n"
     ]
    },
    {
     "name": "stdout",
     "output_type": "stream",
     "text": [
      "Prévision réussie pour CCI.\n",
      "\n",
      "Analyse de CSX...\n",
      "CSX: Données prêtes pour l'analyse.\n"
     ]
    },
    {
     "name": "stderr",
     "output_type": "stream",
     "text": [
      "11:00:31 - cmdstanpy - INFO - Chain [1] start processing\n",
      "11:00:31 - cmdstanpy - INFO - Chain [1] done processing\n"
     ]
    },
    {
     "name": "stdout",
     "output_type": "stream",
     "text": [
      "Prévision réussie pour CSX.\n",
      "\n",
      "Analyse de CMI...\n",
      "CMI: Données prêtes pour l'analyse.\n"
     ]
    },
    {
     "name": "stderr",
     "output_type": "stream",
     "text": [
      "11:00:32 - cmdstanpy - INFO - Chain [1] start processing\n",
      "11:00:32 - cmdstanpy - INFO - Chain [1] done processing\n"
     ]
    },
    {
     "name": "stdout",
     "output_type": "stream",
     "text": [
      "Prévision réussie pour CMI.\n",
      "\n",
      "Analyse de CVS...\n",
      "CVS: Données prêtes pour l'analyse.\n"
     ]
    },
    {
     "name": "stderr",
     "output_type": "stream",
     "text": [
      "11:00:33 - cmdstanpy - INFO - Chain [1] start processing\n",
      "11:00:33 - cmdstanpy - INFO - Chain [1] done processing\n"
     ]
    },
    {
     "name": "stdout",
     "output_type": "stream",
     "text": [
      "Prévision réussie pour CVS.\n",
      "\n",
      "Analyse de DHR...\n",
      "DHR: Données prêtes pour l'analyse.\n"
     ]
    },
    {
     "name": "stderr",
     "output_type": "stream",
     "text": [
      "11:00:34 - cmdstanpy - INFO - Chain [1] start processing\n",
      "11:00:34 - cmdstanpy - INFO - Chain [1] done processing\n"
     ]
    },
    {
     "name": "stdout",
     "output_type": "stream",
     "text": [
      "Prévision réussie pour DHR.\n",
      "\n",
      "Analyse de DRI...\n",
      "DRI: Données prêtes pour l'analyse.\n"
     ]
    },
    {
     "name": "stderr",
     "output_type": "stream",
     "text": [
      "11:00:35 - cmdstanpy - INFO - Chain [1] start processing\n",
      "11:00:35 - cmdstanpy - INFO - Chain [1] done processing\n"
     ]
    },
    {
     "name": "stdout",
     "output_type": "stream",
     "text": [
      "Prévision réussie pour DRI.\n",
      "\n",
      "Analyse de DVA...\n",
      "DVA: Données prêtes pour l'analyse.\n"
     ]
    },
    {
     "name": "stderr",
     "output_type": "stream",
     "text": [
      "11:00:36 - cmdstanpy - INFO - Chain [1] start processing\n",
      "11:00:36 - cmdstanpy - INFO - Chain [1] done processing\n"
     ]
    },
    {
     "name": "stdout",
     "output_type": "stream",
     "text": [
      "Prévision réussie pour DVA.\n",
      "\n",
      "Analyse de DAY...\n",
      "DAY: Données prêtes pour l'analyse.\n"
     ]
    },
    {
     "name": "stderr",
     "output_type": "stream",
     "text": [
      "11:00:37 - cmdstanpy - INFO - Chain [1] start processing\n",
      "11:00:37 - cmdstanpy - INFO - Chain [1] done processing\n"
     ]
    },
    {
     "name": "stdout",
     "output_type": "stream",
     "text": [
      "Prévision réussie pour DAY.\n",
      "\n",
      "Analyse de DECK...\n",
      "DECK: Données prêtes pour l'analyse.\n"
     ]
    },
    {
     "name": "stderr",
     "output_type": "stream",
     "text": [
      "11:00:37 - cmdstanpy - INFO - Chain [1] start processing\n",
      "11:00:38 - cmdstanpy - INFO - Chain [1] done processing\n"
     ]
    },
    {
     "name": "stdout",
     "output_type": "stream",
     "text": [
      "Prévision réussie pour DECK.\n",
      "\n",
      "Analyse de DE...\n",
      "DE: Données prêtes pour l'analyse.\n"
     ]
    },
    {
     "name": "stderr",
     "output_type": "stream",
     "text": [
      "11:00:38 - cmdstanpy - INFO - Chain [1] start processing\n",
      "11:00:39 - cmdstanpy - INFO - Chain [1] done processing\n"
     ]
    },
    {
     "name": "stdout",
     "output_type": "stream",
     "text": [
      "Prévision réussie pour DE.\n",
      "\n",
      "Analyse de DELL...\n",
      "DELL: Données prêtes pour l'analyse.\n"
     ]
    },
    {
     "name": "stderr",
     "output_type": "stream",
     "text": [
      "11:00:39 - cmdstanpy - INFO - Chain [1] start processing\n",
      "11:00:40 - cmdstanpy - INFO - Chain [1] done processing\n"
     ]
    },
    {
     "name": "stdout",
     "output_type": "stream",
     "text": [
      "Prévision réussie pour DELL.\n",
      "\n",
      "Analyse de DAL...\n",
      "DAL: Données prêtes pour l'analyse.\n"
     ]
    },
    {
     "name": "stderr",
     "output_type": "stream",
     "text": [
      "11:00:40 - cmdstanpy - INFO - Chain [1] start processing\n",
      "11:00:41 - cmdstanpy - INFO - Chain [1] done processing\n"
     ]
    },
    {
     "name": "stdout",
     "output_type": "stream",
     "text": [
      "Prévision réussie pour DAL.\n",
      "\n",
      "Analyse de DVN...\n",
      "DVN: Données prêtes pour l'analyse.\n"
     ]
    },
    {
     "name": "stderr",
     "output_type": "stream",
     "text": [
      "11:00:41 - cmdstanpy - INFO - Chain [1] start processing\n",
      "11:00:41 - cmdstanpy - INFO - Chain [1] done processing\n"
     ]
    },
    {
     "name": "stdout",
     "output_type": "stream",
     "text": [
      "Prévision réussie pour DVN.\n",
      "\n",
      "Analyse de DXCM...\n",
      "DXCM: Données prêtes pour l'analyse.\n"
     ]
    },
    {
     "name": "stderr",
     "output_type": "stream",
     "text": [
      "11:00:42 - cmdstanpy - INFO - Chain [1] start processing\n",
      "11:00:42 - cmdstanpy - INFO - Chain [1] done processing\n"
     ]
    },
    {
     "name": "stdout",
     "output_type": "stream",
     "text": [
      "Prévision réussie pour DXCM.\n",
      "\n",
      "Analyse de FANG...\n",
      "FANG: Données prêtes pour l'analyse.\n"
     ]
    },
    {
     "name": "stderr",
     "output_type": "stream",
     "text": [
      "11:00:43 - cmdstanpy - INFO - Chain [1] start processing\n",
      "11:00:43 - cmdstanpy - INFO - Chain [1] done processing\n"
     ]
    },
    {
     "name": "stdout",
     "output_type": "stream",
     "text": [
      "Prévision réussie pour FANG.\n",
      "\n",
      "Analyse de DLR...\n",
      "DLR: Données prêtes pour l'analyse.\n"
     ]
    },
    {
     "name": "stderr",
     "output_type": "stream",
     "text": [
      "11:00:44 - cmdstanpy - INFO - Chain [1] start processing\n",
      "11:00:44 - cmdstanpy - INFO - Chain [1] done processing\n"
     ]
    },
    {
     "name": "stdout",
     "output_type": "stream",
     "text": [
      "Prévision réussie pour DLR.\n",
      "\n",
      "Analyse de DFS...\n",
      "DFS: Données prêtes pour l'analyse.\n"
     ]
    },
    {
     "name": "stderr",
     "output_type": "stream",
     "text": [
      "11:00:45 - cmdstanpy - INFO - Chain [1] start processing\n",
      "11:00:45 - cmdstanpy - INFO - Chain [1] done processing\n"
     ]
    },
    {
     "name": "stdout",
     "output_type": "stream",
     "text": [
      "Prévision réussie pour DFS.\n",
      "\n",
      "Analyse de DG...\n",
      "DG: Données prêtes pour l'analyse.\n"
     ]
    },
    {
     "name": "stderr",
     "output_type": "stream",
     "text": [
      "11:00:46 - cmdstanpy - INFO - Chain [1] start processing\n",
      "11:00:46 - cmdstanpy - INFO - Chain [1] done processing\n"
     ]
    },
    {
     "name": "stdout",
     "output_type": "stream",
     "text": [
      "Prévision réussie pour DG.\n",
      "\n",
      "Analyse de DLTR...\n",
      "DLTR: Données prêtes pour l'analyse.\n"
     ]
    },
    {
     "name": "stderr",
     "output_type": "stream",
     "text": [
      "11:00:47 - cmdstanpy - INFO - Chain [1] start processing\n",
      "11:00:47 - cmdstanpy - INFO - Chain [1] done processing\n"
     ]
    },
    {
     "name": "stdout",
     "output_type": "stream",
     "text": [
      "Prévision réussie pour DLTR.\n",
      "\n",
      "Analyse de D...\n",
      "D: Données prêtes pour l'analyse.\n"
     ]
    },
    {
     "name": "stderr",
     "output_type": "stream",
     "text": [
      "11:00:48 - cmdstanpy - INFO - Chain [1] start processing\n",
      "11:00:48 - cmdstanpy - INFO - Chain [1] done processing\n"
     ]
    },
    {
     "name": "stdout",
     "output_type": "stream",
     "text": [
      "Prévision réussie pour D.\n",
      "\n",
      "Analyse de DPZ...\n",
      "DPZ: Données prêtes pour l'analyse.\n"
     ]
    },
    {
     "name": "stderr",
     "output_type": "stream",
     "text": [
      "11:00:48 - cmdstanpy - INFO - Chain [1] start processing\n",
      "11:00:49 - cmdstanpy - INFO - Chain [1] done processing\n"
     ]
    },
    {
     "name": "stdout",
     "output_type": "stream",
     "text": [
      "Prévision réussie pour DPZ.\n",
      "\n",
      "Analyse de DOV...\n",
      "DOV: Données prêtes pour l'analyse.\n"
     ]
    },
    {
     "name": "stderr",
     "output_type": "stream",
     "text": [
      "11:00:49 - cmdstanpy - INFO - Chain [1] start processing\n",
      "11:00:50 - cmdstanpy - INFO - Chain [1] done processing\n"
     ]
    },
    {
     "name": "stdout",
     "output_type": "stream",
     "text": [
      "Prévision réussie pour DOV.\n",
      "\n",
      "Analyse de DOW...\n",
      "DOW: Données prêtes pour l'analyse.\n"
     ]
    },
    {
     "name": "stderr",
     "output_type": "stream",
     "text": [
      "11:00:50 - cmdstanpy - INFO - Chain [1] start processing\n",
      "11:00:51 - cmdstanpy - INFO - Chain [1] done processing\n"
     ]
    },
    {
     "name": "stdout",
     "output_type": "stream",
     "text": [
      "Prévision réussie pour DOW.\n",
      "\n",
      "Analyse de DHI...\n",
      "DHI: Données prêtes pour l'analyse.\n"
     ]
    },
    {
     "name": "stderr",
     "output_type": "stream",
     "text": [
      "11:00:52 - cmdstanpy - INFO - Chain [1] start processing\n",
      "11:00:52 - cmdstanpy - INFO - Chain [1] done processing\n"
     ]
    },
    {
     "name": "stdout",
     "output_type": "stream",
     "text": [
      "Prévision réussie pour DHI.\n",
      "\n",
      "Analyse de DTE...\n",
      "DTE: Données prêtes pour l'analyse.\n"
     ]
    },
    {
     "name": "stderr",
     "output_type": "stream",
     "text": [
      "11:00:53 - cmdstanpy - INFO - Chain [1] start processing\n",
      "11:00:53 - cmdstanpy - INFO - Chain [1] done processing\n"
     ]
    },
    {
     "name": "stdout",
     "output_type": "stream",
     "text": [
      "Prévision réussie pour DTE.\n",
      "\n",
      "Analyse de DUK...\n",
      "DUK: Données prêtes pour l'analyse.\n"
     ]
    },
    {
     "name": "stderr",
     "output_type": "stream",
     "text": [
      "11:00:54 - cmdstanpy - INFO - Chain [1] start processing\n",
      "11:00:54 - cmdstanpy - INFO - Chain [1] done processing\n"
     ]
    },
    {
     "name": "stdout",
     "output_type": "stream",
     "text": [
      "Prévision réussie pour DUK.\n",
      "\n",
      "Analyse de DD...\n",
      "DD: Données prêtes pour l'analyse.\n"
     ]
    },
    {
     "name": "stderr",
     "output_type": "stream",
     "text": [
      "11:00:54 - cmdstanpy - INFO - Chain [1] start processing\n",
      "11:00:55 - cmdstanpy - INFO - Chain [1] done processing\n"
     ]
    },
    {
     "name": "stdout",
     "output_type": "stream",
     "text": [
      "Prévision réussie pour DD.\n",
      "\n",
      "Analyse de EMN...\n",
      "EMN: Données prêtes pour l'analyse.\n"
     ]
    },
    {
     "name": "stderr",
     "output_type": "stream",
     "text": [
      "11:00:55 - cmdstanpy - INFO - Chain [1] start processing\n",
      "11:00:56 - cmdstanpy - INFO - Chain [1] done processing\n"
     ]
    },
    {
     "name": "stdout",
     "output_type": "stream",
     "text": [
      "Prévision réussie pour EMN.\n",
      "\n",
      "Analyse de ETN...\n",
      "ETN: Données prêtes pour l'analyse.\n"
     ]
    },
    {
     "name": "stderr",
     "output_type": "stream",
     "text": [
      "11:00:56 - cmdstanpy - INFO - Chain [1] start processing\n",
      "11:00:57 - cmdstanpy - INFO - Chain [1] done processing\n"
     ]
    },
    {
     "name": "stdout",
     "output_type": "stream",
     "text": [
      "Prévision réussie pour ETN.\n",
      "\n",
      "Analyse de EBAY...\n",
      "EBAY: Données prêtes pour l'analyse.\n"
     ]
    },
    {
     "name": "stderr",
     "output_type": "stream",
     "text": [
      "11:00:57 - cmdstanpy - INFO - Chain [1] start processing\n",
      "11:00:58 - cmdstanpy - INFO - Chain [1] done processing\n"
     ]
    },
    {
     "name": "stdout",
     "output_type": "stream",
     "text": [
      "Prévision réussie pour EBAY.\n",
      "\n",
      "Analyse de ECL...\n",
      "ECL: Données prêtes pour l'analyse.\n"
     ]
    },
    {
     "name": "stderr",
     "output_type": "stream",
     "text": [
      "11:00:59 - cmdstanpy - INFO - Chain [1] start processing\n",
      "11:00:59 - cmdstanpy - INFO - Chain [1] done processing\n"
     ]
    },
    {
     "name": "stdout",
     "output_type": "stream",
     "text": [
      "Prévision réussie pour ECL.\n",
      "\n",
      "Analyse de EIX...\n",
      "EIX: Données prêtes pour l'analyse.\n"
     ]
    },
    {
     "name": "stderr",
     "output_type": "stream",
     "text": [
      "11:01:00 - cmdstanpy - INFO - Chain [1] start processing\n",
      "11:01:00 - cmdstanpy - INFO - Chain [1] done processing\n"
     ]
    },
    {
     "name": "stdout",
     "output_type": "stream",
     "text": [
      "Prévision réussie pour EIX.\n",
      "\n",
      "Analyse de EW...\n",
      "EW: Données prêtes pour l'analyse.\n"
     ]
    },
    {
     "name": "stderr",
     "output_type": "stream",
     "text": [
      "11:01:00 - cmdstanpy - INFO - Chain [1] start processing\n",
      "11:01:01 - cmdstanpy - INFO - Chain [1] done processing\n"
     ]
    },
    {
     "name": "stdout",
     "output_type": "stream",
     "text": [
      "Prévision réussie pour EW.\n",
      "\n",
      "Analyse de EA...\n",
      "EA: Données prêtes pour l'analyse.\n"
     ]
    },
    {
     "name": "stderr",
     "output_type": "stream",
     "text": [
      "11:01:01 - cmdstanpy - INFO - Chain [1] start processing\n",
      "11:01:02 - cmdstanpy - INFO - Chain [1] done processing\n"
     ]
    },
    {
     "name": "stdout",
     "output_type": "stream",
     "text": [
      "Prévision réussie pour EA.\n",
      "\n",
      "Analyse de ELV...\n",
      "ELV: Données prêtes pour l'analyse.\n"
     ]
    },
    {
     "name": "stderr",
     "output_type": "stream",
     "text": [
      "11:01:02 - cmdstanpy - INFO - Chain [1] start processing\n",
      "11:01:03 - cmdstanpy - INFO - Chain [1] done processing\n"
     ]
    },
    {
     "name": "stdout",
     "output_type": "stream",
     "text": [
      "Prévision réussie pour ELV.\n",
      "\n",
      "Analyse de EMR...\n",
      "EMR: Données prêtes pour l'analyse.\n"
     ]
    },
    {
     "name": "stderr",
     "output_type": "stream",
     "text": [
      "11:01:03 - cmdstanpy - INFO - Chain [1] start processing\n",
      "11:01:04 - cmdstanpy - INFO - Chain [1] done processing\n"
     ]
    },
    {
     "name": "stdout",
     "output_type": "stream",
     "text": [
      "Prévision réussie pour EMR.\n",
      "\n",
      "Analyse de ENPH...\n",
      "ENPH: Données prêtes pour l'analyse.\n"
     ]
    },
    {
     "name": "stderr",
     "output_type": "stream",
     "text": [
      "11:01:04 - cmdstanpy - INFO - Chain [1] start processing\n",
      "11:01:04 - cmdstanpy - INFO - Chain [1] done processing\n"
     ]
    },
    {
     "name": "stdout",
     "output_type": "stream",
     "text": [
      "Prévision réussie pour ENPH.\n",
      "\n",
      "Analyse de ETR...\n",
      "ETR: Données prêtes pour l'analyse.\n"
     ]
    },
    {
     "name": "stderr",
     "output_type": "stream",
     "text": [
      "11:01:05 - cmdstanpy - INFO - Chain [1] start processing\n",
      "11:01:05 - cmdstanpy - INFO - Chain [1] done processing\n"
     ]
    },
    {
     "name": "stdout",
     "output_type": "stream",
     "text": [
      "Prévision réussie pour ETR.\n",
      "\n",
      "Analyse de EOG...\n",
      "EOG: Données prêtes pour l'analyse.\n"
     ]
    },
    {
     "name": "stderr",
     "output_type": "stream",
     "text": [
      "11:01:06 - cmdstanpy - INFO - Chain [1] start processing\n",
      "11:01:06 - cmdstanpy - INFO - Chain [1] done processing\n"
     ]
    },
    {
     "name": "stdout",
     "output_type": "stream",
     "text": [
      "Prévision réussie pour EOG.\n",
      "\n",
      "Analyse de EPAM...\n",
      "EPAM: Données prêtes pour l'analyse.\n"
     ]
    },
    {
     "name": "stderr",
     "output_type": "stream",
     "text": [
      "11:01:07 - cmdstanpy - INFO - Chain [1] start processing\n",
      "11:01:08 - cmdstanpy - INFO - Chain [1] done processing\n"
     ]
    },
    {
     "name": "stdout",
     "output_type": "stream",
     "text": [
      "Prévision réussie pour EPAM.\n",
      "\n",
      "Analyse de EQT...\n",
      "EQT: Données prêtes pour l'analyse.\n"
     ]
    },
    {
     "name": "stderr",
     "output_type": "stream",
     "text": [
      "11:01:08 - cmdstanpy - INFO - Chain [1] start processing\n",
      "11:01:08 - cmdstanpy - INFO - Chain [1] done processing\n"
     ]
    },
    {
     "name": "stdout",
     "output_type": "stream",
     "text": [
      "Prévision réussie pour EQT.\n",
      "\n",
      "Analyse de EFX...\n",
      "EFX: Données prêtes pour l'analyse.\n"
     ]
    },
    {
     "name": "stderr",
     "output_type": "stream",
     "text": [
      "11:01:09 - cmdstanpy - INFO - Chain [1] start processing\n",
      "11:01:09 - cmdstanpy - INFO - Chain [1] done processing\n"
     ]
    },
    {
     "name": "stdout",
     "output_type": "stream",
     "text": [
      "Prévision réussie pour EFX.\n",
      "\n",
      "Analyse de EQIX...\n",
      "EQIX: Données prêtes pour l'analyse.\n"
     ]
    },
    {
     "name": "stderr",
     "output_type": "stream",
     "text": [
      "11:01:10 - cmdstanpy - INFO - Chain [1] start processing\n",
      "11:01:10 - cmdstanpy - INFO - Chain [1] done processing\n"
     ]
    },
    {
     "name": "stdout",
     "output_type": "stream",
     "text": [
      "Prévision réussie pour EQIX.\n",
      "\n",
      "Analyse de EQR...\n",
      "EQR: Données prêtes pour l'analyse.\n"
     ]
    },
    {
     "name": "stderr",
     "output_type": "stream",
     "text": [
      "11:01:11 - cmdstanpy - INFO - Chain [1] start processing\n",
      "11:01:11 - cmdstanpy - INFO - Chain [1] done processing\n"
     ]
    },
    {
     "name": "stdout",
     "output_type": "stream",
     "text": [
      "Prévision réussie pour EQR.\n",
      "\n",
      "Analyse de ERIE...\n",
      "ERIE: Données prêtes pour l'analyse.\n"
     ]
    },
    {
     "name": "stderr",
     "output_type": "stream",
     "text": [
      "11:01:12 - cmdstanpy - INFO - Chain [1] start processing\n",
      "11:01:12 - cmdstanpy - INFO - Chain [1] done processing\n"
     ]
    },
    {
     "name": "stdout",
     "output_type": "stream",
     "text": [
      "Prévision réussie pour ERIE.\n",
      "\n",
      "Analyse de ESS...\n",
      "ESS: Données prêtes pour l'analyse.\n"
     ]
    },
    {
     "name": "stderr",
     "output_type": "stream",
     "text": [
      "11:01:13 - cmdstanpy - INFO - Chain [1] start processing\n",
      "11:01:13 - cmdstanpy - INFO - Chain [1] done processing\n"
     ]
    },
    {
     "name": "stdout",
     "output_type": "stream",
     "text": [
      "Prévision réussie pour ESS.\n",
      "\n",
      "Analyse de EL...\n",
      "EL: Données prêtes pour l'analyse.\n"
     ]
    },
    {
     "name": "stderr",
     "output_type": "stream",
     "text": [
      "11:01:14 - cmdstanpy - INFO - Chain [1] start processing\n",
      "11:01:14 - cmdstanpy - INFO - Chain [1] done processing\n"
     ]
    },
    {
     "name": "stdout",
     "output_type": "stream",
     "text": [
      "Prévision réussie pour EL.\n",
      "\n",
      "Analyse de EG...\n",
      "EG: Données prêtes pour l'analyse.\n"
     ]
    },
    {
     "name": "stderr",
     "output_type": "stream",
     "text": [
      "11:01:15 - cmdstanpy - INFO - Chain [1] start processing\n",
      "11:01:15 - cmdstanpy - INFO - Chain [1] done processing\n"
     ]
    },
    {
     "name": "stdout",
     "output_type": "stream",
     "text": [
      "Prévision réussie pour EG.\n",
      "\n",
      "Analyse de EVRG...\n",
      "EVRG: Données prêtes pour l'analyse.\n"
     ]
    },
    {
     "name": "stderr",
     "output_type": "stream",
     "text": [
      "11:01:16 - cmdstanpy - INFO - Chain [1] start processing\n",
      "11:01:17 - cmdstanpy - INFO - Chain [1] done processing\n"
     ]
    },
    {
     "name": "stdout",
     "output_type": "stream",
     "text": [
      "Prévision réussie pour EVRG.\n",
      "\n",
      "Analyse de ES...\n",
      "ES: Données prêtes pour l'analyse.\n"
     ]
    },
    {
     "name": "stderr",
     "output_type": "stream",
     "text": [
      "11:01:17 - cmdstanpy - INFO - Chain [1] start processing\n",
      "11:01:17 - cmdstanpy - INFO - Chain [1] done processing\n"
     ]
    },
    {
     "name": "stdout",
     "output_type": "stream",
     "text": [
      "Prévision réussie pour ES.\n",
      "\n",
      "Analyse de EXC...\n",
      "EXC: Données prêtes pour l'analyse.\n"
     ]
    },
    {
     "name": "stderr",
     "output_type": "stream",
     "text": [
      "11:01:18 - cmdstanpy - INFO - Chain [1] start processing\n",
      "11:01:18 - cmdstanpy - INFO - Chain [1] done processing\n"
     ]
    },
    {
     "name": "stdout",
     "output_type": "stream",
     "text": [
      "Prévision réussie pour EXC.\n",
      "\n",
      "Analyse de EXPE...\n",
      "EXPE: Données prêtes pour l'analyse.\n"
     ]
    },
    {
     "name": "stderr",
     "output_type": "stream",
     "text": [
      "11:01:19 - cmdstanpy - INFO - Chain [1] start processing\n",
      "11:01:20 - cmdstanpy - INFO - Chain [1] done processing\n"
     ]
    },
    {
     "name": "stdout",
     "output_type": "stream",
     "text": [
      "Prévision réussie pour EXPE.\n",
      "\n",
      "Analyse de EXPD...\n",
      "EXPD: Données prêtes pour l'analyse.\n"
     ]
    },
    {
     "name": "stderr",
     "output_type": "stream",
     "text": [
      "11:01:20 - cmdstanpy - INFO - Chain [1] start processing\n",
      "11:01:21 - cmdstanpy - INFO - Chain [1] done processing\n"
     ]
    },
    {
     "name": "stdout",
     "output_type": "stream",
     "text": [
      "Prévision réussie pour EXPD.\n",
      "\n",
      "Analyse de EXR...\n",
      "EXR: Données prêtes pour l'analyse.\n"
     ]
    },
    {
     "name": "stderr",
     "output_type": "stream",
     "text": [
      "11:01:22 - cmdstanpy - INFO - Chain [1] start processing\n",
      "11:01:22 - cmdstanpy - INFO - Chain [1] done processing\n"
     ]
    },
    {
     "name": "stdout",
     "output_type": "stream",
     "text": [
      "Prévision réussie pour EXR.\n",
      "\n",
      "Analyse de XOM...\n",
      "XOM: Données prêtes pour l'analyse.\n"
     ]
    },
    {
     "name": "stderr",
     "output_type": "stream",
     "text": [
      "11:01:23 - cmdstanpy - INFO - Chain [1] start processing\n",
      "11:01:23 - cmdstanpy - INFO - Chain [1] done processing\n"
     ]
    },
    {
     "name": "stdout",
     "output_type": "stream",
     "text": [
      "Prévision réussie pour XOM.\n",
      "\n",
      "Analyse de FFIV...\n",
      "FFIV: Données prêtes pour l'analyse.\n"
     ]
    },
    {
     "name": "stderr",
     "output_type": "stream",
     "text": [
      "11:01:24 - cmdstanpy - INFO - Chain [1] start processing\n",
      "11:01:24 - cmdstanpy - INFO - Chain [1] done processing\n"
     ]
    },
    {
     "name": "stdout",
     "output_type": "stream",
     "text": [
      "Prévision réussie pour FFIV.\n",
      "\n",
      "Analyse de FDS...\n",
      "FDS: Données prêtes pour l'analyse.\n"
     ]
    },
    {
     "name": "stderr",
     "output_type": "stream",
     "text": [
      "11:01:25 - cmdstanpy - INFO - Chain [1] start processing\n",
      "11:01:25 - cmdstanpy - INFO - Chain [1] done processing\n"
     ]
    },
    {
     "name": "stdout",
     "output_type": "stream",
     "text": [
      "Prévision réussie pour FDS.\n",
      "\n",
      "Analyse de FICO...\n",
      "FICO: Données prêtes pour l'analyse.\n"
     ]
    },
    {
     "name": "stderr",
     "output_type": "stream",
     "text": [
      "11:01:26 - cmdstanpy - INFO - Chain [1] start processing\n",
      "11:01:26 - cmdstanpy - INFO - Chain [1] done processing\n"
     ]
    },
    {
     "name": "stdout",
     "output_type": "stream",
     "text": [
      "Prévision réussie pour FICO.\n",
      "\n",
      "Analyse de FAST...\n",
      "FAST: Données prêtes pour l'analyse.\n"
     ]
    },
    {
     "name": "stderr",
     "output_type": "stream",
     "text": [
      "11:01:27 - cmdstanpy - INFO - Chain [1] start processing\n",
      "11:01:27 - cmdstanpy - INFO - Chain [1] done processing\n"
     ]
    },
    {
     "name": "stdout",
     "output_type": "stream",
     "text": [
      "Prévision réussie pour FAST.\n",
      "\n",
      "Analyse de FRT...\n",
      "FRT: Données prêtes pour l'analyse.\n"
     ]
    },
    {
     "name": "stderr",
     "output_type": "stream",
     "text": [
      "11:01:27 - cmdstanpy - INFO - Chain [1] start processing\n",
      "11:01:28 - cmdstanpy - INFO - Chain [1] done processing\n"
     ]
    },
    {
     "name": "stdout",
     "output_type": "stream",
     "text": [
      "Prévision réussie pour FRT.\n",
      "\n",
      "Analyse de FDX...\n",
      "FDX: Données prêtes pour l'analyse.\n"
     ]
    },
    {
     "name": "stderr",
     "output_type": "stream",
     "text": [
      "11:01:28 - cmdstanpy - INFO - Chain [1] start processing\n",
      "11:01:29 - cmdstanpy - INFO - Chain [1] done processing\n"
     ]
    },
    {
     "name": "stdout",
     "output_type": "stream",
     "text": [
      "Prévision réussie pour FDX.\n",
      "\n",
      "Analyse de FIS...\n",
      "FIS: Données prêtes pour l'analyse.\n"
     ]
    },
    {
     "name": "stderr",
     "output_type": "stream",
     "text": [
      "11:01:29 - cmdstanpy - INFO - Chain [1] start processing\n",
      "11:01:30 - cmdstanpy - INFO - Chain [1] done processing\n"
     ]
    },
    {
     "name": "stdout",
     "output_type": "stream",
     "text": [
      "Prévision réussie pour FIS.\n",
      "\n",
      "Analyse de FITB...\n",
      "FITB: Données prêtes pour l'analyse.\n"
     ]
    },
    {
     "name": "stderr",
     "output_type": "stream",
     "text": [
      "11:01:30 - cmdstanpy - INFO - Chain [1] start processing\n",
      "11:01:30 - cmdstanpy - INFO - Chain [1] done processing\n"
     ]
    },
    {
     "name": "stdout",
     "output_type": "stream",
     "text": [
      "Prévision réussie pour FITB.\n",
      "\n",
      "Analyse de FSLR...\n",
      "FSLR: Données prêtes pour l'analyse.\n"
     ]
    },
    {
     "name": "stderr",
     "output_type": "stream",
     "text": [
      "11:01:31 - cmdstanpy - INFO - Chain [1] start processing\n",
      "11:01:31 - cmdstanpy - INFO - Chain [1] done processing\n"
     ]
    },
    {
     "name": "stdout",
     "output_type": "stream",
     "text": [
      "Prévision réussie pour FSLR.\n",
      "\n",
      "Analyse de FE...\n",
      "FE: Données prêtes pour l'analyse.\n"
     ]
    },
    {
     "name": "stderr",
     "output_type": "stream",
     "text": [
      "11:01:32 - cmdstanpy - INFO - Chain [1] start processing\n",
      "11:01:32 - cmdstanpy - INFO - Chain [1] done processing\n"
     ]
    },
    {
     "name": "stdout",
     "output_type": "stream",
     "text": [
      "Prévision réussie pour FE.\n",
      "\n",
      "Analyse de FI...\n",
      "FI: Données prêtes pour l'analyse.\n"
     ]
    },
    {
     "name": "stderr",
     "output_type": "stream",
     "text": [
      "11:01:33 - cmdstanpy - INFO - Chain [1] start processing\n",
      "11:01:33 - cmdstanpy - INFO - Chain [1] done processing\n"
     ]
    },
    {
     "name": "stdout",
     "output_type": "stream",
     "text": [
      "Prévision réussie pour FI.\n",
      "\n",
      "Analyse de FMC...\n",
      "FMC: Données prêtes pour l'analyse.\n"
     ]
    },
    {
     "name": "stderr",
     "output_type": "stream",
     "text": [
      "11:01:34 - cmdstanpy - INFO - Chain [1] start processing\n",
      "11:01:34 - cmdstanpy - INFO - Chain [1] done processing\n"
     ]
    },
    {
     "name": "stdout",
     "output_type": "stream",
     "text": [
      "Prévision réussie pour FMC.\n",
      "\n",
      "Analyse de F...\n",
      "F: Données prêtes pour l'analyse.\n"
     ]
    },
    {
     "name": "stderr",
     "output_type": "stream",
     "text": [
      "11:01:35 - cmdstanpy - INFO - Chain [1] start processing\n",
      "11:01:35 - cmdstanpy - INFO - Chain [1] done processing\n"
     ]
    },
    {
     "name": "stdout",
     "output_type": "stream",
     "text": [
      "Prévision réussie pour F.\n",
      "\n",
      "Analyse de FTNT...\n",
      "FTNT: Données prêtes pour l'analyse.\n"
     ]
    },
    {
     "name": "stderr",
     "output_type": "stream",
     "text": [
      "11:01:36 - cmdstanpy - INFO - Chain [1] start processing\n",
      "11:01:36 - cmdstanpy - INFO - Chain [1] done processing\n"
     ]
    },
    {
     "name": "stdout",
     "output_type": "stream",
     "text": [
      "Prévision réussie pour FTNT.\n",
      "\n",
      "Analyse de FTV...\n",
      "FTV: Données prêtes pour l'analyse.\n"
     ]
    },
    {
     "name": "stderr",
     "output_type": "stream",
     "text": [
      "11:01:37 - cmdstanpy - INFO - Chain [1] start processing\n",
      "11:01:37 - cmdstanpy - INFO - Chain [1] done processing\n"
     ]
    },
    {
     "name": "stdout",
     "output_type": "stream",
     "text": [
      "Prévision réussie pour FTV.\n",
      "\n",
      "Analyse de FOXA...\n",
      "FOXA: Données prêtes pour l'analyse.\n"
     ]
    },
    {
     "name": "stderr",
     "output_type": "stream",
     "text": [
      "11:01:38 - cmdstanpy - INFO - Chain [1] start processing\n",
      "11:01:38 - cmdstanpy - INFO - Chain [1] done processing\n"
     ]
    },
    {
     "name": "stdout",
     "output_type": "stream",
     "text": [
      "Prévision réussie pour FOXA.\n",
      "\n",
      "Analyse de FOX...\n",
      "FOX: Données prêtes pour l'analyse.\n"
     ]
    },
    {
     "name": "stderr",
     "output_type": "stream",
     "text": [
      "11:01:39 - cmdstanpy - INFO - Chain [1] start processing\n",
      "11:01:39 - cmdstanpy - INFO - Chain [1] done processing\n"
     ]
    },
    {
     "name": "stdout",
     "output_type": "stream",
     "text": [
      "Prévision réussie pour FOX.\n",
      "\n",
      "Analyse de BEN...\n",
      "BEN: Données prêtes pour l'analyse.\n"
     ]
    },
    {
     "name": "stderr",
     "output_type": "stream",
     "text": [
      "11:01:40 - cmdstanpy - INFO - Chain [1] start processing\n",
      "11:01:40 - cmdstanpy - INFO - Chain [1] done processing\n"
     ]
    },
    {
     "name": "stdout",
     "output_type": "stream",
     "text": [
      "Prévision réussie pour BEN.\n",
      "\n",
      "Analyse de FCX...\n",
      "FCX: Données prêtes pour l'analyse.\n"
     ]
    },
    {
     "name": "stderr",
     "output_type": "stream",
     "text": [
      "11:01:41 - cmdstanpy - INFO - Chain [1] start processing\n",
      "11:01:41 - cmdstanpy - INFO - Chain [1] done processing\n"
     ]
    },
    {
     "name": "stdout",
     "output_type": "stream",
     "text": [
      "Prévision réussie pour FCX.\n",
      "\n",
      "Analyse de GRMN...\n",
      "GRMN: Données prêtes pour l'analyse.\n"
     ]
    },
    {
     "name": "stderr",
     "output_type": "stream",
     "text": [
      "11:01:41 - cmdstanpy - INFO - Chain [1] start processing\n",
      "11:01:42 - cmdstanpy - INFO - Chain [1] done processing\n"
     ]
    },
    {
     "name": "stdout",
     "output_type": "stream",
     "text": [
      "Prévision réussie pour GRMN.\n",
      "\n",
      "Analyse de IT...\n",
      "IT: Données prêtes pour l'analyse.\n"
     ]
    },
    {
     "name": "stderr",
     "output_type": "stream",
     "text": [
      "11:01:42 - cmdstanpy - INFO - Chain [1] start processing\n",
      "11:01:43 - cmdstanpy - INFO - Chain [1] done processing\n"
     ]
    },
    {
     "name": "stdout",
     "output_type": "stream",
     "text": [
      "Prévision réussie pour IT.\n",
      "\n",
      "Analyse de GE...\n",
      "GE: Données prêtes pour l'analyse.\n"
     ]
    },
    {
     "name": "stderr",
     "output_type": "stream",
     "text": [
      "11:01:43 - cmdstanpy - INFO - Chain [1] start processing\n",
      "11:01:44 - cmdstanpy - INFO - Chain [1] done processing\n"
     ]
    },
    {
     "name": "stdout",
     "output_type": "stream",
     "text": [
      "Prévision réussie pour GE.\n",
      "\n",
      "Analyse de GEHC...\n",
      "GEHC: Données prêtes pour l'analyse.\n"
     ]
    },
    {
     "name": "stderr",
     "output_type": "stream",
     "text": [
      "11:01:44 - cmdstanpy - INFO - Chain [1] start processing\n",
      "11:01:44 - cmdstanpy - INFO - Chain [1] done processing\n"
     ]
    },
    {
     "name": "stdout",
     "output_type": "stream",
     "text": [
      "Prévision réussie pour GEHC.\n",
      "\n",
      "Analyse de GEV...\n"
     ]
    },
    {
     "name": "stderr",
     "output_type": "stream",
     "text": [
      "\n",
      "1 Failed download:\n",
      "['GEV']: YFPricesMissingError('$%ticker%: possibly delisted; no price data found  (1d 2020-01-01 -> 2023-11-01) (Yahoo error = \"Data doesn\\'t exist for startDate = 1577854800, endDate = 1698811200\")')\n"
     ]
    },
    {
     "name": "stdout",
     "output_type": "stream",
     "text": [
      "GEV: Pas de données disponibles.\n",
      "\n",
      "Analyse de GEN...\n",
      "GEN: Données prêtes pour l'analyse.\n"
     ]
    },
    {
     "name": "stderr",
     "output_type": "stream",
     "text": [
      "11:01:46 - cmdstanpy - INFO - Chain [1] start processing\n",
      "11:01:47 - cmdstanpy - INFO - Chain [1] done processing\n"
     ]
    },
    {
     "name": "stdout",
     "output_type": "stream",
     "text": [
      "Prévision réussie pour GEN.\n",
      "\n",
      "Analyse de GNRC...\n",
      "GNRC: Données prêtes pour l'analyse.\n"
     ]
    },
    {
     "name": "stderr",
     "output_type": "stream",
     "text": [
      "11:01:47 - cmdstanpy - INFO - Chain [1] start processing\n",
      "11:01:48 - cmdstanpy - INFO - Chain [1] done processing\n"
     ]
    },
    {
     "name": "stdout",
     "output_type": "stream",
     "text": [
      "Prévision réussie pour GNRC.\n",
      "\n",
      "Analyse de GD...\n",
      "GD: Données prêtes pour l'analyse.\n"
     ]
    },
    {
     "name": "stderr",
     "output_type": "stream",
     "text": [
      "11:01:48 - cmdstanpy - INFO - Chain [1] start processing\n",
      "11:01:49 - cmdstanpy - INFO - Chain [1] done processing\n"
     ]
    },
    {
     "name": "stdout",
     "output_type": "stream",
     "text": [
      "Prévision réussie pour GD.\n",
      "\n",
      "Analyse de GIS...\n",
      "GIS: Données prêtes pour l'analyse.\n"
     ]
    },
    {
     "name": "stderr",
     "output_type": "stream",
     "text": [
      "11:01:49 - cmdstanpy - INFO - Chain [1] start processing\n",
      "11:01:50 - cmdstanpy - INFO - Chain [1] done processing\n"
     ]
    },
    {
     "name": "stdout",
     "output_type": "stream",
     "text": [
      "Prévision réussie pour GIS.\n",
      "\n",
      "Analyse de GM...\n",
      "GM: Données prêtes pour l'analyse.\n"
     ]
    },
    {
     "name": "stderr",
     "output_type": "stream",
     "text": [
      "11:01:50 - cmdstanpy - INFO - Chain [1] start processing\n",
      "11:01:51 - cmdstanpy - INFO - Chain [1] done processing\n"
     ]
    },
    {
     "name": "stdout",
     "output_type": "stream",
     "text": [
      "Prévision réussie pour GM.\n",
      "\n",
      "Analyse de GPC...\n",
      "GPC: Données prêtes pour l'analyse.\n"
     ]
    },
    {
     "name": "stderr",
     "output_type": "stream",
     "text": [
      "11:01:51 - cmdstanpy - INFO - Chain [1] start processing\n",
      "11:01:52 - cmdstanpy - INFO - Chain [1] done processing\n"
     ]
    },
    {
     "name": "stdout",
     "output_type": "stream",
     "text": [
      "Prévision réussie pour GPC.\n",
      "\n",
      "Analyse de GILD...\n",
      "GILD: Données prêtes pour l'analyse.\n"
     ]
    },
    {
     "name": "stderr",
     "output_type": "stream",
     "text": [
      "11:01:53 - cmdstanpy - INFO - Chain [1] start processing\n",
      "11:01:53 - cmdstanpy - INFO - Chain [1] done processing\n"
     ]
    },
    {
     "name": "stdout",
     "output_type": "stream",
     "text": [
      "Prévision réussie pour GILD.\n",
      "\n",
      "Analyse de GPN...\n",
      "GPN: Données prêtes pour l'analyse.\n"
     ]
    },
    {
     "name": "stderr",
     "output_type": "stream",
     "text": [
      "11:01:54 - cmdstanpy - INFO - Chain [1] start processing\n",
      "11:01:54 - cmdstanpy - INFO - Chain [1] done processing\n"
     ]
    },
    {
     "name": "stdout",
     "output_type": "stream",
     "text": [
      "Prévision réussie pour GPN.\n",
      "\n",
      "Analyse de GL...\n",
      "GL: Données prêtes pour l'analyse.\n"
     ]
    },
    {
     "name": "stderr",
     "output_type": "stream",
     "text": [
      "11:01:55 - cmdstanpy - INFO - Chain [1] start processing\n",
      "11:01:55 - cmdstanpy - INFO - Chain [1] done processing\n"
     ]
    },
    {
     "name": "stdout",
     "output_type": "stream",
     "text": [
      "Prévision réussie pour GL.\n",
      "\n",
      "Analyse de GDDY...\n",
      "GDDY: Données prêtes pour l'analyse.\n"
     ]
    },
    {
     "name": "stderr",
     "output_type": "stream",
     "text": [
      "11:01:56 - cmdstanpy - INFO - Chain [1] start processing\n",
      "11:01:56 - cmdstanpy - INFO - Chain [1] done processing\n"
     ]
    },
    {
     "name": "stdout",
     "output_type": "stream",
     "text": [
      "Prévision réussie pour GDDY.\n",
      "\n",
      "Analyse de GS...\n",
      "GS: Données prêtes pour l'analyse.\n"
     ]
    },
    {
     "name": "stderr",
     "output_type": "stream",
     "text": [
      "11:01:57 - cmdstanpy - INFO - Chain [1] start processing\n",
      "11:01:57 - cmdstanpy - INFO - Chain [1] done processing\n"
     ]
    },
    {
     "name": "stdout",
     "output_type": "stream",
     "text": [
      "Prévision réussie pour GS.\n",
      "\n",
      "Analyse de HAL...\n",
      "HAL: Données prêtes pour l'analyse.\n"
     ]
    },
    {
     "name": "stderr",
     "output_type": "stream",
     "text": [
      "11:01:58 - cmdstanpy - INFO - Chain [1] start processing\n",
      "11:01:58 - cmdstanpy - INFO - Chain [1] done processing\n"
     ]
    },
    {
     "name": "stdout",
     "output_type": "stream",
     "text": [
      "Prévision réussie pour HAL.\n",
      "\n",
      "Analyse de HIG...\n",
      "HIG: Données prêtes pour l'analyse.\n"
     ]
    },
    {
     "name": "stderr",
     "output_type": "stream",
     "text": [
      "11:01:59 - cmdstanpy - INFO - Chain [1] start processing\n",
      "11:01:59 - cmdstanpy - INFO - Chain [1] done processing\n"
     ]
    },
    {
     "name": "stdout",
     "output_type": "stream",
     "text": [
      "Prévision réussie pour HIG.\n",
      "\n",
      "Analyse de HAS...\n",
      "HAS: Données prêtes pour l'analyse.\n"
     ]
    },
    {
     "name": "stderr",
     "output_type": "stream",
     "text": [
      "11:02:00 - cmdstanpy - INFO - Chain [1] start processing\n",
      "11:02:00 - cmdstanpy - INFO - Chain [1] done processing\n"
     ]
    },
    {
     "name": "stdout",
     "output_type": "stream",
     "text": [
      "Prévision réussie pour HAS.\n",
      "\n",
      "Analyse de HCA...\n",
      "HCA: Données prêtes pour l'analyse.\n"
     ]
    },
    {
     "name": "stderr",
     "output_type": "stream",
     "text": [
      "11:02:00 - cmdstanpy - INFO - Chain [1] start processing\n",
      "11:02:01 - cmdstanpy - INFO - Chain [1] done processing\n"
     ]
    },
    {
     "name": "stdout",
     "output_type": "stream",
     "text": [
      "Prévision réussie pour HCA.\n",
      "\n",
      "Analyse de DOC...\n",
      "DOC: Données prêtes pour l'analyse.\n"
     ]
    },
    {
     "name": "stderr",
     "output_type": "stream",
     "text": [
      "11:02:01 - cmdstanpy - INFO - Chain [1] start processing\n",
      "11:02:02 - cmdstanpy - INFO - Chain [1] done processing\n"
     ]
    },
    {
     "name": "stdout",
     "output_type": "stream",
     "text": [
      "Prévision réussie pour DOC.\n",
      "\n",
      "Analyse de HSIC...\n",
      "HSIC: Données prêtes pour l'analyse.\n"
     ]
    },
    {
     "name": "stderr",
     "output_type": "stream",
     "text": [
      "11:02:02 - cmdstanpy - INFO - Chain [1] start processing\n",
      "11:02:03 - cmdstanpy - INFO - Chain [1] done processing\n"
     ]
    },
    {
     "name": "stdout",
     "output_type": "stream",
     "text": [
      "Prévision réussie pour HSIC.\n",
      "\n",
      "Analyse de HSY...\n",
      "HSY: Données prêtes pour l'analyse.\n"
     ]
    },
    {
     "name": "stderr",
     "output_type": "stream",
     "text": [
      "11:02:03 - cmdstanpy - INFO - Chain [1] start processing\n",
      "11:02:04 - cmdstanpy - INFO - Chain [1] done processing\n"
     ]
    },
    {
     "name": "stdout",
     "output_type": "stream",
     "text": [
      "Prévision réussie pour HSY.\n",
      "\n",
      "Analyse de HES...\n",
      "HES: Données prêtes pour l'analyse.\n"
     ]
    },
    {
     "name": "stderr",
     "output_type": "stream",
     "text": [
      "11:02:04 - cmdstanpy - INFO - Chain [1] start processing\n",
      "11:02:05 - cmdstanpy - INFO - Chain [1] done processing\n"
     ]
    },
    {
     "name": "stdout",
     "output_type": "stream",
     "text": [
      "Prévision réussie pour HES.\n",
      "\n",
      "Analyse de HPE...\n",
      "HPE: Données prêtes pour l'analyse.\n"
     ]
    },
    {
     "name": "stderr",
     "output_type": "stream",
     "text": [
      "11:02:06 - cmdstanpy - INFO - Chain [1] start processing\n",
      "11:02:06 - cmdstanpy - INFO - Chain [1] done processing\n"
     ]
    },
    {
     "name": "stdout",
     "output_type": "stream",
     "text": [
      "Prévision réussie pour HPE.\n",
      "\n",
      "Analyse de HLT...\n",
      "HLT: Données prêtes pour l'analyse.\n"
     ]
    },
    {
     "name": "stderr",
     "output_type": "stream",
     "text": [
      "11:02:07 - cmdstanpy - INFO - Chain [1] start processing\n",
      "11:02:07 - cmdstanpy - INFO - Chain [1] done processing\n"
     ]
    },
    {
     "name": "stdout",
     "output_type": "stream",
     "text": [
      "Prévision réussie pour HLT.\n",
      "\n",
      "Analyse de HOLX...\n",
      "HOLX: Données prêtes pour l'analyse.\n"
     ]
    },
    {
     "name": "stderr",
     "output_type": "stream",
     "text": [
      "11:02:08 - cmdstanpy - INFO - Chain [1] start processing\n",
      "11:02:08 - cmdstanpy - INFO - Chain [1] done processing\n"
     ]
    },
    {
     "name": "stdout",
     "output_type": "stream",
     "text": [
      "Prévision réussie pour HOLX.\n",
      "\n",
      "Analyse de HD...\n",
      "HD: Données prêtes pour l'analyse.\n"
     ]
    },
    {
     "name": "stderr",
     "output_type": "stream",
     "text": [
      "11:02:09 - cmdstanpy - INFO - Chain [1] start processing\n",
      "11:02:09 - cmdstanpy - INFO - Chain [1] done processing\n"
     ]
    },
    {
     "name": "stdout",
     "output_type": "stream",
     "text": [
      "Prévision réussie pour HD.\n",
      "\n",
      "Analyse de HON...\n",
      "HON: Données prêtes pour l'analyse.\n"
     ]
    },
    {
     "name": "stderr",
     "output_type": "stream",
     "text": [
      "11:02:10 - cmdstanpy - INFO - Chain [1] start processing\n",
      "11:02:10 - cmdstanpy - INFO - Chain [1] done processing\n"
     ]
    },
    {
     "name": "stdout",
     "output_type": "stream",
     "text": [
      "Prévision réussie pour HON.\n",
      "\n",
      "Analyse de HRL...\n",
      "HRL: Données prêtes pour l'analyse.\n"
     ]
    },
    {
     "name": "stderr",
     "output_type": "stream",
     "text": [
      "11:02:11 - cmdstanpy - INFO - Chain [1] start processing\n",
      "11:02:11 - cmdstanpy - INFO - Chain [1] done processing\n"
     ]
    },
    {
     "name": "stdout",
     "output_type": "stream",
     "text": [
      "Prévision réussie pour HRL.\n",
      "\n",
      "Analyse de HST...\n",
      "HST: Données prêtes pour l'analyse.\n"
     ]
    },
    {
     "name": "stderr",
     "output_type": "stream",
     "text": [
      "11:02:12 - cmdstanpy - INFO - Chain [1] start processing\n",
      "11:02:12 - cmdstanpy - INFO - Chain [1] done processing\n"
     ]
    },
    {
     "name": "stdout",
     "output_type": "stream",
     "text": [
      "Prévision réussie pour HST.\n",
      "\n",
      "Analyse de HWM...\n",
      "HWM: Données prêtes pour l'analyse.\n"
     ]
    },
    {
     "name": "stderr",
     "output_type": "stream",
     "text": [
      "11:02:13 - cmdstanpy - INFO - Chain [1] start processing\n",
      "11:02:13 - cmdstanpy - INFO - Chain [1] done processing\n"
     ]
    },
    {
     "name": "stdout",
     "output_type": "stream",
     "text": [
      "Prévision réussie pour HWM.\n",
      "\n",
      "Analyse de HPQ...\n",
      "HPQ: Données prêtes pour l'analyse.\n"
     ]
    },
    {
     "name": "stderr",
     "output_type": "stream",
     "text": [
      "11:02:14 - cmdstanpy - INFO - Chain [1] start processing\n",
      "11:02:14 - cmdstanpy - INFO - Chain [1] done processing\n"
     ]
    },
    {
     "name": "stdout",
     "output_type": "stream",
     "text": [
      "Prévision réussie pour HPQ.\n",
      "\n",
      "Analyse de HUBB...\n",
      "HUBB: Données prêtes pour l'analyse.\n"
     ]
    },
    {
     "name": "stderr",
     "output_type": "stream",
     "text": [
      "11:02:15 - cmdstanpy - INFO - Chain [1] start processing\n",
      "11:02:15 - cmdstanpy - INFO - Chain [1] done processing\n"
     ]
    },
    {
     "name": "stdout",
     "output_type": "stream",
     "text": [
      "Prévision réussie pour HUBB.\n",
      "\n",
      "Analyse de HUM...\n",
      "HUM: Données prêtes pour l'analyse.\n"
     ]
    },
    {
     "name": "stderr",
     "output_type": "stream",
     "text": [
      "11:02:15 - cmdstanpy - INFO - Chain [1] start processing\n",
      "11:02:16 - cmdstanpy - INFO - Chain [1] done processing\n"
     ]
    },
    {
     "name": "stdout",
     "output_type": "stream",
     "text": [
      "Prévision réussie pour HUM.\n",
      "\n",
      "Analyse de HBAN...\n",
      "HBAN: Données prêtes pour l'analyse.\n"
     ]
    },
    {
     "name": "stderr",
     "output_type": "stream",
     "text": [
      "11:02:16 - cmdstanpy - INFO - Chain [1] start processing\n",
      "11:02:17 - cmdstanpy - INFO - Chain [1] done processing\n"
     ]
    },
    {
     "name": "stdout",
     "output_type": "stream",
     "text": [
      "Prévision réussie pour HBAN.\n",
      "\n",
      "Analyse de HII...\n",
      "HII: Données prêtes pour l'analyse.\n"
     ]
    },
    {
     "name": "stderr",
     "output_type": "stream",
     "text": [
      "11:02:17 - cmdstanpy - INFO - Chain [1] start processing\n",
      "11:02:18 - cmdstanpy - INFO - Chain [1] done processing\n"
     ]
    },
    {
     "name": "stdout",
     "output_type": "stream",
     "text": [
      "Prévision réussie pour HII.\n",
      "\n",
      "Analyse de IBM...\n",
      "IBM: Données prêtes pour l'analyse.\n"
     ]
    },
    {
     "name": "stderr",
     "output_type": "stream",
     "text": [
      "11:02:19 - cmdstanpy - INFO - Chain [1] start processing\n",
      "11:02:19 - cmdstanpy - INFO - Chain [1] done processing\n"
     ]
    },
    {
     "name": "stdout",
     "output_type": "stream",
     "text": [
      "Prévision réussie pour IBM.\n",
      "\n",
      "Analyse de IEX...\n",
      "IEX: Données prêtes pour l'analyse.\n"
     ]
    },
    {
     "name": "stderr",
     "output_type": "stream",
     "text": [
      "11:02:20 - cmdstanpy - INFO - Chain [1] start processing\n",
      "11:02:20 - cmdstanpy - INFO - Chain [1] done processing\n"
     ]
    },
    {
     "name": "stdout",
     "output_type": "stream",
     "text": [
      "Prévision réussie pour IEX.\n",
      "\n",
      "Analyse de IDXX...\n",
      "IDXX: Données prêtes pour l'analyse.\n"
     ]
    },
    {
     "name": "stderr",
     "output_type": "stream",
     "text": [
      "11:02:21 - cmdstanpy - INFO - Chain [1] start processing\n",
      "11:02:21 - cmdstanpy - INFO - Chain [1] done processing\n"
     ]
    },
    {
     "name": "stdout",
     "output_type": "stream",
     "text": [
      "Prévision réussie pour IDXX.\n",
      "\n",
      "Analyse de ITW...\n",
      "ITW: Données prêtes pour l'analyse.\n"
     ]
    },
    {
     "name": "stderr",
     "output_type": "stream",
     "text": [
      "11:02:22 - cmdstanpy - INFO - Chain [1] start processing\n",
      "11:02:22 - cmdstanpy - INFO - Chain [1] done processing\n"
     ]
    },
    {
     "name": "stdout",
     "output_type": "stream",
     "text": [
      "Prévision réussie pour ITW.\n",
      "\n",
      "Analyse de INCY...\n",
      "INCY: Données prêtes pour l'analyse.\n"
     ]
    },
    {
     "name": "stderr",
     "output_type": "stream",
     "text": [
      "11:02:23 - cmdstanpy - INFO - Chain [1] start processing\n",
      "11:02:23 - cmdstanpy - INFO - Chain [1] done processing\n"
     ]
    },
    {
     "name": "stdout",
     "output_type": "stream",
     "text": [
      "Prévision réussie pour INCY.\n",
      "\n",
      "Analyse de IR...\n",
      "IR: Données prêtes pour l'analyse.\n"
     ]
    },
    {
     "name": "stderr",
     "output_type": "stream",
     "text": [
      "11:02:24 - cmdstanpy - INFO - Chain [1] start processing\n",
      "11:02:24 - cmdstanpy - INFO - Chain [1] done processing\n"
     ]
    },
    {
     "name": "stdout",
     "output_type": "stream",
     "text": [
      "Prévision réussie pour IR.\n",
      "\n",
      "Analyse de PODD...\n",
      "PODD: Données prêtes pour l'analyse.\n"
     ]
    },
    {
     "name": "stderr",
     "output_type": "stream",
     "text": [
      "11:02:25 - cmdstanpy - INFO - Chain [1] start processing\n",
      "11:02:25 - cmdstanpy - INFO - Chain [1] done processing\n"
     ]
    },
    {
     "name": "stdout",
     "output_type": "stream",
     "text": [
      "Prévision réussie pour PODD.\n",
      "\n",
      "Analyse de INTC...\n",
      "INTC: Données prêtes pour l'analyse.\n"
     ]
    },
    {
     "name": "stderr",
     "output_type": "stream",
     "text": [
      "11:02:25 - cmdstanpy - INFO - Chain [1] start processing\n",
      "11:02:26 - cmdstanpy - INFO - Chain [1] done processing\n"
     ]
    },
    {
     "name": "stdout",
     "output_type": "stream",
     "text": [
      "Prévision réussie pour INTC.\n",
      "\n",
      "Analyse de ICE...\n",
      "ICE: Données prêtes pour l'analyse.\n"
     ]
    },
    {
     "name": "stderr",
     "output_type": "stream",
     "text": [
      "11:02:26 - cmdstanpy - INFO - Chain [1] start processing\n",
      "11:02:26 - cmdstanpy - INFO - Chain [1] done processing\n"
     ]
    },
    {
     "name": "stdout",
     "output_type": "stream",
     "text": [
      "Prévision réussie pour ICE.\n",
      "\n",
      "Analyse de IFF...\n",
      "IFF: Données prêtes pour l'analyse.\n"
     ]
    },
    {
     "name": "stderr",
     "output_type": "stream",
     "text": [
      "11:02:27 - cmdstanpy - INFO - Chain [1] start processing\n",
      "11:02:27 - cmdstanpy - INFO - Chain [1] done processing\n"
     ]
    },
    {
     "name": "stdout",
     "output_type": "stream",
     "text": [
      "Prévision réussie pour IFF.\n",
      "\n",
      "Analyse de IP...\n",
      "IP: Données prêtes pour l'analyse.\n"
     ]
    },
    {
     "name": "stderr",
     "output_type": "stream",
     "text": [
      "11:02:28 - cmdstanpy - INFO - Chain [1] start processing\n",
      "11:02:29 - cmdstanpy - INFO - Chain [1] done processing\n"
     ]
    },
    {
     "name": "stdout",
     "output_type": "stream",
     "text": [
      "Prévision réussie pour IP.\n",
      "\n",
      "Analyse de IPG...\n",
      "IPG: Données prêtes pour l'analyse.\n"
     ]
    },
    {
     "name": "stderr",
     "output_type": "stream",
     "text": [
      "11:02:29 - cmdstanpy - INFO - Chain [1] start processing\n",
      "11:02:29 - cmdstanpy - INFO - Chain [1] done processing\n"
     ]
    },
    {
     "name": "stdout",
     "output_type": "stream",
     "text": [
      "Prévision réussie pour IPG.\n",
      "\n",
      "Analyse de INTU...\n",
      "INTU: Données prêtes pour l'analyse.\n"
     ]
    },
    {
     "name": "stderr",
     "output_type": "stream",
     "text": [
      "11:02:30 - cmdstanpy - INFO - Chain [1] start processing\n",
      "11:02:30 - cmdstanpy - INFO - Chain [1] done processing\n"
     ]
    },
    {
     "name": "stdout",
     "output_type": "stream",
     "text": [
      "Prévision réussie pour INTU.\n",
      "\n",
      "Analyse de ISRG...\n",
      "ISRG: Données prêtes pour l'analyse.\n"
     ]
    },
    {
     "name": "stderr",
     "output_type": "stream",
     "text": [
      "11:02:31 - cmdstanpy - INFO - Chain [1] start processing\n",
      "11:02:31 - cmdstanpy - INFO - Chain [1] done processing\n"
     ]
    },
    {
     "name": "stdout",
     "output_type": "stream",
     "text": [
      "Prévision réussie pour ISRG.\n",
      "\n",
      "Analyse de IVZ...\n",
      "IVZ: Données prêtes pour l'analyse.\n"
     ]
    },
    {
     "name": "stderr",
     "output_type": "stream",
     "text": [
      "11:02:32 - cmdstanpy - INFO - Chain [1] start processing\n",
      "11:02:32 - cmdstanpy - INFO - Chain [1] done processing\n"
     ]
    },
    {
     "name": "stdout",
     "output_type": "stream",
     "text": [
      "Prévision réussie pour IVZ.\n",
      "\n",
      "Analyse de INVH...\n",
      "INVH: Données prêtes pour l'analyse.\n"
     ]
    },
    {
     "name": "stderr",
     "output_type": "stream",
     "text": [
      "11:02:33 - cmdstanpy - INFO - Chain [1] start processing\n",
      "11:02:33 - cmdstanpy - INFO - Chain [1] done processing\n"
     ]
    },
    {
     "name": "stdout",
     "output_type": "stream",
     "text": [
      "Prévision réussie pour INVH.\n",
      "\n",
      "Analyse de IQV...\n",
      "IQV: Données prêtes pour l'analyse.\n"
     ]
    },
    {
     "name": "stderr",
     "output_type": "stream",
     "text": [
      "11:02:34 - cmdstanpy - INFO - Chain [1] start processing\n",
      "11:02:34 - cmdstanpy - INFO - Chain [1] done processing\n"
     ]
    },
    {
     "name": "stdout",
     "output_type": "stream",
     "text": [
      "Prévision réussie pour IQV.\n",
      "\n",
      "Analyse de IRM...\n",
      "IRM: Données prêtes pour l'analyse.\n"
     ]
    },
    {
     "name": "stderr",
     "output_type": "stream",
     "text": [
      "11:02:35 - cmdstanpy - INFO - Chain [1] start processing\n",
      "11:02:35 - cmdstanpy - INFO - Chain [1] done processing\n"
     ]
    },
    {
     "name": "stdout",
     "output_type": "stream",
     "text": [
      "Prévision réussie pour IRM.\n",
      "\n",
      "Analyse de JBHT...\n",
      "JBHT: Données prêtes pour l'analyse.\n"
     ]
    },
    {
     "name": "stderr",
     "output_type": "stream",
     "text": [
      "11:02:35 - cmdstanpy - INFO - Chain [1] start processing\n",
      "11:02:36 - cmdstanpy - INFO - Chain [1] done processing\n"
     ]
    },
    {
     "name": "stdout",
     "output_type": "stream",
     "text": [
      "Prévision réussie pour JBHT.\n",
      "\n",
      "Analyse de JBL...\n",
      "JBL: Données prêtes pour l'analyse.\n"
     ]
    },
    {
     "name": "stderr",
     "output_type": "stream",
     "text": [
      "11:02:36 - cmdstanpy - INFO - Chain [1] start processing\n",
      "11:02:37 - cmdstanpy - INFO - Chain [1] done processing\n"
     ]
    },
    {
     "name": "stdout",
     "output_type": "stream",
     "text": [
      "Prévision réussie pour JBL.\n",
      "\n",
      "Analyse de JKHY...\n",
      "JKHY: Données prêtes pour l'analyse.\n"
     ]
    },
    {
     "name": "stderr",
     "output_type": "stream",
     "text": [
      "11:02:37 - cmdstanpy - INFO - Chain [1] start processing\n",
      "11:02:38 - cmdstanpy - INFO - Chain [1] done processing\n"
     ]
    },
    {
     "name": "stdout",
     "output_type": "stream",
     "text": [
      "Prévision réussie pour JKHY.\n",
      "\n",
      "Analyse de J...\n",
      "J: Données prêtes pour l'analyse.\n"
     ]
    },
    {
     "name": "stderr",
     "output_type": "stream",
     "text": [
      "11:02:38 - cmdstanpy - INFO - Chain [1] start processing\n",
      "11:02:39 - cmdstanpy - INFO - Chain [1] done processing\n"
     ]
    },
    {
     "name": "stdout",
     "output_type": "stream",
     "text": [
      "Prévision réussie pour J.\n",
      "\n",
      "Analyse de JNJ...\n",
      "JNJ: Données prêtes pour l'analyse.\n"
     ]
    },
    {
     "name": "stderr",
     "output_type": "stream",
     "text": [
      "11:02:40 - cmdstanpy - INFO - Chain [1] start processing\n",
      "11:02:40 - cmdstanpy - INFO - Chain [1] done processing\n"
     ]
    },
    {
     "name": "stdout",
     "output_type": "stream",
     "text": [
      "Prévision réussie pour JNJ.\n",
      "\n",
      "Analyse de JCI...\n",
      "JCI: Données prêtes pour l'analyse.\n"
     ]
    },
    {
     "name": "stderr",
     "output_type": "stream",
     "text": [
      "11:02:41 - cmdstanpy - INFO - Chain [1] start processing\n",
      "11:02:41 - cmdstanpy - INFO - Chain [1] done processing\n"
     ]
    },
    {
     "name": "stdout",
     "output_type": "stream",
     "text": [
      "Prévision réussie pour JCI.\n",
      "\n",
      "Analyse de JPM...\n",
      "JPM: Données prêtes pour l'analyse.\n"
     ]
    },
    {
     "name": "stderr",
     "output_type": "stream",
     "text": [
      "11:02:42 - cmdstanpy - INFO - Chain [1] start processing\n",
      "11:02:42 - cmdstanpy - INFO - Chain [1] done processing\n"
     ]
    },
    {
     "name": "stdout",
     "output_type": "stream",
     "text": [
      "Prévision réussie pour JPM.\n",
      "\n",
      "Analyse de JNPR...\n",
      "JNPR: Données prêtes pour l'analyse.\n"
     ]
    },
    {
     "name": "stderr",
     "output_type": "stream",
     "text": [
      "11:02:43 - cmdstanpy - INFO - Chain [1] start processing\n",
      "11:02:43 - cmdstanpy - INFO - Chain [1] done processing\n"
     ]
    },
    {
     "name": "stdout",
     "output_type": "stream",
     "text": [
      "Prévision réussie pour JNPR.\n",
      "\n",
      "Analyse de K...\n",
      "K: Données prêtes pour l'analyse.\n"
     ]
    },
    {
     "name": "stderr",
     "output_type": "stream",
     "text": [
      "11:02:44 - cmdstanpy - INFO - Chain [1] start processing\n",
      "11:02:44 - cmdstanpy - INFO - Chain [1] done processing\n"
     ]
    },
    {
     "name": "stdout",
     "output_type": "stream",
     "text": [
      "Prévision réussie pour K.\n",
      "\n",
      "Analyse de KVUE...\n",
      "KVUE: Données prêtes pour l'analyse.\n"
     ]
    },
    {
     "name": "stderr",
     "output_type": "stream",
     "text": [
      "11:02:45 - cmdstanpy - INFO - Chain [1] start processing\n",
      "11:02:45 - cmdstanpy - INFO - Chain [1] done processing\n"
     ]
    },
    {
     "name": "stdout",
     "output_type": "stream",
     "text": [
      "Prévision réussie pour KVUE.\n",
      "\n",
      "Analyse de KDP...\n",
      "KDP: Données prêtes pour l'analyse.\n"
     ]
    },
    {
     "name": "stderr",
     "output_type": "stream",
     "text": [
      "11:02:45 - cmdstanpy - INFO - Chain [1] start processing\n",
      "11:02:46 - cmdstanpy - INFO - Chain [1] done processing\n"
     ]
    },
    {
     "name": "stdout",
     "output_type": "stream",
     "text": [
      "Prévision réussie pour KDP.\n",
      "\n",
      "Analyse de KEY...\n",
      "KEY: Données prêtes pour l'analyse.\n"
     ]
    },
    {
     "name": "stderr",
     "output_type": "stream",
     "text": [
      "11:02:46 - cmdstanpy - INFO - Chain [1] start processing\n",
      "11:02:47 - cmdstanpy - INFO - Chain [1] done processing\n"
     ]
    },
    {
     "name": "stdout",
     "output_type": "stream",
     "text": [
      "Prévision réussie pour KEY.\n",
      "\n",
      "Analyse de KEYS...\n",
      "KEYS: Données prêtes pour l'analyse.\n"
     ]
    },
    {
     "name": "stderr",
     "output_type": "stream",
     "text": [
      "11:02:47 - cmdstanpy - INFO - Chain [1] start processing\n",
      "11:02:48 - cmdstanpy - INFO - Chain [1] done processing\n"
     ]
    },
    {
     "name": "stdout",
     "output_type": "stream",
     "text": [
      "Prévision réussie pour KEYS.\n",
      "\n",
      "Analyse de KMB...\n",
      "KMB: Données prêtes pour l'analyse.\n"
     ]
    },
    {
     "name": "stderr",
     "output_type": "stream",
     "text": [
      "11:02:48 - cmdstanpy - INFO - Chain [1] start processing\n",
      "11:02:48 - cmdstanpy - INFO - Chain [1] done processing\n"
     ]
    },
    {
     "name": "stdout",
     "output_type": "stream",
     "text": [
      "Prévision réussie pour KMB.\n",
      "\n",
      "Analyse de KIM...\n",
      "KIM: Données prêtes pour l'analyse.\n"
     ]
    },
    {
     "name": "stderr",
     "output_type": "stream",
     "text": [
      "11:02:49 - cmdstanpy - INFO - Chain [1] start processing\n",
      "11:02:49 - cmdstanpy - INFO - Chain [1] done processing\n"
     ]
    },
    {
     "name": "stdout",
     "output_type": "stream",
     "text": [
      "Prévision réussie pour KIM.\n",
      "\n",
      "Analyse de KMI...\n",
      "KMI: Données prêtes pour l'analyse.\n"
     ]
    },
    {
     "name": "stderr",
     "output_type": "stream",
     "text": [
      "11:02:50 - cmdstanpy - INFO - Chain [1] start processing\n",
      "11:02:50 - cmdstanpy - INFO - Chain [1] done processing\n"
     ]
    },
    {
     "name": "stdout",
     "output_type": "stream",
     "text": [
      "Prévision réussie pour KMI.\n",
      "\n",
      "Analyse de KKR...\n",
      "KKR: Données prêtes pour l'analyse.\n"
     ]
    },
    {
     "name": "stderr",
     "output_type": "stream",
     "text": [
      "11:02:51 - cmdstanpy - INFO - Chain [1] start processing\n",
      "11:02:51 - cmdstanpy - INFO - Chain [1] done processing\n"
     ]
    },
    {
     "name": "stdout",
     "output_type": "stream",
     "text": [
      "Prévision réussie pour KKR.\n",
      "\n",
      "Analyse de KLAC...\n",
      "KLAC: Données prêtes pour l'analyse.\n"
     ]
    },
    {
     "name": "stderr",
     "output_type": "stream",
     "text": [
      "11:02:52 - cmdstanpy - INFO - Chain [1] start processing\n",
      "11:02:52 - cmdstanpy - INFO - Chain [1] done processing\n"
     ]
    },
    {
     "name": "stdout",
     "output_type": "stream",
     "text": [
      "Prévision réussie pour KLAC.\n",
      "\n",
      "Analyse de KHC...\n",
      "KHC: Données prêtes pour l'analyse.\n"
     ]
    },
    {
     "name": "stderr",
     "output_type": "stream",
     "text": [
      "11:02:53 - cmdstanpy - INFO - Chain [1] start processing\n",
      "11:02:53 - cmdstanpy - INFO - Chain [1] done processing\n"
     ]
    },
    {
     "name": "stdout",
     "output_type": "stream",
     "text": [
      "Prévision réussie pour KHC.\n",
      "\n",
      "Analyse de KR...\n",
      "KR: Données prêtes pour l'analyse.\n"
     ]
    },
    {
     "name": "stderr",
     "output_type": "stream",
     "text": [
      "11:02:54 - cmdstanpy - INFO - Chain [1] start processing\n",
      "11:02:54 - cmdstanpy - INFO - Chain [1] done processing\n"
     ]
    },
    {
     "name": "stdout",
     "output_type": "stream",
     "text": [
      "Prévision réussie pour KR.\n",
      "\n",
      "Analyse de LHX...\n",
      "LHX: Données prêtes pour l'analyse.\n"
     ]
    },
    {
     "name": "stderr",
     "output_type": "stream",
     "text": [
      "11:02:55 - cmdstanpy - INFO - Chain [1] start processing\n",
      "11:02:55 - cmdstanpy - INFO - Chain [1] done processing\n"
     ]
    },
    {
     "name": "stdout",
     "output_type": "stream",
     "text": [
      "Prévision réussie pour LHX.\n",
      "\n",
      "Analyse de LH...\n",
      "LH: Données prêtes pour l'analyse.\n"
     ]
    },
    {
     "name": "stderr",
     "output_type": "stream",
     "text": [
      "11:02:56 - cmdstanpy - INFO - Chain [1] start processing\n",
      "11:02:56 - cmdstanpy - INFO - Chain [1] done processing\n"
     ]
    },
    {
     "name": "stdout",
     "output_type": "stream",
     "text": [
      "Prévision réussie pour LH.\n",
      "\n",
      "Analyse de LRCX...\n",
      "LRCX: Données prêtes pour l'analyse.\n"
     ]
    },
    {
     "name": "stderr",
     "output_type": "stream",
     "text": [
      "11:02:57 - cmdstanpy - INFO - Chain [1] start processing\n",
      "11:02:57 - cmdstanpy - INFO - Chain [1] done processing\n"
     ]
    },
    {
     "name": "stdout",
     "output_type": "stream",
     "text": [
      "Prévision réussie pour LRCX.\n",
      "\n",
      "Analyse de LW...\n",
      "LW: Données prêtes pour l'analyse.\n"
     ]
    },
    {
     "name": "stderr",
     "output_type": "stream",
     "text": [
      "11:02:58 - cmdstanpy - INFO - Chain [1] start processing\n",
      "11:02:58 - cmdstanpy - INFO - Chain [1] done processing\n"
     ]
    },
    {
     "name": "stdout",
     "output_type": "stream",
     "text": [
      "Prévision réussie pour LW.\n",
      "\n",
      "Analyse de LVS...\n",
      "LVS: Données prêtes pour l'analyse.\n"
     ]
    },
    {
     "name": "stderr",
     "output_type": "stream",
     "text": [
      "11:02:59 - cmdstanpy - INFO - Chain [1] start processing\n",
      "11:02:59 - cmdstanpy - INFO - Chain [1] done processing\n"
     ]
    },
    {
     "name": "stdout",
     "output_type": "stream",
     "text": [
      "Prévision réussie pour LVS.\n",
      "\n",
      "Analyse de LDOS...\n",
      "LDOS: Données prêtes pour l'analyse.\n"
     ]
    },
    {
     "name": "stderr",
     "output_type": "stream",
     "text": [
      "11:03:00 - cmdstanpy - INFO - Chain [1] start processing\n",
      "11:03:00 - cmdstanpy - INFO - Chain [1] done processing\n"
     ]
    },
    {
     "name": "stdout",
     "output_type": "stream",
     "text": [
      "Prévision réussie pour LDOS.\n",
      "\n",
      "Analyse de LEN...\n",
      "LEN: Données prêtes pour l'analyse.\n"
     ]
    },
    {
     "name": "stderr",
     "output_type": "stream",
     "text": [
      "11:03:00 - cmdstanpy - INFO - Chain [1] start processing\n",
      "11:03:01 - cmdstanpy - INFO - Chain [1] done processing\n"
     ]
    },
    {
     "name": "stdout",
     "output_type": "stream",
     "text": [
      "Prévision réussie pour LEN.\n",
      "\n",
      "Analyse de LLY...\n",
      "LLY: Données prêtes pour l'analyse.\n"
     ]
    },
    {
     "name": "stderr",
     "output_type": "stream",
     "text": [
      "11:03:01 - cmdstanpy - INFO - Chain [1] start processing\n",
      "11:03:02 - cmdstanpy - INFO - Chain [1] done processing\n"
     ]
    },
    {
     "name": "stdout",
     "output_type": "stream",
     "text": [
      "Prévision réussie pour LLY.\n",
      "\n",
      "Analyse de LIN...\n",
      "LIN: Données prêtes pour l'analyse.\n"
     ]
    },
    {
     "name": "stderr",
     "output_type": "stream",
     "text": [
      "11:03:02 - cmdstanpy - INFO - Chain [1] start processing\n",
      "11:03:03 - cmdstanpy - INFO - Chain [1] done processing\n"
     ]
    },
    {
     "name": "stdout",
     "output_type": "stream",
     "text": [
      "Prévision réussie pour LIN.\n",
      "\n",
      "Analyse de LYV...\n",
      "LYV: Données prêtes pour l'analyse.\n"
     ]
    },
    {
     "name": "stderr",
     "output_type": "stream",
     "text": [
      "11:03:03 - cmdstanpy - INFO - Chain [1] start processing\n",
      "11:03:04 - cmdstanpy - INFO - Chain [1] done processing\n"
     ]
    },
    {
     "name": "stdout",
     "output_type": "stream",
     "text": [
      "Prévision réussie pour LYV.\n",
      "\n",
      "Analyse de LKQ...\n",
      "LKQ: Données prêtes pour l'analyse.\n"
     ]
    },
    {
     "name": "stderr",
     "output_type": "stream",
     "text": [
      "11:03:04 - cmdstanpy - INFO - Chain [1] start processing\n",
      "11:03:05 - cmdstanpy - INFO - Chain [1] done processing\n"
     ]
    },
    {
     "name": "stdout",
     "output_type": "stream",
     "text": [
      "Prévision réussie pour LKQ.\n",
      "\n",
      "Analyse de LMT...\n",
      "LMT: Données prêtes pour l'analyse.\n"
     ]
    },
    {
     "name": "stderr",
     "output_type": "stream",
     "text": [
      "11:03:06 - cmdstanpy - INFO - Chain [1] start processing\n",
      "11:03:06 - cmdstanpy - INFO - Chain [1] done processing\n"
     ]
    },
    {
     "name": "stdout",
     "output_type": "stream",
     "text": [
      "Prévision réussie pour LMT.\n",
      "\n",
      "Analyse de L...\n",
      "L: Données prêtes pour l'analyse.\n"
     ]
    },
    {
     "name": "stderr",
     "output_type": "stream",
     "text": [
      "11:03:07 - cmdstanpy - INFO - Chain [1] start processing\n",
      "11:03:07 - cmdstanpy - INFO - Chain [1] done processing\n"
     ]
    },
    {
     "name": "stdout",
     "output_type": "stream",
     "text": [
      "Prévision réussie pour L.\n",
      "\n",
      "Analyse de LOW...\n",
      "LOW: Données prêtes pour l'analyse.\n"
     ]
    },
    {
     "name": "stderr",
     "output_type": "stream",
     "text": [
      "11:03:08 - cmdstanpy - INFO - Chain [1] start processing\n",
      "11:03:08 - cmdstanpy - INFO - Chain [1] done processing\n"
     ]
    },
    {
     "name": "stdout",
     "output_type": "stream",
     "text": [
      "Prévision réussie pour LOW.\n",
      "\n",
      "Analyse de LULU...\n",
      "LULU: Données prêtes pour l'analyse.\n"
     ]
    },
    {
     "name": "stderr",
     "output_type": "stream",
     "text": [
      "11:03:09 - cmdstanpy - INFO - Chain [1] start processing\n",
      "11:03:09 - cmdstanpy - INFO - Chain [1] done processing\n"
     ]
    },
    {
     "name": "stdout",
     "output_type": "stream",
     "text": [
      "Prévision réussie pour LULU.\n",
      "\n",
      "Analyse de LYB...\n",
      "LYB: Données prêtes pour l'analyse.\n"
     ]
    },
    {
     "name": "stderr",
     "output_type": "stream",
     "text": [
      "11:03:10 - cmdstanpy - INFO - Chain [1] start processing\n",
      "11:03:10 - cmdstanpy - INFO - Chain [1] done processing\n"
     ]
    },
    {
     "name": "stdout",
     "output_type": "stream",
     "text": [
      "Prévision réussie pour LYB.\n",
      "\n",
      "Analyse de MTB...\n",
      "MTB: Données prêtes pour l'analyse.\n"
     ]
    },
    {
     "name": "stderr",
     "output_type": "stream",
     "text": [
      "11:03:11 - cmdstanpy - INFO - Chain [1] start processing\n",
      "11:03:11 - cmdstanpy - INFO - Chain [1] done processing\n"
     ]
    },
    {
     "name": "stdout",
     "output_type": "stream",
     "text": [
      "Prévision réussie pour MTB.\n",
      "\n",
      "Analyse de MPC...\n",
      "MPC: Données prêtes pour l'analyse.\n"
     ]
    },
    {
     "name": "stderr",
     "output_type": "stream",
     "text": [
      "11:03:12 - cmdstanpy - INFO - Chain [1] start processing\n",
      "11:03:12 - cmdstanpy - INFO - Chain [1] done processing\n"
     ]
    },
    {
     "name": "stdout",
     "output_type": "stream",
     "text": [
      "Prévision réussie pour MPC.\n",
      "\n",
      "Analyse de MKTX...\n",
      "MKTX: Données prêtes pour l'analyse.\n"
     ]
    },
    {
     "name": "stderr",
     "output_type": "stream",
     "text": [
      "11:03:13 - cmdstanpy - INFO - Chain [1] start processing\n",
      "11:03:13 - cmdstanpy - INFO - Chain [1] done processing\n"
     ]
    },
    {
     "name": "stdout",
     "output_type": "stream",
     "text": [
      "Prévision réussie pour MKTX.\n",
      "\n",
      "Analyse de MAR...\n",
      "MAR: Données prêtes pour l'analyse.\n"
     ]
    },
    {
     "name": "stderr",
     "output_type": "stream",
     "text": [
      "11:03:14 - cmdstanpy - INFO - Chain [1] start processing\n",
      "11:03:14 - cmdstanpy - INFO - Chain [1] done processing\n"
     ]
    },
    {
     "name": "stdout",
     "output_type": "stream",
     "text": [
      "Prévision réussie pour MAR.\n",
      "\n",
      "Analyse de MMC...\n",
      "MMC: Données prêtes pour l'analyse.\n"
     ]
    },
    {
     "name": "stderr",
     "output_type": "stream",
     "text": [
      "11:03:15 - cmdstanpy - INFO - Chain [1] start processing\n",
      "11:03:15 - cmdstanpy - INFO - Chain [1] done processing\n"
     ]
    },
    {
     "name": "stdout",
     "output_type": "stream",
     "text": [
      "Prévision réussie pour MMC.\n",
      "\n",
      "Analyse de MLM...\n",
      "MLM: Données prêtes pour l'analyse.\n"
     ]
    },
    {
     "name": "stderr",
     "output_type": "stream",
     "text": [
      "11:03:16 - cmdstanpy - INFO - Chain [1] start processing\n",
      "11:03:16 - cmdstanpy - INFO - Chain [1] done processing\n"
     ]
    },
    {
     "name": "stdout",
     "output_type": "stream",
     "text": [
      "Prévision réussie pour MLM.\n",
      "\n",
      "Analyse de MAS...\n",
      "MAS: Données prêtes pour l'analyse.\n"
     ]
    },
    {
     "name": "stderr",
     "output_type": "stream",
     "text": [
      "11:03:17 - cmdstanpy - INFO - Chain [1] start processing\n",
      "11:03:18 - cmdstanpy - INFO - Chain [1] done processing\n"
     ]
    },
    {
     "name": "stdout",
     "output_type": "stream",
     "text": [
      "Prévision réussie pour MAS.\n",
      "\n",
      "Analyse de MA...\n",
      "MA: Données prêtes pour l'analyse.\n"
     ]
    },
    {
     "name": "stderr",
     "output_type": "stream",
     "text": [
      "11:03:18 - cmdstanpy - INFO - Chain [1] start processing\n",
      "11:03:19 - cmdstanpy - INFO - Chain [1] done processing\n"
     ]
    },
    {
     "name": "stdout",
     "output_type": "stream",
     "text": [
      "Prévision réussie pour MA.\n",
      "\n",
      "Analyse de MTCH...\n",
      "MTCH: Données prêtes pour l'analyse.\n"
     ]
    },
    {
     "name": "stderr",
     "output_type": "stream",
     "text": [
      "11:03:19 - cmdstanpy - INFO - Chain [1] start processing\n",
      "11:03:20 - cmdstanpy - INFO - Chain [1] done processing\n"
     ]
    },
    {
     "name": "stdout",
     "output_type": "stream",
     "text": [
      "Prévision réussie pour MTCH.\n",
      "\n",
      "Analyse de MKC...\n",
      "MKC: Données prêtes pour l'analyse.\n"
     ]
    },
    {
     "name": "stderr",
     "output_type": "stream",
     "text": [
      "11:03:20 - cmdstanpy - INFO - Chain [1] start processing\n",
      "11:03:21 - cmdstanpy - INFO - Chain [1] done processing\n"
     ]
    },
    {
     "name": "stdout",
     "output_type": "stream",
     "text": [
      "Prévision réussie pour MKC.\n",
      "\n",
      "Analyse de MCD...\n",
      "MCD: Données prêtes pour l'analyse.\n"
     ]
    },
    {
     "name": "stderr",
     "output_type": "stream",
     "text": [
      "11:03:21 - cmdstanpy - INFO - Chain [1] start processing\n",
      "11:03:22 - cmdstanpy - INFO - Chain [1] done processing\n"
     ]
    },
    {
     "name": "stdout",
     "output_type": "stream",
     "text": [
      "Prévision réussie pour MCD.\n",
      "\n",
      "Analyse de MCK...\n",
      "MCK: Données prêtes pour l'analyse.\n"
     ]
    },
    {
     "name": "stderr",
     "output_type": "stream",
     "text": [
      "11:03:22 - cmdstanpy - INFO - Chain [1] start processing\n",
      "11:03:23 - cmdstanpy - INFO - Chain [1] done processing\n"
     ]
    },
    {
     "name": "stdout",
     "output_type": "stream",
     "text": [
      "Prévision réussie pour MCK.\n",
      "\n",
      "Analyse de MDT...\n",
      "MDT: Données prêtes pour l'analyse.\n"
     ]
    },
    {
     "name": "stderr",
     "output_type": "stream",
     "text": [
      "11:03:23 - cmdstanpy - INFO - Chain [1] start processing\n",
      "11:03:24 - cmdstanpy - INFO - Chain [1] done processing\n"
     ]
    },
    {
     "name": "stdout",
     "output_type": "stream",
     "text": [
      "Prévision réussie pour MDT.\n",
      "\n",
      "Analyse de MRK...\n",
      "MRK: Données prêtes pour l'analyse.\n"
     ]
    },
    {
     "name": "stderr",
     "output_type": "stream",
     "text": [
      "11:03:24 - cmdstanpy - INFO - Chain [1] start processing\n",
      "11:03:25 - cmdstanpy - INFO - Chain [1] done processing\n"
     ]
    },
    {
     "name": "stdout",
     "output_type": "stream",
     "text": [
      "Prévision réussie pour MRK.\n",
      "\n",
      "Analyse de META...\n",
      "META: Données prêtes pour l'analyse.\n"
     ]
    },
    {
     "name": "stderr",
     "output_type": "stream",
     "text": [
      "11:03:25 - cmdstanpy - INFO - Chain [1] start processing\n",
      "11:03:26 - cmdstanpy - INFO - Chain [1] done processing\n"
     ]
    },
    {
     "name": "stdout",
     "output_type": "stream",
     "text": [
      "Prévision réussie pour META.\n",
      "\n",
      "Analyse de MET...\n",
      "MET: Données prêtes pour l'analyse.\n"
     ]
    },
    {
     "name": "stderr",
     "output_type": "stream",
     "text": [
      "11:03:26 - cmdstanpy - INFO - Chain [1] start processing\n",
      "11:03:27 - cmdstanpy - INFO - Chain [1] done processing\n"
     ]
    },
    {
     "name": "stdout",
     "output_type": "stream",
     "text": [
      "Prévision réussie pour MET.\n",
      "\n",
      "Analyse de MTD...\n",
      "MTD: Données prêtes pour l'analyse.\n"
     ]
    },
    {
     "name": "stderr",
     "output_type": "stream",
     "text": [
      "11:03:27 - cmdstanpy - INFO - Chain [1] start processing\n",
      "11:03:28 - cmdstanpy - INFO - Chain [1] done processing\n"
     ]
    },
    {
     "name": "stdout",
     "output_type": "stream",
     "text": [
      "Prévision réussie pour MTD.\n",
      "\n",
      "Analyse de MGM...\n",
      "MGM: Données prêtes pour l'analyse.\n"
     ]
    },
    {
     "name": "stderr",
     "output_type": "stream",
     "text": [
      "11:03:29 - cmdstanpy - INFO - Chain [1] start processing\n",
      "11:03:29 - cmdstanpy - INFO - Chain [1] done processing\n"
     ]
    },
    {
     "name": "stdout",
     "output_type": "stream",
     "text": [
      "Prévision réussie pour MGM.\n",
      "\n",
      "Analyse de MCHP...\n",
      "MCHP: Données prêtes pour l'analyse.\n"
     ]
    },
    {
     "name": "stderr",
     "output_type": "stream",
     "text": [
      "11:03:30 - cmdstanpy - INFO - Chain [1] start processing\n",
      "11:03:30 - cmdstanpy - INFO - Chain [1] done processing\n"
     ]
    },
    {
     "name": "stdout",
     "output_type": "stream",
     "text": [
      "Prévision réussie pour MCHP.\n",
      "\n",
      "Analyse de MU...\n",
      "MU: Données prêtes pour l'analyse.\n"
     ]
    },
    {
     "name": "stderr",
     "output_type": "stream",
     "text": [
      "11:03:30 - cmdstanpy - INFO - Chain [1] start processing\n",
      "11:03:31 - cmdstanpy - INFO - Chain [1] done processing\n"
     ]
    },
    {
     "name": "stdout",
     "output_type": "stream",
     "text": [
      "Prévision réussie pour MU.\n",
      "\n",
      "Analyse de MSFT...\n",
      "MSFT: Données prêtes pour l'analyse.\n"
     ]
    },
    {
     "name": "stderr",
     "output_type": "stream",
     "text": [
      "11:03:31 - cmdstanpy - INFO - Chain [1] start processing\n",
      "11:03:32 - cmdstanpy - INFO - Chain [1] done processing\n"
     ]
    },
    {
     "name": "stdout",
     "output_type": "stream",
     "text": [
      "Prévision réussie pour MSFT.\n",
      "\n",
      "Analyse de MAA...\n",
      "MAA: Données prêtes pour l'analyse.\n"
     ]
    },
    {
     "name": "stderr",
     "output_type": "stream",
     "text": [
      "11:03:32 - cmdstanpy - INFO - Chain [1] start processing\n",
      "11:03:33 - cmdstanpy - INFO - Chain [1] done processing\n"
     ]
    },
    {
     "name": "stdout",
     "output_type": "stream",
     "text": [
      "Prévision réussie pour MAA.\n",
      "\n",
      "Analyse de MRNA...\n",
      "MRNA: Données prêtes pour l'analyse.\n"
     ]
    },
    {
     "name": "stderr",
     "output_type": "stream",
     "text": [
      "11:03:33 - cmdstanpy - INFO - Chain [1] start processing\n",
      "11:03:34 - cmdstanpy - INFO - Chain [1] done processing\n"
     ]
    },
    {
     "name": "stdout",
     "output_type": "stream",
     "text": [
      "Prévision réussie pour MRNA.\n",
      "\n",
      "Analyse de MHK...\n",
      "MHK: Données prêtes pour l'analyse.\n"
     ]
    },
    {
     "name": "stderr",
     "output_type": "stream",
     "text": [
      "11:03:34 - cmdstanpy - INFO - Chain [1] start processing\n",
      "11:03:35 - cmdstanpy - INFO - Chain [1] done processing\n"
     ]
    },
    {
     "name": "stdout",
     "output_type": "stream",
     "text": [
      "Prévision réussie pour MHK.\n",
      "\n",
      "Analyse de MOH...\n",
      "MOH: Données prêtes pour l'analyse.\n"
     ]
    },
    {
     "name": "stderr",
     "output_type": "stream",
     "text": [
      "11:03:35 - cmdstanpy - INFO - Chain [1] start processing\n",
      "11:03:35 - cmdstanpy - INFO - Chain [1] done processing\n"
     ]
    },
    {
     "name": "stdout",
     "output_type": "stream",
     "text": [
      "Prévision réussie pour MOH.\n",
      "\n",
      "Analyse de TAP...\n",
      "TAP: Données prêtes pour l'analyse.\n"
     ]
    },
    {
     "name": "stderr",
     "output_type": "stream",
     "text": [
      "11:03:36 - cmdstanpy - INFO - Chain [1] start processing\n",
      "11:03:36 - cmdstanpy - INFO - Chain [1] done processing\n"
     ]
    },
    {
     "name": "stdout",
     "output_type": "stream",
     "text": [
      "Prévision réussie pour TAP.\n",
      "\n",
      "Analyse de MDLZ...\n",
      "MDLZ: Données prêtes pour l'analyse.\n"
     ]
    },
    {
     "name": "stderr",
     "output_type": "stream",
     "text": [
      "11:03:37 - cmdstanpy - INFO - Chain [1] start processing\n",
      "11:03:37 - cmdstanpy - INFO - Chain [1] done processing\n"
     ]
    },
    {
     "name": "stdout",
     "output_type": "stream",
     "text": [
      "Prévision réussie pour MDLZ.\n",
      "\n",
      "Analyse de MPWR...\n",
      "MPWR: Données prêtes pour l'analyse.\n"
     ]
    },
    {
     "name": "stderr",
     "output_type": "stream",
     "text": [
      "11:03:38 - cmdstanpy - INFO - Chain [1] start processing\n",
      "11:03:38 - cmdstanpy - INFO - Chain [1] done processing\n"
     ]
    },
    {
     "name": "stdout",
     "output_type": "stream",
     "text": [
      "Prévision réussie pour MPWR.\n",
      "\n",
      "Analyse de MNST...\n",
      "MNST: Données prêtes pour l'analyse.\n"
     ]
    },
    {
     "name": "stderr",
     "output_type": "stream",
     "text": [
      "11:03:39 - cmdstanpy - INFO - Chain [1] start processing\n",
      "11:03:39 - cmdstanpy - INFO - Chain [1] done processing\n"
     ]
    },
    {
     "name": "stdout",
     "output_type": "stream",
     "text": [
      "Prévision réussie pour MNST.\n",
      "\n",
      "Analyse de MCO...\n",
      "MCO: Données prêtes pour l'analyse.\n"
     ]
    },
    {
     "name": "stderr",
     "output_type": "stream",
     "text": [
      "11:03:40 - cmdstanpy - INFO - Chain [1] start processing\n",
      "11:03:40 - cmdstanpy - INFO - Chain [1] done processing\n"
     ]
    },
    {
     "name": "stdout",
     "output_type": "stream",
     "text": [
      "Prévision réussie pour MCO.\n",
      "\n",
      "Analyse de MS...\n",
      "MS: Données prêtes pour l'analyse.\n"
     ]
    },
    {
     "name": "stderr",
     "output_type": "stream",
     "text": [
      "11:03:41 - cmdstanpy - INFO - Chain [1] start processing\n",
      "11:03:41 - cmdstanpy - INFO - Chain [1] done processing\n"
     ]
    },
    {
     "name": "stdout",
     "output_type": "stream",
     "text": [
      "Prévision réussie pour MS.\n",
      "\n",
      "Analyse de MOS...\n",
      "MOS: Données prêtes pour l'analyse.\n"
     ]
    },
    {
     "name": "stderr",
     "output_type": "stream",
     "text": [
      "11:03:42 - cmdstanpy - INFO - Chain [1] start processing\n",
      "11:03:42 - cmdstanpy - INFO - Chain [1] done processing\n"
     ]
    },
    {
     "name": "stdout",
     "output_type": "stream",
     "text": [
      "Prévision réussie pour MOS.\n",
      "\n",
      "Analyse de MSI...\n",
      "MSI: Données prêtes pour l'analyse.\n"
     ]
    },
    {
     "name": "stderr",
     "output_type": "stream",
     "text": [
      "11:03:43 - cmdstanpy - INFO - Chain [1] start processing\n",
      "11:03:44 - cmdstanpy - INFO - Chain [1] done processing\n"
     ]
    },
    {
     "name": "stdout",
     "output_type": "stream",
     "text": [
      "Prévision réussie pour MSI.\n",
      "\n",
      "Analyse de MSCI...\n",
      "MSCI: Données prêtes pour l'analyse.\n"
     ]
    },
    {
     "name": "stderr",
     "output_type": "stream",
     "text": [
      "11:03:44 - cmdstanpy - INFO - Chain [1] start processing\n",
      "11:03:45 - cmdstanpy - INFO - Chain [1] done processing\n"
     ]
    },
    {
     "name": "stdout",
     "output_type": "stream",
     "text": [
      "Prévision réussie pour MSCI.\n",
      "\n",
      "Analyse de NDAQ...\n",
      "NDAQ: Données prêtes pour l'analyse.\n"
     ]
    },
    {
     "name": "stderr",
     "output_type": "stream",
     "text": [
      "11:03:45 - cmdstanpy - INFO - Chain [1] start processing\n",
      "11:03:46 - cmdstanpy - INFO - Chain [1] done processing\n"
     ]
    },
    {
     "name": "stdout",
     "output_type": "stream",
     "text": [
      "Prévision réussie pour NDAQ.\n",
      "\n",
      "Analyse de NTAP...\n",
      "NTAP: Données prêtes pour l'analyse.\n"
     ]
    },
    {
     "name": "stderr",
     "output_type": "stream",
     "text": [
      "11:03:46 - cmdstanpy - INFO - Chain [1] start processing\n",
      "11:03:46 - cmdstanpy - INFO - Chain [1] done processing\n"
     ]
    },
    {
     "name": "stdout",
     "output_type": "stream",
     "text": [
      "Prévision réussie pour NTAP.\n",
      "\n",
      "Analyse de NFLX...\n",
      "NFLX: Données prêtes pour l'analyse.\n"
     ]
    },
    {
     "name": "stderr",
     "output_type": "stream",
     "text": [
      "11:03:47 - cmdstanpy - INFO - Chain [1] start processing\n",
      "11:03:47 - cmdstanpy - INFO - Chain [1] done processing\n"
     ]
    },
    {
     "name": "stdout",
     "output_type": "stream",
     "text": [
      "Prévision réussie pour NFLX.\n",
      "\n",
      "Analyse de NEM...\n",
      "NEM: Données prêtes pour l'analyse.\n"
     ]
    },
    {
     "name": "stderr",
     "output_type": "stream",
     "text": [
      "11:03:48 - cmdstanpy - INFO - Chain [1] start processing\n",
      "11:03:48 - cmdstanpy - INFO - Chain [1] done processing\n"
     ]
    },
    {
     "name": "stdout",
     "output_type": "stream",
     "text": [
      "Prévision réussie pour NEM.\n",
      "\n",
      "Analyse de NWSA...\n",
      "NWSA: Données prêtes pour l'analyse.\n"
     ]
    },
    {
     "name": "stderr",
     "output_type": "stream",
     "text": [
      "11:03:49 - cmdstanpy - INFO - Chain [1] start processing\n",
      "11:03:49 - cmdstanpy - INFO - Chain [1] done processing\n"
     ]
    },
    {
     "name": "stdout",
     "output_type": "stream",
     "text": [
      "Prévision réussie pour NWSA.\n",
      "\n",
      "Analyse de NWS...\n",
      "NWS: Données prêtes pour l'analyse.\n"
     ]
    },
    {
     "name": "stderr",
     "output_type": "stream",
     "text": [
      "11:03:50 - cmdstanpy - INFO - Chain [1] start processing\n",
      "11:03:50 - cmdstanpy - INFO - Chain [1] done processing\n"
     ]
    },
    {
     "name": "stdout",
     "output_type": "stream",
     "text": [
      "Prévision réussie pour NWS.\n",
      "\n",
      "Analyse de NEE...\n",
      "NEE: Données prêtes pour l'analyse.\n"
     ]
    },
    {
     "name": "stderr",
     "output_type": "stream",
     "text": [
      "11:03:51 - cmdstanpy - INFO - Chain [1] start processing\n",
      "11:03:51 - cmdstanpy - INFO - Chain [1] done processing\n"
     ]
    },
    {
     "name": "stdout",
     "output_type": "stream",
     "text": [
      "Prévision réussie pour NEE.\n",
      "\n",
      "Analyse de NKE...\n",
      "NKE: Données prêtes pour l'analyse.\n"
     ]
    },
    {
     "name": "stderr",
     "output_type": "stream",
     "text": [
      "11:03:52 - cmdstanpy - INFO - Chain [1] start processing\n",
      "11:03:52 - cmdstanpy - INFO - Chain [1] done processing\n"
     ]
    },
    {
     "name": "stdout",
     "output_type": "stream",
     "text": [
      "Prévision réussie pour NKE.\n",
      "\n",
      "Analyse de NI...\n",
      "NI: Données prêtes pour l'analyse.\n"
     ]
    },
    {
     "name": "stderr",
     "output_type": "stream",
     "text": [
      "11:03:53 - cmdstanpy - INFO - Chain [1] start processing\n",
      "11:03:53 - cmdstanpy - INFO - Chain [1] done processing\n"
     ]
    },
    {
     "name": "stdout",
     "output_type": "stream",
     "text": [
      "Prévision réussie pour NI.\n",
      "\n",
      "Analyse de NDSN...\n",
      "NDSN: Données prêtes pour l'analyse.\n"
     ]
    },
    {
     "name": "stderr",
     "output_type": "stream",
     "text": [
      "11:03:54 - cmdstanpy - INFO - Chain [1] start processing\n",
      "11:03:54 - cmdstanpy - INFO - Chain [1] done processing\n"
     ]
    },
    {
     "name": "stdout",
     "output_type": "stream",
     "text": [
      "Prévision réussie pour NDSN.\n",
      "\n",
      "Analyse de NSC...\n",
      "NSC: Données prêtes pour l'analyse.\n"
     ]
    },
    {
     "name": "stderr",
     "output_type": "stream",
     "text": [
      "11:03:55 - cmdstanpy - INFO - Chain [1] start processing\n",
      "11:03:55 - cmdstanpy - INFO - Chain [1] done processing\n"
     ]
    },
    {
     "name": "stdout",
     "output_type": "stream",
     "text": [
      "Prévision réussie pour NSC.\n",
      "\n",
      "Analyse de NTRS...\n",
      "NTRS: Données prêtes pour l'analyse.\n"
     ]
    },
    {
     "name": "stderr",
     "output_type": "stream",
     "text": [
      "11:03:56 - cmdstanpy - INFO - Chain [1] start processing\n",
      "11:03:56 - cmdstanpy - INFO - Chain [1] done processing\n"
     ]
    },
    {
     "name": "stdout",
     "output_type": "stream",
     "text": [
      "Prévision réussie pour NTRS.\n",
      "\n",
      "Analyse de NOC...\n",
      "NOC: Données prêtes pour l'analyse.\n"
     ]
    },
    {
     "name": "stderr",
     "output_type": "stream",
     "text": [
      "11:03:57 - cmdstanpy - INFO - Chain [1] start processing\n",
      "11:03:57 - cmdstanpy - INFO - Chain [1] done processing\n"
     ]
    },
    {
     "name": "stdout",
     "output_type": "stream",
     "text": [
      "Prévision réussie pour NOC.\n",
      "\n",
      "Analyse de NCLH...\n",
      "NCLH: Données prêtes pour l'analyse.\n"
     ]
    },
    {
     "name": "stderr",
     "output_type": "stream",
     "text": [
      "11:03:58 - cmdstanpy - INFO - Chain [1] start processing\n",
      "11:03:58 - cmdstanpy - INFO - Chain [1] done processing\n"
     ]
    },
    {
     "name": "stdout",
     "output_type": "stream",
     "text": [
      "Prévision réussie pour NCLH.\n",
      "\n",
      "Analyse de NRG...\n",
      "NRG: Données prêtes pour l'analyse.\n"
     ]
    },
    {
     "name": "stderr",
     "output_type": "stream",
     "text": [
      "11:03:59 - cmdstanpy - INFO - Chain [1] start processing\n",
      "11:03:59 - cmdstanpy - INFO - Chain [1] done processing\n"
     ]
    },
    {
     "name": "stdout",
     "output_type": "stream",
     "text": [
      "Prévision réussie pour NRG.\n",
      "\n",
      "Analyse de NUE...\n",
      "NUE: Données prêtes pour l'analyse.\n"
     ]
    },
    {
     "name": "stderr",
     "output_type": "stream",
     "text": [
      "11:04:00 - cmdstanpy - INFO - Chain [1] start processing\n",
      "11:04:00 - cmdstanpy - INFO - Chain [1] done processing\n"
     ]
    },
    {
     "name": "stdout",
     "output_type": "stream",
     "text": [
      "Prévision réussie pour NUE.\n",
      "\n",
      "Analyse de NVDA...\n",
      "NVDA: Données prêtes pour l'analyse.\n"
     ]
    },
    {
     "name": "stderr",
     "output_type": "stream",
     "text": [
      "11:04:01 - cmdstanpy - INFO - Chain [1] start processing\n",
      "11:04:01 - cmdstanpy - INFO - Chain [1] done processing\n"
     ]
    },
    {
     "name": "stdout",
     "output_type": "stream",
     "text": [
      "Prévision réussie pour NVDA.\n",
      "\n",
      "Analyse de NVR...\n",
      "NVR: Données prêtes pour l'analyse.\n"
     ]
    },
    {
     "name": "stderr",
     "output_type": "stream",
     "text": [
      "11:04:02 - cmdstanpy - INFO - Chain [1] start processing\n",
      "11:04:02 - cmdstanpy - INFO - Chain [1] done processing\n"
     ]
    },
    {
     "name": "stdout",
     "output_type": "stream",
     "text": [
      "Prévision réussie pour NVR.\n",
      "\n",
      "Analyse de NXPI...\n",
      "NXPI: Données prêtes pour l'analyse.\n"
     ]
    },
    {
     "name": "stderr",
     "output_type": "stream",
     "text": [
      "11:04:03 - cmdstanpy - INFO - Chain [1] start processing\n",
      "11:04:03 - cmdstanpy - INFO - Chain [1] done processing\n"
     ]
    },
    {
     "name": "stdout",
     "output_type": "stream",
     "text": [
      "Prévision réussie pour NXPI.\n",
      "\n",
      "Analyse de ORLY...\n",
      "ORLY: Données prêtes pour l'analyse.\n"
     ]
    },
    {
     "name": "stderr",
     "output_type": "stream",
     "text": [
      "11:04:04 - cmdstanpy - INFO - Chain [1] start processing\n",
      "11:04:04 - cmdstanpy - INFO - Chain [1] done processing\n"
     ]
    },
    {
     "name": "stdout",
     "output_type": "stream",
     "text": [
      "Prévision réussie pour ORLY.\n",
      "\n",
      "Analyse de OXY...\n",
      "OXY: Données prêtes pour l'analyse.\n"
     ]
    },
    {
     "name": "stderr",
     "output_type": "stream",
     "text": [
      "11:04:05 - cmdstanpy - INFO - Chain [1] start processing\n",
      "11:04:05 - cmdstanpy - INFO - Chain [1] done processing\n"
     ]
    },
    {
     "name": "stdout",
     "output_type": "stream",
     "text": [
      "Prévision réussie pour OXY.\n",
      "\n",
      "Analyse de ODFL...\n",
      "ODFL: Données prêtes pour l'analyse.\n"
     ]
    },
    {
     "name": "stderr",
     "output_type": "stream",
     "text": [
      "11:04:06 - cmdstanpy - INFO - Chain [1] start processing\n",
      "11:04:06 - cmdstanpy - INFO - Chain [1] done processing\n"
     ]
    },
    {
     "name": "stdout",
     "output_type": "stream",
     "text": [
      "Prévision réussie pour ODFL.\n",
      "\n",
      "Analyse de OMC...\n",
      "OMC: Données prêtes pour l'analyse.\n"
     ]
    },
    {
     "name": "stderr",
     "output_type": "stream",
     "text": [
      "11:04:07 - cmdstanpy - INFO - Chain [1] start processing\n",
      "11:04:07 - cmdstanpy - INFO - Chain [1] done processing\n"
     ]
    },
    {
     "name": "stdout",
     "output_type": "stream",
     "text": [
      "Prévision réussie pour OMC.\n",
      "\n",
      "Analyse de ON...\n",
      "ON: Données prêtes pour l'analyse.\n"
     ]
    },
    {
     "name": "stderr",
     "output_type": "stream",
     "text": [
      "11:04:08 - cmdstanpy - INFO - Chain [1] start processing\n",
      "11:04:08 - cmdstanpy - INFO - Chain [1] done processing\n"
     ]
    },
    {
     "name": "stdout",
     "output_type": "stream",
     "text": [
      "Prévision réussie pour ON.\n",
      "\n",
      "Analyse de OKE...\n",
      "OKE: Données prêtes pour l'analyse.\n"
     ]
    },
    {
     "name": "stderr",
     "output_type": "stream",
     "text": [
      "11:04:09 - cmdstanpy - INFO - Chain [1] start processing\n",
      "11:04:09 - cmdstanpy - INFO - Chain [1] done processing\n"
     ]
    },
    {
     "name": "stdout",
     "output_type": "stream",
     "text": [
      "Prévision réussie pour OKE.\n",
      "\n",
      "Analyse de ORCL...\n",
      "ORCL: Données prêtes pour l'analyse.\n"
     ]
    },
    {
     "name": "stderr",
     "output_type": "stream",
     "text": [
      "11:04:10 - cmdstanpy - INFO - Chain [1] start processing\n",
      "11:04:10 - cmdstanpy - INFO - Chain [1] done processing\n"
     ]
    },
    {
     "name": "stdout",
     "output_type": "stream",
     "text": [
      "Prévision réussie pour ORCL.\n",
      "\n",
      "Analyse de OTIS...\n",
      "OTIS: Données prêtes pour l'analyse.\n"
     ]
    },
    {
     "name": "stderr",
     "output_type": "stream",
     "text": [
      "11:04:10 - cmdstanpy - INFO - Chain [1] start processing\n",
      "11:04:11 - cmdstanpy - INFO - Chain [1] done processing\n"
     ]
    },
    {
     "name": "stdout",
     "output_type": "stream",
     "text": [
      "Prévision réussie pour OTIS.\n",
      "\n",
      "Analyse de PCAR...\n",
      "PCAR: Données prêtes pour l'analyse.\n"
     ]
    },
    {
     "name": "stderr",
     "output_type": "stream",
     "text": [
      "11:04:11 - cmdstanpy - INFO - Chain [1] start processing\n",
      "11:04:12 - cmdstanpy - INFO - Chain [1] done processing\n"
     ]
    },
    {
     "name": "stdout",
     "output_type": "stream",
     "text": [
      "Prévision réussie pour PCAR.\n",
      "\n",
      "Analyse de PKG...\n",
      "PKG: Données prêtes pour l'analyse.\n"
     ]
    },
    {
     "name": "stderr",
     "output_type": "stream",
     "text": [
      "11:04:12 - cmdstanpy - INFO - Chain [1] start processing\n",
      "11:04:13 - cmdstanpy - INFO - Chain [1] done processing\n"
     ]
    },
    {
     "name": "stdout",
     "output_type": "stream",
     "text": [
      "Prévision réussie pour PKG.\n",
      "\n",
      "Analyse de PLTR...\n",
      "PLTR: Données prêtes pour l'analyse.\n"
     ]
    },
    {
     "name": "stderr",
     "output_type": "stream",
     "text": [
      "11:04:13 - cmdstanpy - INFO - Chain [1] start processing\n",
      "11:04:14 - cmdstanpy - INFO - Chain [1] done processing\n"
     ]
    },
    {
     "name": "stdout",
     "output_type": "stream",
     "text": [
      "Prévision réussie pour PLTR.\n",
      "\n",
      "Analyse de PANW...\n",
      "PANW: Données prêtes pour l'analyse.\n"
     ]
    },
    {
     "name": "stderr",
     "output_type": "stream",
     "text": [
      "11:04:14 - cmdstanpy - INFO - Chain [1] start processing\n",
      "11:04:14 - cmdstanpy - INFO - Chain [1] done processing\n"
     ]
    },
    {
     "name": "stdout",
     "output_type": "stream",
     "text": [
      "Prévision réussie pour PANW.\n",
      "\n",
      "Analyse de PARA...\n",
      "PARA: Données prêtes pour l'analyse.\n"
     ]
    },
    {
     "name": "stderr",
     "output_type": "stream",
     "text": [
      "11:04:15 - cmdstanpy - INFO - Chain [1] start processing\n",
      "11:04:15 - cmdstanpy - INFO - Chain [1] done processing\n"
     ]
    },
    {
     "name": "stdout",
     "output_type": "stream",
     "text": [
      "Prévision réussie pour PARA.\n",
      "\n",
      "Analyse de PH...\n",
      "PH: Données prêtes pour l'analyse.\n"
     ]
    },
    {
     "name": "stderr",
     "output_type": "stream",
     "text": [
      "11:04:16 - cmdstanpy - INFO - Chain [1] start processing\n",
      "11:04:16 - cmdstanpy - INFO - Chain [1] done processing\n"
     ]
    },
    {
     "name": "stdout",
     "output_type": "stream",
     "text": [
      "Prévision réussie pour PH.\n",
      "\n",
      "Analyse de PAYX...\n",
      "PAYX: Données prêtes pour l'analyse.\n"
     ]
    },
    {
     "name": "stderr",
     "output_type": "stream",
     "text": [
      "11:04:17 - cmdstanpy - INFO - Chain [1] start processing\n",
      "11:04:17 - cmdstanpy - INFO - Chain [1] done processing\n"
     ]
    },
    {
     "name": "stdout",
     "output_type": "stream",
     "text": [
      "Prévision réussie pour PAYX.\n",
      "\n",
      "Analyse de PAYC...\n",
      "PAYC: Données prêtes pour l'analyse.\n"
     ]
    },
    {
     "name": "stderr",
     "output_type": "stream",
     "text": [
      "11:04:18 - cmdstanpy - INFO - Chain [1] start processing\n",
      "11:04:18 - cmdstanpy - INFO - Chain [1] done processing\n"
     ]
    },
    {
     "name": "stdout",
     "output_type": "stream",
     "text": [
      "Prévision réussie pour PAYC.\n",
      "\n",
      "Analyse de PYPL...\n",
      "PYPL: Données prêtes pour l'analyse.\n"
     ]
    },
    {
     "name": "stderr",
     "output_type": "stream",
     "text": [
      "11:04:19 - cmdstanpy - INFO - Chain [1] start processing\n",
      "11:04:19 - cmdstanpy - INFO - Chain [1] done processing\n"
     ]
    },
    {
     "name": "stdout",
     "output_type": "stream",
     "text": [
      "Prévision réussie pour PYPL.\n",
      "\n",
      "Analyse de PNR...\n",
      "PNR: Données prêtes pour l'analyse.\n"
     ]
    },
    {
     "name": "stderr",
     "output_type": "stream",
     "text": [
      "11:04:20 - cmdstanpy - INFO - Chain [1] start processing\n",
      "11:04:20 - cmdstanpy - INFO - Chain [1] done processing\n"
     ]
    },
    {
     "name": "stdout",
     "output_type": "stream",
     "text": [
      "Prévision réussie pour PNR.\n",
      "\n",
      "Analyse de PEP...\n",
      "PEP: Données prêtes pour l'analyse.\n"
     ]
    },
    {
     "name": "stderr",
     "output_type": "stream",
     "text": [
      "11:04:21 - cmdstanpy - INFO - Chain [1] start processing\n",
      "11:04:21 - cmdstanpy - INFO - Chain [1] done processing\n"
     ]
    },
    {
     "name": "stdout",
     "output_type": "stream",
     "text": [
      "Prévision réussie pour PEP.\n",
      "\n",
      "Analyse de PFE...\n",
      "PFE: Données prêtes pour l'analyse.\n"
     ]
    },
    {
     "name": "stderr",
     "output_type": "stream",
     "text": [
      "11:04:22 - cmdstanpy - INFO - Chain [1] start processing\n",
      "11:04:22 - cmdstanpy - INFO - Chain [1] done processing\n"
     ]
    },
    {
     "name": "stdout",
     "output_type": "stream",
     "text": [
      "Prévision réussie pour PFE.\n",
      "\n",
      "Analyse de PCG...\n",
      "PCG: Données prêtes pour l'analyse.\n"
     ]
    },
    {
     "name": "stderr",
     "output_type": "stream",
     "text": [
      "11:04:23 - cmdstanpy - INFO - Chain [1] start processing\n",
      "11:04:23 - cmdstanpy - INFO - Chain [1] done processing\n"
     ]
    },
    {
     "name": "stdout",
     "output_type": "stream",
     "text": [
      "Prévision réussie pour PCG.\n",
      "\n",
      "Analyse de PM...\n",
      "PM: Données prêtes pour l'analyse.\n"
     ]
    },
    {
     "name": "stderr",
     "output_type": "stream",
     "text": [
      "11:04:24 - cmdstanpy - INFO - Chain [1] start processing\n",
      "11:04:24 - cmdstanpy - INFO - Chain [1] done processing\n"
     ]
    },
    {
     "name": "stdout",
     "output_type": "stream",
     "text": [
      "Prévision réussie pour PM.\n",
      "\n",
      "Analyse de PSX...\n",
      "PSX: Données prêtes pour l'analyse.\n"
     ]
    },
    {
     "name": "stderr",
     "output_type": "stream",
     "text": [
      "11:04:25 - cmdstanpy - INFO - Chain [1] start processing\n",
      "11:04:25 - cmdstanpy - INFO - Chain [1] done processing\n"
     ]
    },
    {
     "name": "stdout",
     "output_type": "stream",
     "text": [
      "Prévision réussie pour PSX.\n",
      "\n",
      "Analyse de PNW...\n",
      "PNW: Données prêtes pour l'analyse.\n"
     ]
    },
    {
     "name": "stderr",
     "output_type": "stream",
     "text": [
      "11:04:26 - cmdstanpy - INFO - Chain [1] start processing\n",
      "11:04:26 - cmdstanpy - INFO - Chain [1] done processing\n"
     ]
    },
    {
     "name": "stdout",
     "output_type": "stream",
     "text": [
      "Prévision réussie pour PNW.\n",
      "\n",
      "Analyse de PNC...\n",
      "PNC: Données prêtes pour l'analyse.\n"
     ]
    },
    {
     "name": "stderr",
     "output_type": "stream",
     "text": [
      "11:04:27 - cmdstanpy - INFO - Chain [1] start processing\n",
      "11:04:27 - cmdstanpy - INFO - Chain [1] done processing\n"
     ]
    },
    {
     "name": "stdout",
     "output_type": "stream",
     "text": [
      "Prévision réussie pour PNC.\n",
      "\n",
      "Analyse de POOL...\n",
      "POOL: Données prêtes pour l'analyse.\n"
     ]
    },
    {
     "name": "stderr",
     "output_type": "stream",
     "text": [
      "11:04:27 - cmdstanpy - INFO - Chain [1] start processing\n",
      "11:04:28 - cmdstanpy - INFO - Chain [1] done processing\n"
     ]
    },
    {
     "name": "stdout",
     "output_type": "stream",
     "text": [
      "Prévision réussie pour POOL.\n",
      "\n",
      "Analyse de PPG...\n",
      "PPG: Données prêtes pour l'analyse.\n"
     ]
    },
    {
     "name": "stderr",
     "output_type": "stream",
     "text": [
      "11:04:29 - cmdstanpy - INFO - Chain [1] start processing\n",
      "11:04:29 - cmdstanpy - INFO - Chain [1] done processing\n"
     ]
    },
    {
     "name": "stdout",
     "output_type": "stream",
     "text": [
      "Prévision réussie pour PPG.\n",
      "\n",
      "Analyse de PPL...\n",
      "PPL: Données prêtes pour l'analyse.\n"
     ]
    },
    {
     "name": "stderr",
     "output_type": "stream",
     "text": [
      "11:04:30 - cmdstanpy - INFO - Chain [1] start processing\n",
      "11:04:30 - cmdstanpy - INFO - Chain [1] done processing\n"
     ]
    },
    {
     "name": "stdout",
     "output_type": "stream",
     "text": [
      "Prévision réussie pour PPL.\n",
      "\n",
      "Analyse de PFG...\n",
      "PFG: Données prêtes pour l'analyse.\n"
     ]
    },
    {
     "name": "stderr",
     "output_type": "stream",
     "text": [
      "11:04:30 - cmdstanpy - INFO - Chain [1] start processing\n",
      "11:04:31 - cmdstanpy - INFO - Chain [1] done processing\n"
     ]
    },
    {
     "name": "stdout",
     "output_type": "stream",
     "text": [
      "Prévision réussie pour PFG.\n",
      "\n",
      "Analyse de PG...\n"
     ]
    },
    {
     "name": "stderr",
     "output_type": "stream",
     "text": [
      "11:04:31 - cmdstanpy - INFO - Chain [1] start processing\n"
     ]
    },
    {
     "name": "stdout",
     "output_type": "stream",
     "text": [
      "PG: Données prêtes pour l'analyse.\n"
     ]
    },
    {
     "name": "stderr",
     "output_type": "stream",
     "text": [
      "11:04:32 - cmdstanpy - INFO - Chain [1] done processing\n"
     ]
    },
    {
     "name": "stdout",
     "output_type": "stream",
     "text": [
      "Prévision réussie pour PG.\n",
      "\n",
      "Analyse de PGR...\n",
      "PGR: Données prêtes pour l'analyse.\n"
     ]
    },
    {
     "name": "stderr",
     "output_type": "stream",
     "text": [
      "11:04:32 - cmdstanpy - INFO - Chain [1] start processing\n",
      "11:04:33 - cmdstanpy - INFO - Chain [1] done processing\n"
     ]
    },
    {
     "name": "stdout",
     "output_type": "stream",
     "text": [
      "Prévision réussie pour PGR.\n",
      "\n",
      "Analyse de PLD...\n",
      "PLD: Données prêtes pour l'analyse.\n"
     ]
    },
    {
     "name": "stderr",
     "output_type": "stream",
     "text": [
      "11:04:33 - cmdstanpy - INFO - Chain [1] start processing\n",
      "11:04:34 - cmdstanpy - INFO - Chain [1] done processing\n"
     ]
    },
    {
     "name": "stdout",
     "output_type": "stream",
     "text": [
      "Prévision réussie pour PLD.\n",
      "\n",
      "Analyse de PRU...\n",
      "PRU: Données prêtes pour l'analyse.\n"
     ]
    },
    {
     "name": "stderr",
     "output_type": "stream",
     "text": [
      "11:04:34 - cmdstanpy - INFO - Chain [1] start processing\n",
      "11:04:35 - cmdstanpy - INFO - Chain [1] done processing\n"
     ]
    },
    {
     "name": "stdout",
     "output_type": "stream",
     "text": [
      "Prévision réussie pour PRU.\n",
      "\n",
      "Analyse de PEG...\n",
      "PEG: Données prêtes pour l'analyse.\n"
     ]
    },
    {
     "name": "stderr",
     "output_type": "stream",
     "text": [
      "11:04:35 - cmdstanpy - INFO - Chain [1] start processing\n",
      "11:04:36 - cmdstanpy - INFO - Chain [1] done processing\n"
     ]
    },
    {
     "name": "stdout",
     "output_type": "stream",
     "text": [
      "Prévision réussie pour PEG.\n",
      "\n",
      "Analyse de PTC...\n",
      "PTC: Données prêtes pour l'analyse.\n"
     ]
    },
    {
     "name": "stderr",
     "output_type": "stream",
     "text": [
      "11:04:36 - cmdstanpy - INFO - Chain [1] start processing\n",
      "11:04:37 - cmdstanpy - INFO - Chain [1] done processing\n"
     ]
    },
    {
     "name": "stdout",
     "output_type": "stream",
     "text": [
      "Prévision réussie pour PTC.\n",
      "\n",
      "Analyse de PSA...\n",
      "PSA: Données prêtes pour l'analyse.\n"
     ]
    },
    {
     "name": "stderr",
     "output_type": "stream",
     "text": [
      "11:04:37 - cmdstanpy - INFO - Chain [1] start processing\n",
      "11:04:38 - cmdstanpy - INFO - Chain [1] done processing\n"
     ]
    },
    {
     "name": "stdout",
     "output_type": "stream",
     "text": [
      "Prévision réussie pour PSA.\n",
      "\n",
      "Analyse de PHM...\n",
      "PHM: Données prêtes pour l'analyse.\n"
     ]
    },
    {
     "name": "stderr",
     "output_type": "stream",
     "text": [
      "11:04:38 - cmdstanpy - INFO - Chain [1] start processing\n",
      "11:04:39 - cmdstanpy - INFO - Chain [1] done processing\n"
     ]
    },
    {
     "name": "stdout",
     "output_type": "stream",
     "text": [
      "Prévision réussie pour PHM.\n",
      "\n",
      "Analyse de QRVO...\n",
      "QRVO: Données prêtes pour l'analyse.\n"
     ]
    },
    {
     "name": "stderr",
     "output_type": "stream",
     "text": [
      "11:04:39 - cmdstanpy - INFO - Chain [1] start processing\n",
      "11:04:40 - cmdstanpy - INFO - Chain [1] done processing\n"
     ]
    },
    {
     "name": "stdout",
     "output_type": "stream",
     "text": [
      "Prévision réussie pour QRVO.\n",
      "\n",
      "Analyse de PWR...\n",
      "PWR: Données prêtes pour l'analyse.\n"
     ]
    },
    {
     "name": "stderr",
     "output_type": "stream",
     "text": [
      "11:04:40 - cmdstanpy - INFO - Chain [1] start processing\n",
      "11:04:41 - cmdstanpy - INFO - Chain [1] done processing\n"
     ]
    },
    {
     "name": "stdout",
     "output_type": "stream",
     "text": [
      "Prévision réussie pour PWR.\n",
      "\n",
      "Analyse de QCOM...\n",
      "QCOM: Données prêtes pour l'analyse.\n"
     ]
    },
    {
     "name": "stderr",
     "output_type": "stream",
     "text": [
      "11:04:41 - cmdstanpy - INFO - Chain [1] start processing\n",
      "11:04:41 - cmdstanpy - INFO - Chain [1] done processing\n"
     ]
    },
    {
     "name": "stdout",
     "output_type": "stream",
     "text": [
      "Prévision réussie pour QCOM.\n",
      "\n",
      "Analyse de DGX...\n",
      "DGX: Données prêtes pour l'analyse.\n"
     ]
    },
    {
     "name": "stderr",
     "output_type": "stream",
     "text": [
      "11:04:42 - cmdstanpy - INFO - Chain [1] start processing\n",
      "11:04:42 - cmdstanpy - INFO - Chain [1] done processing\n"
     ]
    },
    {
     "name": "stdout",
     "output_type": "stream",
     "text": [
      "Prévision réussie pour DGX.\n",
      "\n",
      "Analyse de RL...\n",
      "RL: Données prêtes pour l'analyse.\n"
     ]
    },
    {
     "name": "stderr",
     "output_type": "stream",
     "text": [
      "11:04:43 - cmdstanpy - INFO - Chain [1] start processing\n",
      "11:04:43 - cmdstanpy - INFO - Chain [1] done processing\n"
     ]
    },
    {
     "name": "stdout",
     "output_type": "stream",
     "text": [
      "Prévision réussie pour RL.\n",
      "\n",
      "Analyse de RJF...\n",
      "RJF: Données prêtes pour l'analyse.\n"
     ]
    },
    {
     "name": "stderr",
     "output_type": "stream",
     "text": [
      "11:04:44 - cmdstanpy - INFO - Chain [1] start processing\n",
      "11:04:44 - cmdstanpy - INFO - Chain [1] done processing\n"
     ]
    },
    {
     "name": "stdout",
     "output_type": "stream",
     "text": [
      "Prévision réussie pour RJF.\n",
      "\n",
      "Analyse de RTX...\n",
      "RTX: Données prêtes pour l'analyse.\n"
     ]
    },
    {
     "name": "stderr",
     "output_type": "stream",
     "text": [
      "11:04:45 - cmdstanpy - INFO - Chain [1] start processing\n",
      "11:04:45 - cmdstanpy - INFO - Chain [1] done processing\n"
     ]
    },
    {
     "name": "stdout",
     "output_type": "stream",
     "text": [
      "Prévision réussie pour RTX.\n",
      "\n",
      "Analyse de O...\n",
      "O: Données prêtes pour l'analyse.\n"
     ]
    },
    {
     "name": "stderr",
     "output_type": "stream",
     "text": [
      "11:04:46 - cmdstanpy - INFO - Chain [1] start processing\n",
      "11:04:46 - cmdstanpy - INFO - Chain [1] done processing\n"
     ]
    },
    {
     "name": "stdout",
     "output_type": "stream",
     "text": [
      "Prévision réussie pour O.\n",
      "\n",
      "Analyse de REG...\n",
      "REG: Données prêtes pour l'analyse.\n"
     ]
    },
    {
     "name": "stderr",
     "output_type": "stream",
     "text": [
      "11:04:46 - cmdstanpy - INFO - Chain [1] start processing\n",
      "11:04:47 - cmdstanpy - INFO - Chain [1] done processing\n"
     ]
    },
    {
     "name": "stdout",
     "output_type": "stream",
     "text": [
      "Prévision réussie pour REG.\n",
      "\n",
      "Analyse de REGN...\n",
      "REGN: Données prêtes pour l'analyse.\n"
     ]
    },
    {
     "name": "stderr",
     "output_type": "stream",
     "text": [
      "11:04:47 - cmdstanpy - INFO - Chain [1] start processing\n",
      "11:04:48 - cmdstanpy - INFO - Chain [1] done processing\n"
     ]
    },
    {
     "name": "stdout",
     "output_type": "stream",
     "text": [
      "Prévision réussie pour REGN.\n",
      "\n",
      "Analyse de RF...\n",
      "RF: Données prêtes pour l'analyse.\n"
     ]
    },
    {
     "name": "stderr",
     "output_type": "stream",
     "text": [
      "11:04:49 - cmdstanpy - INFO - Chain [1] start processing\n",
      "11:04:49 - cmdstanpy - INFO - Chain [1] done processing\n"
     ]
    },
    {
     "name": "stdout",
     "output_type": "stream",
     "text": [
      "Prévision réussie pour RF.\n",
      "\n",
      "Analyse de RSG...\n",
      "RSG: Données prêtes pour l'analyse.\n"
     ]
    },
    {
     "name": "stderr",
     "output_type": "stream",
     "text": [
      "11:04:49 - cmdstanpy - INFO - Chain [1] start processing\n",
      "11:04:50 - cmdstanpy - INFO - Chain [1] done processing\n"
     ]
    },
    {
     "name": "stdout",
     "output_type": "stream",
     "text": [
      "Prévision réussie pour RSG.\n",
      "\n",
      "Analyse de RMD...\n",
      "RMD: Données prêtes pour l'analyse.\n"
     ]
    },
    {
     "name": "stderr",
     "output_type": "stream",
     "text": [
      "11:04:50 - cmdstanpy - INFO - Chain [1] start processing\n",
      "11:04:51 - cmdstanpy - INFO - Chain [1] done processing\n"
     ]
    },
    {
     "name": "stdout",
     "output_type": "stream",
     "text": [
      "Prévision réussie pour RMD.\n",
      "\n",
      "Analyse de RVTY...\n",
      "RVTY: Données prêtes pour l'analyse.\n"
     ]
    },
    {
     "name": "stderr",
     "output_type": "stream",
     "text": [
      "11:04:51 - cmdstanpy - INFO - Chain [1] start processing\n",
      "11:04:52 - cmdstanpy - INFO - Chain [1] done processing\n"
     ]
    },
    {
     "name": "stdout",
     "output_type": "stream",
     "text": [
      "Prévision réussie pour RVTY.\n",
      "\n",
      "Analyse de ROK...\n",
      "ROK: Données prêtes pour l'analyse.\n"
     ]
    },
    {
     "name": "stderr",
     "output_type": "stream",
     "text": [
      "11:04:52 - cmdstanpy - INFO - Chain [1] start processing\n",
      "11:04:53 - cmdstanpy - INFO - Chain [1] done processing\n"
     ]
    },
    {
     "name": "stdout",
     "output_type": "stream",
     "text": [
      "Prévision réussie pour ROK.\n",
      "\n",
      "Analyse de ROL...\n",
      "ROL: Données prêtes pour l'analyse.\n"
     ]
    },
    {
     "name": "stderr",
     "output_type": "stream",
     "text": [
      "11:04:53 - cmdstanpy - INFO - Chain [1] start processing\n",
      "11:04:53 - cmdstanpy - INFO - Chain [1] done processing\n"
     ]
    },
    {
     "name": "stdout",
     "output_type": "stream",
     "text": [
      "Prévision réussie pour ROL.\n",
      "\n",
      "Analyse de ROP...\n",
      "ROP: Données prêtes pour l'analyse.\n"
     ]
    },
    {
     "name": "stderr",
     "output_type": "stream",
     "text": [
      "11:04:54 - cmdstanpy - INFO - Chain [1] start processing\n",
      "11:04:54 - cmdstanpy - INFO - Chain [1] done processing\n"
     ]
    },
    {
     "name": "stdout",
     "output_type": "stream",
     "text": [
      "Prévision réussie pour ROP.\n",
      "\n",
      "Analyse de ROST...\n",
      "ROST: Données prêtes pour l'analyse.\n"
     ]
    },
    {
     "name": "stderr",
     "output_type": "stream",
     "text": [
      "11:04:55 - cmdstanpy - INFO - Chain [1] start processing\n",
      "11:04:55 - cmdstanpy - INFO - Chain [1] done processing\n"
     ]
    },
    {
     "name": "stdout",
     "output_type": "stream",
     "text": [
      "Prévision réussie pour ROST.\n",
      "\n",
      "Analyse de RCL...\n",
      "RCL: Données prêtes pour l'analyse.\n"
     ]
    },
    {
     "name": "stderr",
     "output_type": "stream",
     "text": [
      "11:04:56 - cmdstanpy - INFO - Chain [1] start processing\n",
      "11:04:56 - cmdstanpy - INFO - Chain [1] done processing\n"
     ]
    },
    {
     "name": "stdout",
     "output_type": "stream",
     "text": [
      "Prévision réussie pour RCL.\n",
      "\n",
      "Analyse de SPGI...\n",
      "SPGI: Données prêtes pour l'analyse.\n"
     ]
    },
    {
     "name": "stderr",
     "output_type": "stream",
     "text": [
      "11:04:57 - cmdstanpy - INFO - Chain [1] start processing\n",
      "11:04:57 - cmdstanpy - INFO - Chain [1] done processing\n"
     ]
    },
    {
     "name": "stdout",
     "output_type": "stream",
     "text": [
      "Prévision réussie pour SPGI.\n",
      "\n",
      "Analyse de CRM...\n",
      "CRM: Données prêtes pour l'analyse.\n"
     ]
    },
    {
     "name": "stderr",
     "output_type": "stream",
     "text": [
      "11:04:58 - cmdstanpy - INFO - Chain [1] start processing\n",
      "11:04:58 - cmdstanpy - INFO - Chain [1] done processing\n"
     ]
    },
    {
     "name": "stdout",
     "output_type": "stream",
     "text": [
      "Prévision réussie pour CRM.\n",
      "\n",
      "Analyse de SBAC...\n",
      "SBAC: Données prêtes pour l'analyse.\n"
     ]
    },
    {
     "name": "stderr",
     "output_type": "stream",
     "text": [
      "11:04:59 - cmdstanpy - INFO - Chain [1] start processing\n",
      "11:04:59 - cmdstanpy - INFO - Chain [1] done processing\n"
     ]
    },
    {
     "name": "stdout",
     "output_type": "stream",
     "text": [
      "Prévision réussie pour SBAC.\n",
      "\n",
      "Analyse de SLB...\n",
      "SLB: Données prêtes pour l'analyse.\n"
     ]
    },
    {
     "name": "stderr",
     "output_type": "stream",
     "text": [
      "11:05:00 - cmdstanpy - INFO - Chain [1] start processing\n",
      "11:05:00 - cmdstanpy - INFO - Chain [1] done processing\n"
     ]
    },
    {
     "name": "stdout",
     "output_type": "stream",
     "text": [
      "Prévision réussie pour SLB.\n",
      "\n",
      "Analyse de STX...\n",
      "STX: Données prêtes pour l'analyse.\n"
     ]
    },
    {
     "name": "stderr",
     "output_type": "stream",
     "text": [
      "11:05:01 - cmdstanpy - INFO - Chain [1] start processing\n",
      "11:05:01 - cmdstanpy - INFO - Chain [1] done processing\n"
     ]
    },
    {
     "name": "stdout",
     "output_type": "stream",
     "text": [
      "Prévision réussie pour STX.\n",
      "\n",
      "Analyse de SRE...\n",
      "SRE: Données prêtes pour l'analyse.\n"
     ]
    },
    {
     "name": "stderr",
     "output_type": "stream",
     "text": [
      "11:05:02 - cmdstanpy - INFO - Chain [1] start processing\n",
      "11:05:02 - cmdstanpy - INFO - Chain [1] done processing\n"
     ]
    },
    {
     "name": "stdout",
     "output_type": "stream",
     "text": [
      "Prévision réussie pour SRE.\n",
      "\n",
      "Analyse de NOW...\n",
      "NOW: Données prêtes pour l'analyse.\n"
     ]
    },
    {
     "name": "stderr",
     "output_type": "stream",
     "text": [
      "11:05:03 - cmdstanpy - INFO - Chain [1] start processing\n",
      "11:05:03 - cmdstanpy - INFO - Chain [1] done processing\n"
     ]
    },
    {
     "name": "stdout",
     "output_type": "stream",
     "text": [
      "Prévision réussie pour NOW.\n",
      "\n",
      "Analyse de SHW...\n",
      "SHW: Données prêtes pour l'analyse.\n"
     ]
    },
    {
     "name": "stderr",
     "output_type": "stream",
     "text": [
      "11:05:04 - cmdstanpy - INFO - Chain [1] start processing\n",
      "11:05:04 - cmdstanpy - INFO - Chain [1] done processing\n"
     ]
    },
    {
     "name": "stdout",
     "output_type": "stream",
     "text": [
      "Prévision réussie pour SHW.\n",
      "\n",
      "Analyse de SPG...\n",
      "SPG: Données prêtes pour l'analyse.\n"
     ]
    },
    {
     "name": "stderr",
     "output_type": "stream",
     "text": [
      "11:05:05 - cmdstanpy - INFO - Chain [1] start processing\n",
      "11:05:05 - cmdstanpy - INFO - Chain [1] done processing\n"
     ]
    },
    {
     "name": "stdout",
     "output_type": "stream",
     "text": [
      "Prévision réussie pour SPG.\n",
      "\n",
      "Analyse de SWKS...\n",
      "SWKS: Données prêtes pour l'analyse.\n"
     ]
    },
    {
     "name": "stderr",
     "output_type": "stream",
     "text": [
      "11:05:06 - cmdstanpy - INFO - Chain [1] start processing\n",
      "11:05:06 - cmdstanpy - INFO - Chain [1] done processing\n"
     ]
    },
    {
     "name": "stdout",
     "output_type": "stream",
     "text": [
      "Prévision réussie pour SWKS.\n",
      "\n",
      "Analyse de SJM...\n",
      "SJM: Données prêtes pour l'analyse.\n"
     ]
    },
    {
     "name": "stderr",
     "output_type": "stream",
     "text": [
      "11:05:07 - cmdstanpy - INFO - Chain [1] start processing\n",
      "11:05:07 - cmdstanpy - INFO - Chain [1] done processing\n"
     ]
    },
    {
     "name": "stdout",
     "output_type": "stream",
     "text": [
      "Prévision réussie pour SJM.\n",
      "\n",
      "Analyse de SW...\n"
     ]
    },
    {
     "name": "stderr",
     "output_type": "stream",
     "text": [
      "\n",
      "1 Failed download:\n",
      "['SW']: YFPricesMissingError('$%ticker%: possibly delisted; no price data found  (1d 2020-01-01 -> 2023-11-01) (Yahoo error = \"Data doesn\\'t exist for startDate = 1577854800, endDate = 1698811200\")')\n"
     ]
    },
    {
     "name": "stdout",
     "output_type": "stream",
     "text": [
      "SW: Pas de données disponibles.\n",
      "\n",
      "Analyse de SNA...\n",
      "SNA: Données prêtes pour l'analyse.\n"
     ]
    },
    {
     "name": "stderr",
     "output_type": "stream",
     "text": [
      "11:05:09 - cmdstanpy - INFO - Chain [1] start processing\n",
      "11:05:09 - cmdstanpy - INFO - Chain [1] done processing\n"
     ]
    },
    {
     "name": "stdout",
     "output_type": "stream",
     "text": [
      "Prévision réussie pour SNA.\n",
      "\n",
      "Analyse de SOLV...\n"
     ]
    },
    {
     "name": "stderr",
     "output_type": "stream",
     "text": [
      "\n",
      "1 Failed download:\n",
      "['SOLV']: YFPricesMissingError('$%ticker%: possibly delisted; no price data found  (1d 2020-01-01 -> 2023-11-01) (Yahoo error = \"Data doesn\\'t exist for startDate = 1577854800, endDate = 1698811200\")')\n"
     ]
    },
    {
     "name": "stdout",
     "output_type": "stream",
     "text": [
      "SOLV: Pas de données disponibles.\n",
      "\n",
      "Analyse de SO...\n",
      "SO: Données prêtes pour l'analyse.\n"
     ]
    },
    {
     "name": "stderr",
     "output_type": "stream",
     "text": [
      "11:05:10 - cmdstanpy - INFO - Chain [1] start processing\n",
      "11:05:11 - cmdstanpy - INFO - Chain [1] done processing\n"
     ]
    },
    {
     "name": "stdout",
     "output_type": "stream",
     "text": [
      "Prévision réussie pour SO.\n",
      "\n",
      "Analyse de LUV...\n",
      "LUV: Données prêtes pour l'analyse.\n"
     ]
    },
    {
     "name": "stderr",
     "output_type": "stream",
     "text": [
      "11:05:11 - cmdstanpy - INFO - Chain [1] start processing\n",
      "11:05:12 - cmdstanpy - INFO - Chain [1] done processing\n"
     ]
    },
    {
     "name": "stdout",
     "output_type": "stream",
     "text": [
      "Prévision réussie pour LUV.\n",
      "\n",
      "Analyse de SWK...\n",
      "SWK: Données prêtes pour l'analyse.\n"
     ]
    },
    {
     "name": "stderr",
     "output_type": "stream",
     "text": [
      "11:05:12 - cmdstanpy - INFO - Chain [1] start processing\n",
      "11:05:13 - cmdstanpy - INFO - Chain [1] done processing\n"
     ]
    },
    {
     "name": "stdout",
     "output_type": "stream",
     "text": [
      "Prévision réussie pour SWK.\n",
      "\n",
      "Analyse de SBUX...\n",
      "SBUX: Données prêtes pour l'analyse.\n"
     ]
    },
    {
     "name": "stderr",
     "output_type": "stream",
     "text": [
      "11:05:14 - cmdstanpy - INFO - Chain [1] start processing\n",
      "11:05:14 - cmdstanpy - INFO - Chain [1] done processing\n"
     ]
    },
    {
     "name": "stdout",
     "output_type": "stream",
     "text": [
      "Prévision réussie pour SBUX.\n",
      "\n",
      "Analyse de STT...\n",
      "STT: Données prêtes pour l'analyse.\n"
     ]
    },
    {
     "name": "stderr",
     "output_type": "stream",
     "text": [
      "11:05:15 - cmdstanpy - INFO - Chain [1] start processing\n",
      "11:05:15 - cmdstanpy - INFO - Chain [1] done processing\n"
     ]
    },
    {
     "name": "stdout",
     "output_type": "stream",
     "text": [
      "Prévision réussie pour STT.\n",
      "\n",
      "Analyse de STLD...\n",
      "STLD: Données prêtes pour l'analyse.\n"
     ]
    },
    {
     "name": "stderr",
     "output_type": "stream",
     "text": [
      "11:05:15 - cmdstanpy - INFO - Chain [1] start processing\n",
      "11:05:16 - cmdstanpy - INFO - Chain [1] done processing\n"
     ]
    },
    {
     "name": "stdout",
     "output_type": "stream",
     "text": [
      "Prévision réussie pour STLD.\n",
      "\n",
      "Analyse de STE...\n",
      "STE: Données prêtes pour l'analyse.\n"
     ]
    },
    {
     "name": "stderr",
     "output_type": "stream",
     "text": [
      "11:05:16 - cmdstanpy - INFO - Chain [1] start processing\n",
      "11:05:17 - cmdstanpy - INFO - Chain [1] done processing\n"
     ]
    },
    {
     "name": "stdout",
     "output_type": "stream",
     "text": [
      "Prévision réussie pour STE.\n",
      "\n",
      "Analyse de SYK...\n",
      "SYK: Données prêtes pour l'analyse.\n"
     ]
    },
    {
     "name": "stderr",
     "output_type": "stream",
     "text": [
      "11:05:17 - cmdstanpy - INFO - Chain [1] start processing\n",
      "11:05:18 - cmdstanpy - INFO - Chain [1] done processing\n"
     ]
    },
    {
     "name": "stdout",
     "output_type": "stream",
     "text": [
      "Prévision réussie pour SYK.\n",
      "\n",
      "Analyse de SMCI...\n",
      "SMCI: Données prêtes pour l'analyse.\n"
     ]
    },
    {
     "name": "stderr",
     "output_type": "stream",
     "text": [
      "11:05:18 - cmdstanpy - INFO - Chain [1] start processing\n",
      "11:05:18 - cmdstanpy - INFO - Chain [1] done processing\n"
     ]
    },
    {
     "name": "stdout",
     "output_type": "stream",
     "text": [
      "Prévision réussie pour SMCI.\n",
      "\n",
      "Analyse de SYF...\n",
      "SYF: Données prêtes pour l'analyse.\n"
     ]
    },
    {
     "name": "stderr",
     "output_type": "stream",
     "text": [
      "11:05:19 - cmdstanpy - INFO - Chain [1] start processing\n",
      "11:05:19 - cmdstanpy - INFO - Chain [1] done processing\n"
     ]
    },
    {
     "name": "stdout",
     "output_type": "stream",
     "text": [
      "Prévision réussie pour SYF.\n",
      "\n",
      "Analyse de SNPS...\n",
      "SNPS: Données prêtes pour l'analyse.\n"
     ]
    },
    {
     "name": "stderr",
     "output_type": "stream",
     "text": [
      "11:05:20 - cmdstanpy - INFO - Chain [1] start processing\n",
      "11:05:20 - cmdstanpy - INFO - Chain [1] done processing\n"
     ]
    },
    {
     "name": "stdout",
     "output_type": "stream",
     "text": [
      "Prévision réussie pour SNPS.\n",
      "\n",
      "Analyse de SYY...\n",
      "SYY: Données prêtes pour l'analyse.\n"
     ]
    },
    {
     "name": "stderr",
     "output_type": "stream",
     "text": [
      "11:05:21 - cmdstanpy - INFO - Chain [1] start processing\n",
      "11:05:21 - cmdstanpy - INFO - Chain [1] done processing\n"
     ]
    },
    {
     "name": "stdout",
     "output_type": "stream",
     "text": [
      "Prévision réussie pour SYY.\n",
      "\n",
      "Analyse de TMUS...\n",
      "TMUS: Données prêtes pour l'analyse.\n"
     ]
    },
    {
     "name": "stderr",
     "output_type": "stream",
     "text": [
      "11:05:22 - cmdstanpy - INFO - Chain [1] start processing\n",
      "11:05:22 - cmdstanpy - INFO - Chain [1] done processing\n"
     ]
    },
    {
     "name": "stdout",
     "output_type": "stream",
     "text": [
      "Prévision réussie pour TMUS.\n",
      "\n",
      "Analyse de TROW...\n",
      "TROW: Données prêtes pour l'analyse.\n"
     ]
    },
    {
     "name": "stderr",
     "output_type": "stream",
     "text": [
      "11:05:23 - cmdstanpy - INFO - Chain [1] start processing\n",
      "11:05:23 - cmdstanpy - INFO - Chain [1] done processing\n"
     ]
    },
    {
     "name": "stdout",
     "output_type": "stream",
     "text": [
      "Prévision réussie pour TROW.\n",
      "\n",
      "Analyse de TTWO...\n",
      "TTWO: Données prêtes pour l'analyse.\n"
     ]
    },
    {
     "name": "stderr",
     "output_type": "stream",
     "text": [
      "11:05:24 - cmdstanpy - INFO - Chain [1] start processing\n",
      "11:05:24 - cmdstanpy - INFO - Chain [1] done processing\n"
     ]
    },
    {
     "name": "stdout",
     "output_type": "stream",
     "text": [
      "Prévision réussie pour TTWO.\n",
      "\n",
      "Analyse de TPR...\n",
      "TPR: Données prêtes pour l'analyse.\n"
     ]
    },
    {
     "name": "stderr",
     "output_type": "stream",
     "text": [
      "11:05:25 - cmdstanpy - INFO - Chain [1] start processing\n",
      "11:05:25 - cmdstanpy - INFO - Chain [1] done processing\n"
     ]
    },
    {
     "name": "stdout",
     "output_type": "stream",
     "text": [
      "Prévision réussie pour TPR.\n",
      "\n",
      "Analyse de TRGP...\n",
      "TRGP: Données prêtes pour l'analyse.\n"
     ]
    },
    {
     "name": "stderr",
     "output_type": "stream",
     "text": [
      "11:05:26 - cmdstanpy - INFO - Chain [1] start processing\n",
      "11:05:26 - cmdstanpy - INFO - Chain [1] done processing\n"
     ]
    },
    {
     "name": "stdout",
     "output_type": "stream",
     "text": [
      "Prévision réussie pour TRGP.\n",
      "\n",
      "Analyse de TGT...\n",
      "TGT: Données prêtes pour l'analyse.\n"
     ]
    },
    {
     "name": "stderr",
     "output_type": "stream",
     "text": [
      "11:05:27 - cmdstanpy - INFO - Chain [1] start processing\n",
      "11:05:27 - cmdstanpy - INFO - Chain [1] done processing\n"
     ]
    },
    {
     "name": "stdout",
     "output_type": "stream",
     "text": [
      "Prévision réussie pour TGT.\n",
      "\n",
      "Analyse de TEL...\n",
      "TEL: Données prêtes pour l'analyse.\n"
     ]
    },
    {
     "name": "stderr",
     "output_type": "stream",
     "text": [
      "11:05:28 - cmdstanpy - INFO - Chain [1] start processing\n",
      "11:05:28 - cmdstanpy - INFO - Chain [1] done processing\n"
     ]
    },
    {
     "name": "stdout",
     "output_type": "stream",
     "text": [
      "Prévision réussie pour TEL.\n",
      "\n",
      "Analyse de TDY...\n",
      "TDY: Données prêtes pour l'analyse.\n"
     ]
    },
    {
     "name": "stderr",
     "output_type": "stream",
     "text": [
      "11:05:29 - cmdstanpy - INFO - Chain [1] start processing\n",
      "11:05:29 - cmdstanpy - INFO - Chain [1] done processing\n"
     ]
    },
    {
     "name": "stdout",
     "output_type": "stream",
     "text": [
      "Prévision réussie pour TDY.\n",
      "\n",
      "Analyse de TFX...\n",
      "TFX: Données prêtes pour l'analyse.\n"
     ]
    },
    {
     "name": "stderr",
     "output_type": "stream",
     "text": [
      "11:05:30 - cmdstanpy - INFO - Chain [1] start processing\n",
      "11:05:30 - cmdstanpy - INFO - Chain [1] done processing\n"
     ]
    },
    {
     "name": "stdout",
     "output_type": "stream",
     "text": [
      "Prévision réussie pour TFX.\n",
      "\n",
      "Analyse de TER...\n",
      "TER: Données prêtes pour l'analyse.\n"
     ]
    },
    {
     "name": "stderr",
     "output_type": "stream",
     "text": [
      "11:05:31 - cmdstanpy - INFO - Chain [1] start processing\n",
      "11:05:31 - cmdstanpy - INFO - Chain [1] done processing\n"
     ]
    },
    {
     "name": "stdout",
     "output_type": "stream",
     "text": [
      "Prévision réussie pour TER.\n",
      "\n",
      "Analyse de TSLA...\n",
      "TSLA: Données prêtes pour l'analyse.\n"
     ]
    },
    {
     "name": "stderr",
     "output_type": "stream",
     "text": [
      "11:05:31 - cmdstanpy - INFO - Chain [1] start processing\n",
      "11:05:32 - cmdstanpy - INFO - Chain [1] done processing\n"
     ]
    },
    {
     "name": "stdout",
     "output_type": "stream",
     "text": [
      "Prévision réussie pour TSLA.\n",
      "\n",
      "Analyse de TXN...\n"
     ]
    },
    {
     "name": "stderr",
     "output_type": "stream",
     "text": [
      "11:05:32 - cmdstanpy - INFO - Chain [1] start processing\n"
     ]
    },
    {
     "name": "stdout",
     "output_type": "stream",
     "text": [
      "TXN: Données prêtes pour l'analyse.\n"
     ]
    },
    {
     "name": "stderr",
     "output_type": "stream",
     "text": [
      "11:05:33 - cmdstanpy - INFO - Chain [1] done processing\n"
     ]
    },
    {
     "name": "stdout",
     "output_type": "stream",
     "text": [
      "Prévision réussie pour TXN.\n",
      "\n",
      "Analyse de TPL...\n",
      "TPL: Données prêtes pour l'analyse.\n"
     ]
    },
    {
     "name": "stderr",
     "output_type": "stream",
     "text": [
      "11:05:34 - cmdstanpy - INFO - Chain [1] start processing\n",
      "11:05:34 - cmdstanpy - INFO - Chain [1] done processing\n"
     ]
    },
    {
     "name": "stdout",
     "output_type": "stream",
     "text": [
      "Prévision réussie pour TPL.\n",
      "\n",
      "Analyse de TXT...\n",
      "TXT: Données prêtes pour l'analyse.\n"
     ]
    },
    {
     "name": "stderr",
     "output_type": "stream",
     "text": [
      "11:05:34 - cmdstanpy - INFO - Chain [1] start processing\n",
      "11:05:35 - cmdstanpy - INFO - Chain [1] done processing\n"
     ]
    },
    {
     "name": "stdout",
     "output_type": "stream",
     "text": [
      "Prévision réussie pour TXT.\n",
      "\n",
      "Analyse de TMO...\n",
      "TMO: Données prêtes pour l'analyse.\n"
     ]
    },
    {
     "name": "stderr",
     "output_type": "stream",
     "text": [
      "11:05:36 - cmdstanpy - INFO - Chain [1] start processing\n",
      "11:05:36 - cmdstanpy - INFO - Chain [1] done processing\n"
     ]
    },
    {
     "name": "stdout",
     "output_type": "stream",
     "text": [
      "Prévision réussie pour TMO.\n",
      "\n",
      "Analyse de TJX...\n",
      "TJX: Données prêtes pour l'analyse.\n"
     ]
    },
    {
     "name": "stderr",
     "output_type": "stream",
     "text": [
      "11:05:37 - cmdstanpy - INFO - Chain [1] start processing\n",
      "11:05:37 - cmdstanpy - INFO - Chain [1] done processing\n"
     ]
    },
    {
     "name": "stdout",
     "output_type": "stream",
     "text": [
      "Prévision réussie pour TJX.\n",
      "\n",
      "Analyse de TSCO...\n",
      "TSCO: Données prêtes pour l'analyse.\n"
     ]
    },
    {
     "name": "stderr",
     "output_type": "stream",
     "text": [
      "11:05:38 - cmdstanpy - INFO - Chain [1] start processing\n",
      "11:05:38 - cmdstanpy - INFO - Chain [1] done processing\n"
     ]
    },
    {
     "name": "stdout",
     "output_type": "stream",
     "text": [
      "Prévision réussie pour TSCO.\n",
      "\n",
      "Analyse de TT...\n",
      "TT: Données prêtes pour l'analyse.\n"
     ]
    },
    {
     "name": "stderr",
     "output_type": "stream",
     "text": [
      "11:05:39 - cmdstanpy - INFO - Chain [1] start processing\n",
      "11:05:39 - cmdstanpy - INFO - Chain [1] done processing\n"
     ]
    },
    {
     "name": "stdout",
     "output_type": "stream",
     "text": [
      "Prévision réussie pour TT.\n",
      "\n",
      "Analyse de TDG...\n",
      "TDG: Données prêtes pour l'analyse.\n"
     ]
    },
    {
     "name": "stderr",
     "output_type": "stream",
     "text": [
      "11:05:40 - cmdstanpy - INFO - Chain [1] start processing\n",
      "11:05:40 - cmdstanpy - INFO - Chain [1] done processing\n"
     ]
    },
    {
     "name": "stdout",
     "output_type": "stream",
     "text": [
      "Prévision réussie pour TDG.\n",
      "\n",
      "Analyse de TRV...\n",
      "TRV: Données prêtes pour l'analyse.\n"
     ]
    },
    {
     "name": "stderr",
     "output_type": "stream",
     "text": [
      "11:05:41 - cmdstanpy - INFO - Chain [1] start processing\n",
      "11:05:41 - cmdstanpy - INFO - Chain [1] done processing\n"
     ]
    },
    {
     "name": "stdout",
     "output_type": "stream",
     "text": [
      "Prévision réussie pour TRV.\n",
      "\n",
      "Analyse de TRMB...\n",
      "TRMB: Données prêtes pour l'analyse.\n"
     ]
    },
    {
     "name": "stderr",
     "output_type": "stream",
     "text": [
      "11:05:42 - cmdstanpy - INFO - Chain [1] start processing\n",
      "11:05:42 - cmdstanpy - INFO - Chain [1] done processing\n"
     ]
    },
    {
     "name": "stdout",
     "output_type": "stream",
     "text": [
      "Prévision réussie pour TRMB.\n",
      "\n",
      "Analyse de TFC...\n",
      "TFC: Données prêtes pour l'analyse.\n"
     ]
    },
    {
     "name": "stderr",
     "output_type": "stream",
     "text": [
      "11:05:43 - cmdstanpy - INFO - Chain [1] start processing\n",
      "11:05:43 - cmdstanpy - INFO - Chain [1] done processing\n"
     ]
    },
    {
     "name": "stdout",
     "output_type": "stream",
     "text": [
      "Prévision réussie pour TFC.\n",
      "\n",
      "Analyse de TYL...\n",
      "TYL: Données prêtes pour l'analyse.\n"
     ]
    },
    {
     "name": "stderr",
     "output_type": "stream",
     "text": [
      "11:05:43 - cmdstanpy - INFO - Chain [1] start processing\n",
      "11:05:44 - cmdstanpy - INFO - Chain [1] done processing\n"
     ]
    },
    {
     "name": "stdout",
     "output_type": "stream",
     "text": [
      "Prévision réussie pour TYL.\n",
      "\n",
      "Analyse de TSN...\n",
      "TSN: Données prêtes pour l'analyse.\n"
     ]
    },
    {
     "name": "stderr",
     "output_type": "stream",
     "text": [
      "11:05:44 - cmdstanpy - INFO - Chain [1] start processing\n",
      "11:05:45 - cmdstanpy - INFO - Chain [1] done processing\n"
     ]
    },
    {
     "name": "stdout",
     "output_type": "stream",
     "text": [
      "Prévision réussie pour TSN.\n",
      "\n",
      "Analyse de USB...\n",
      "USB: Données prêtes pour l'analyse.\n"
     ]
    },
    {
     "name": "stderr",
     "output_type": "stream",
     "text": [
      "11:05:45 - cmdstanpy - INFO - Chain [1] start processing\n",
      "11:05:46 - cmdstanpy - INFO - Chain [1] done processing\n"
     ]
    },
    {
     "name": "stdout",
     "output_type": "stream",
     "text": [
      "Prévision réussie pour USB.\n",
      "\n",
      "Analyse de UBER...\n",
      "UBER: Données prêtes pour l'analyse.\n"
     ]
    },
    {
     "name": "stderr",
     "output_type": "stream",
     "text": [
      "11:05:46 - cmdstanpy - INFO - Chain [1] start processing\n",
      "11:05:47 - cmdstanpy - INFO - Chain [1] done processing\n"
     ]
    },
    {
     "name": "stdout",
     "output_type": "stream",
     "text": [
      "Prévision réussie pour UBER.\n",
      "\n",
      "Analyse de UDR...\n",
      "UDR: Données prêtes pour l'analyse.\n"
     ]
    },
    {
     "name": "stderr",
     "output_type": "stream",
     "text": [
      "11:05:47 - cmdstanpy - INFO - Chain [1] start processing\n",
      "11:05:48 - cmdstanpy - INFO - Chain [1] done processing\n"
     ]
    },
    {
     "name": "stdout",
     "output_type": "stream",
     "text": [
      "Prévision réussie pour UDR.\n",
      "\n",
      "Analyse de ULTA...\n",
      "ULTA: Données prêtes pour l'analyse.\n"
     ]
    },
    {
     "name": "stderr",
     "output_type": "stream",
     "text": [
      "11:05:48 - cmdstanpy - INFO - Chain [1] start processing\n",
      "11:05:49 - cmdstanpy - INFO - Chain [1] done processing\n"
     ]
    },
    {
     "name": "stdout",
     "output_type": "stream",
     "text": [
      "Prévision réussie pour ULTA.\n",
      "\n",
      "Analyse de UNP...\n",
      "UNP: Données prêtes pour l'analyse.\n"
     ]
    },
    {
     "name": "stderr",
     "output_type": "stream",
     "text": [
      "11:05:49 - cmdstanpy - INFO - Chain [1] start processing\n",
      "11:05:50 - cmdstanpy - INFO - Chain [1] done processing\n"
     ]
    },
    {
     "name": "stdout",
     "output_type": "stream",
     "text": [
      "Prévision réussie pour UNP.\n",
      "\n",
      "Analyse de UAL...\n",
      "UAL: Données prêtes pour l'analyse.\n"
     ]
    },
    {
     "name": "stderr",
     "output_type": "stream",
     "text": [
      "11:05:50 - cmdstanpy - INFO - Chain [1] start processing\n",
      "11:05:51 - cmdstanpy - INFO - Chain [1] done processing\n"
     ]
    },
    {
     "name": "stdout",
     "output_type": "stream",
     "text": [
      "Prévision réussie pour UAL.\n",
      "\n",
      "Analyse de UPS...\n",
      "UPS: Données prêtes pour l'analyse.\n"
     ]
    },
    {
     "name": "stderr",
     "output_type": "stream",
     "text": [
      "11:05:51 - cmdstanpy - INFO - Chain [1] start processing\n",
      "11:05:52 - cmdstanpy - INFO - Chain [1] done processing\n"
     ]
    },
    {
     "name": "stdout",
     "output_type": "stream",
     "text": [
      "Prévision réussie pour UPS.\n",
      "\n",
      "Analyse de URI...\n",
      "URI: Données prêtes pour l'analyse.\n"
     ]
    },
    {
     "name": "stderr",
     "output_type": "stream",
     "text": [
      "11:05:52 - cmdstanpy - INFO - Chain [1] start processing\n",
      "11:05:52 - cmdstanpy - INFO - Chain [1] done processing\n"
     ]
    },
    {
     "name": "stdout",
     "output_type": "stream",
     "text": [
      "Prévision réussie pour URI.\n",
      "\n",
      "Analyse de UNH...\n",
      "UNH: Données prêtes pour l'analyse.\n"
     ]
    },
    {
     "name": "stderr",
     "output_type": "stream",
     "text": [
      "11:05:53 - cmdstanpy - INFO - Chain [1] start processing\n",
      "11:05:53 - cmdstanpy - INFO - Chain [1] done processing\n"
     ]
    },
    {
     "name": "stdout",
     "output_type": "stream",
     "text": [
      "Prévision réussie pour UNH.\n",
      "\n",
      "Analyse de UHS...\n",
      "UHS: Données prêtes pour l'analyse.\n"
     ]
    },
    {
     "name": "stderr",
     "output_type": "stream",
     "text": [
      "11:05:54 - cmdstanpy - INFO - Chain [1] start processing\n",
      "11:05:54 - cmdstanpy - INFO - Chain [1] done processing\n"
     ]
    },
    {
     "name": "stdout",
     "output_type": "stream",
     "text": [
      "Prévision réussie pour UHS.\n",
      "\n",
      "Analyse de VLO...\n",
      "VLO: Données prêtes pour l'analyse.\n"
     ]
    },
    {
     "name": "stderr",
     "output_type": "stream",
     "text": [
      "11:05:55 - cmdstanpy - INFO - Chain [1] start processing\n",
      "11:05:55 - cmdstanpy - INFO - Chain [1] done processing\n"
     ]
    },
    {
     "name": "stdout",
     "output_type": "stream",
     "text": [
      "Prévision réussie pour VLO.\n",
      "\n",
      "Analyse de VTR...\n",
      "VTR: Données prêtes pour l'analyse.\n"
     ]
    },
    {
     "name": "stderr",
     "output_type": "stream",
     "text": [
      "11:05:56 - cmdstanpy - INFO - Chain [1] start processing\n",
      "11:05:56 - cmdstanpy - INFO - Chain [1] done processing\n"
     ]
    },
    {
     "name": "stdout",
     "output_type": "stream",
     "text": [
      "Prévision réussie pour VTR.\n",
      "\n",
      "Analyse de VLTO...\n",
      "VLTO: Série trop courte pour une analyse fiable.\n",
      "\n",
      "Analyse de VRSN...\n",
      "VRSN: Données prêtes pour l'analyse.\n"
     ]
    },
    {
     "name": "stderr",
     "output_type": "stream",
     "text": [
      "11:05:57 - cmdstanpy - INFO - Chain [1] start processing\n",
      "11:05:57 - cmdstanpy - INFO - Chain [1] done processing\n"
     ]
    },
    {
     "name": "stdout",
     "output_type": "stream",
     "text": [
      "Prévision réussie pour VRSN.\n",
      "\n",
      "Analyse de VRSK...\n",
      "VRSK: Données prêtes pour l'analyse.\n"
     ]
    },
    {
     "name": "stderr",
     "output_type": "stream",
     "text": [
      "11:05:58 - cmdstanpy - INFO - Chain [1] start processing\n",
      "11:05:58 - cmdstanpy - INFO - Chain [1] done processing\n"
     ]
    },
    {
     "name": "stdout",
     "output_type": "stream",
     "text": [
      "Prévision réussie pour VRSK.\n",
      "\n",
      "Analyse de VZ...\n",
      "VZ: Données prêtes pour l'analyse.\n"
     ]
    },
    {
     "name": "stderr",
     "output_type": "stream",
     "text": [
      "11:05:59 - cmdstanpy - INFO - Chain [1] start processing\n",
      "11:05:59 - cmdstanpy - INFO - Chain [1] done processing\n"
     ]
    },
    {
     "name": "stdout",
     "output_type": "stream",
     "text": [
      "Prévision réussie pour VZ.\n",
      "\n",
      "Analyse de VRTX...\n",
      "VRTX: Données prêtes pour l'analyse.\n"
     ]
    },
    {
     "name": "stderr",
     "output_type": "stream",
     "text": [
      "11:06:00 - cmdstanpy - INFO - Chain [1] start processing\n",
      "11:06:00 - cmdstanpy - INFO - Chain [1] done processing\n"
     ]
    },
    {
     "name": "stdout",
     "output_type": "stream",
     "text": [
      "Prévision réussie pour VRTX.\n",
      "\n",
      "Analyse de VTRS...\n",
      "VTRS: Données prêtes pour l'analyse.\n"
     ]
    },
    {
     "name": "stderr",
     "output_type": "stream",
     "text": [
      "11:06:00 - cmdstanpy - INFO - Chain [1] start processing\n",
      "11:06:01 - cmdstanpy - INFO - Chain [1] done processing\n"
     ]
    },
    {
     "name": "stdout",
     "output_type": "stream",
     "text": [
      "Prévision réussie pour VTRS.\n",
      "\n",
      "Analyse de VICI...\n",
      "VICI: Données prêtes pour l'analyse.\n"
     ]
    },
    {
     "name": "stderr",
     "output_type": "stream",
     "text": [
      "11:06:01 - cmdstanpy - INFO - Chain [1] start processing\n",
      "11:06:02 - cmdstanpy - INFO - Chain [1] done processing\n"
     ]
    },
    {
     "name": "stdout",
     "output_type": "stream",
     "text": [
      "Prévision réussie pour VICI.\n",
      "\n",
      "Analyse de V...\n",
      "V: Données prêtes pour l'analyse.\n"
     ]
    },
    {
     "name": "stderr",
     "output_type": "stream",
     "text": [
      "11:06:02 - cmdstanpy - INFO - Chain [1] start processing\n",
      "11:06:03 - cmdstanpy - INFO - Chain [1] done processing\n"
     ]
    },
    {
     "name": "stdout",
     "output_type": "stream",
     "text": [
      "Prévision réussie pour V.\n",
      "\n",
      "Analyse de VST...\n",
      "VST: Données prêtes pour l'analyse.\n"
     ]
    },
    {
     "name": "stderr",
     "output_type": "stream",
     "text": [
      "11:06:04 - cmdstanpy - INFO - Chain [1] start processing\n",
      "11:06:04 - cmdstanpy - INFO - Chain [1] done processing\n"
     ]
    },
    {
     "name": "stdout",
     "output_type": "stream",
     "text": [
      "Prévision réussie pour VST.\n",
      "\n",
      "Analyse de VMC...\n",
      "VMC: Données prêtes pour l'analyse.\n"
     ]
    },
    {
     "name": "stderr",
     "output_type": "stream",
     "text": [
      "11:06:04 - cmdstanpy - INFO - Chain [1] start processing\n",
      "11:06:05 - cmdstanpy - INFO - Chain [1] done processing\n"
     ]
    },
    {
     "name": "stdout",
     "output_type": "stream",
     "text": [
      "Prévision réussie pour VMC.\n",
      "\n",
      "Analyse de WRB...\n",
      "WRB: Données prêtes pour l'analyse.\n"
     ]
    },
    {
     "name": "stderr",
     "output_type": "stream",
     "text": [
      "11:06:05 - cmdstanpy - INFO - Chain [1] start processing\n",
      "11:06:06 - cmdstanpy - INFO - Chain [1] done processing\n"
     ]
    },
    {
     "name": "stdout",
     "output_type": "stream",
     "text": [
      "Prévision réussie pour WRB.\n",
      "\n",
      "Analyse de GWW...\n",
      "GWW: Données prêtes pour l'analyse.\n"
     ]
    },
    {
     "name": "stderr",
     "output_type": "stream",
     "text": [
      "11:06:07 - cmdstanpy - INFO - Chain [1] start processing\n",
      "11:06:07 - cmdstanpy - INFO - Chain [1] done processing\n"
     ]
    },
    {
     "name": "stdout",
     "output_type": "stream",
     "text": [
      "Prévision réussie pour GWW.\n",
      "\n",
      "Analyse de WAB...\n",
      "WAB: Données prêtes pour l'analyse.\n"
     ]
    },
    {
     "name": "stderr",
     "output_type": "stream",
     "text": [
      "11:06:08 - cmdstanpy - INFO - Chain [1] start processing\n",
      "11:06:08 - cmdstanpy - INFO - Chain [1] done processing\n"
     ]
    },
    {
     "name": "stdout",
     "output_type": "stream",
     "text": [
      "Prévision réussie pour WAB.\n",
      "\n",
      "Analyse de WBA...\n",
      "WBA: Données prêtes pour l'analyse.\n"
     ]
    },
    {
     "name": "stderr",
     "output_type": "stream",
     "text": [
      "11:06:08 - cmdstanpy - INFO - Chain [1] start processing\n",
      "11:06:09 - cmdstanpy - INFO - Chain [1] done processing\n"
     ]
    },
    {
     "name": "stdout",
     "output_type": "stream",
     "text": [
      "Prévision réussie pour WBA.\n",
      "\n",
      "Analyse de WMT...\n",
      "WMT: Données prêtes pour l'analyse.\n"
     ]
    },
    {
     "name": "stderr",
     "output_type": "stream",
     "text": [
      "11:06:09 - cmdstanpy - INFO - Chain [1] start processing\n",
      "11:06:10 - cmdstanpy - INFO - Chain [1] done processing\n"
     ]
    },
    {
     "name": "stdout",
     "output_type": "stream",
     "text": [
      "Prévision réussie pour WMT.\n",
      "\n",
      "Analyse de DIS...\n",
      "DIS: Données prêtes pour l'analyse.\n"
     ]
    },
    {
     "name": "stderr",
     "output_type": "stream",
     "text": [
      "11:06:10 - cmdstanpy - INFO - Chain [1] start processing\n",
      "11:06:11 - cmdstanpy - INFO - Chain [1] done processing\n"
     ]
    },
    {
     "name": "stdout",
     "output_type": "stream",
     "text": [
      "Prévision réussie pour DIS.\n",
      "\n",
      "Analyse de WBD...\n",
      "WBD: Données prêtes pour l'analyse.\n"
     ]
    },
    {
     "name": "stderr",
     "output_type": "stream",
     "text": [
      "11:06:11 - cmdstanpy - INFO - Chain [1] start processing\n",
      "11:06:12 - cmdstanpy - INFO - Chain [1] done processing\n"
     ]
    },
    {
     "name": "stdout",
     "output_type": "stream",
     "text": [
      "Prévision réussie pour WBD.\n",
      "\n",
      "Analyse de WM...\n",
      "WM: Données prêtes pour l'analyse.\n"
     ]
    },
    {
     "name": "stderr",
     "output_type": "stream",
     "text": [
      "11:06:12 - cmdstanpy - INFO - Chain [1] start processing\n",
      "11:06:12 - cmdstanpy - INFO - Chain [1] done processing\n"
     ]
    },
    {
     "name": "stdout",
     "output_type": "stream",
     "text": [
      "Prévision réussie pour WM.\n",
      "\n",
      "Analyse de WAT...\n",
      "WAT: Données prêtes pour l'analyse.\n"
     ]
    },
    {
     "name": "stderr",
     "output_type": "stream",
     "text": [
      "11:06:13 - cmdstanpy - INFO - Chain [1] start processing\n",
      "11:06:14 - cmdstanpy - INFO - Chain [1] done processing\n"
     ]
    },
    {
     "name": "stdout",
     "output_type": "stream",
     "text": [
      "Prévision réussie pour WAT.\n",
      "\n",
      "Analyse de WEC...\n",
      "WEC: Données prêtes pour l'analyse.\n"
     ]
    },
    {
     "name": "stderr",
     "output_type": "stream",
     "text": [
      "11:06:14 - cmdstanpy - INFO - Chain [1] start processing\n",
      "11:06:15 - cmdstanpy - INFO - Chain [1] done processing\n"
     ]
    },
    {
     "name": "stdout",
     "output_type": "stream",
     "text": [
      "Prévision réussie pour WEC.\n",
      "\n",
      "Analyse de WFC...\n",
      "WFC: Données prêtes pour l'analyse.\n"
     ]
    },
    {
     "name": "stderr",
     "output_type": "stream",
     "text": [
      "11:06:15 - cmdstanpy - INFO - Chain [1] start processing\n",
      "11:06:16 - cmdstanpy - INFO - Chain [1] done processing\n"
     ]
    },
    {
     "name": "stdout",
     "output_type": "stream",
     "text": [
      "Prévision réussie pour WFC.\n",
      "\n",
      "Analyse de WELL...\n",
      "WELL: Données prêtes pour l'analyse.\n"
     ]
    },
    {
     "name": "stderr",
     "output_type": "stream",
     "text": [
      "11:06:16 - cmdstanpy - INFO - Chain [1] start processing\n",
      "11:06:17 - cmdstanpy - INFO - Chain [1] done processing\n"
     ]
    },
    {
     "name": "stdout",
     "output_type": "stream",
     "text": [
      "Prévision réussie pour WELL.\n",
      "\n",
      "Analyse de WST...\n",
      "WST: Données prêtes pour l'analyse.\n"
     ]
    },
    {
     "name": "stderr",
     "output_type": "stream",
     "text": [
      "11:06:17 - cmdstanpy - INFO - Chain [1] start processing\n",
      "11:06:18 - cmdstanpy - INFO - Chain [1] done processing\n"
     ]
    },
    {
     "name": "stdout",
     "output_type": "stream",
     "text": [
      "Prévision réussie pour WST.\n",
      "\n",
      "Analyse de WDC...\n",
      "WDC: Données prêtes pour l'analyse.\n"
     ]
    },
    {
     "name": "stderr",
     "output_type": "stream",
     "text": [
      "11:06:18 - cmdstanpy - INFO - Chain [1] start processing\n",
      "11:06:19 - cmdstanpy - INFO - Chain [1] done processing\n"
     ]
    },
    {
     "name": "stdout",
     "output_type": "stream",
     "text": [
      "Prévision réussie pour WDC.\n",
      "\n",
      "Analyse de WY...\n",
      "WY: Données prêtes pour l'analyse.\n"
     ]
    },
    {
     "name": "stderr",
     "output_type": "stream",
     "text": [
      "11:06:19 - cmdstanpy - INFO - Chain [1] start processing\n",
      "11:06:20 - cmdstanpy - INFO - Chain [1] done processing\n"
     ]
    },
    {
     "name": "stdout",
     "output_type": "stream",
     "text": [
      "Prévision réussie pour WY.\n",
      "\n",
      "Analyse de WMB...\n",
      "WMB: Données prêtes pour l'analyse.\n"
     ]
    },
    {
     "name": "stderr",
     "output_type": "stream",
     "text": [
      "11:06:20 - cmdstanpy - INFO - Chain [1] start processing\n",
      "11:06:21 - cmdstanpy - INFO - Chain [1] done processing\n"
     ]
    },
    {
     "name": "stdout",
     "output_type": "stream",
     "text": [
      "Prévision réussie pour WMB.\n",
      "\n",
      "Analyse de WTW...\n",
      "WTW: Données prêtes pour l'analyse.\n"
     ]
    },
    {
     "name": "stderr",
     "output_type": "stream",
     "text": [
      "11:06:21 - cmdstanpy - INFO - Chain [1] start processing\n",
      "11:06:22 - cmdstanpy - INFO - Chain [1] done processing\n"
     ]
    },
    {
     "name": "stdout",
     "output_type": "stream",
     "text": [
      "Prévision réussie pour WTW.\n",
      "\n",
      "Analyse de WYNN...\n",
      "WYNN: Données prêtes pour l'analyse.\n"
     ]
    },
    {
     "name": "stderr",
     "output_type": "stream",
     "text": [
      "11:06:22 - cmdstanpy - INFO - Chain [1] start processing\n",
      "11:06:23 - cmdstanpy - INFO - Chain [1] done processing\n"
     ]
    },
    {
     "name": "stdout",
     "output_type": "stream",
     "text": [
      "Prévision réussie pour WYNN.\n",
      "\n",
      "Analyse de XEL...\n",
      "XEL: Données prêtes pour l'analyse.\n"
     ]
    },
    {
     "name": "stderr",
     "output_type": "stream",
     "text": [
      "11:06:23 - cmdstanpy - INFO - Chain [1] start processing\n",
      "11:06:24 - cmdstanpy - INFO - Chain [1] done processing\n"
     ]
    },
    {
     "name": "stdout",
     "output_type": "stream",
     "text": [
      "Prévision réussie pour XEL.\n",
      "\n",
      "Analyse de XYL...\n",
      "XYL: Données prêtes pour l'analyse.\n"
     ]
    },
    {
     "name": "stderr",
     "output_type": "stream",
     "text": [
      "11:06:24 - cmdstanpy - INFO - Chain [1] start processing\n",
      "11:06:25 - cmdstanpy - INFO - Chain [1] done processing\n"
     ]
    },
    {
     "name": "stdout",
     "output_type": "stream",
     "text": [
      "Prévision réussie pour XYL.\n",
      "\n",
      "Analyse de YUM...\n",
      "YUM: Données prêtes pour l'analyse.\n"
     ]
    },
    {
     "name": "stderr",
     "output_type": "stream",
     "text": [
      "11:06:25 - cmdstanpy - INFO - Chain [1] start processing\n",
      "11:06:26 - cmdstanpy - INFO - Chain [1] done processing\n"
     ]
    },
    {
     "name": "stdout",
     "output_type": "stream",
     "text": [
      "Prévision réussie pour YUM.\n",
      "\n",
      "Analyse de ZBRA...\n",
      "ZBRA: Données prêtes pour l'analyse.\n"
     ]
    },
    {
     "name": "stderr",
     "output_type": "stream",
     "text": [
      "11:06:26 - cmdstanpy - INFO - Chain [1] start processing\n",
      "11:06:27 - cmdstanpy - INFO - Chain [1] done processing\n"
     ]
    },
    {
     "name": "stdout",
     "output_type": "stream",
     "text": [
      "Prévision réussie pour ZBRA.\n",
      "\n",
      "Analyse de ZBH...\n",
      "ZBH: Données prêtes pour l'analyse.\n"
     ]
    },
    {
     "name": "stderr",
     "output_type": "stream",
     "text": [
      "11:06:27 - cmdstanpy - INFO - Chain [1] start processing\n",
      "11:06:28 - cmdstanpy - INFO - Chain [1] done processing\n"
     ]
    },
    {
     "name": "stdout",
     "output_type": "stream",
     "text": [
      "Prévision réussie pour ZBH.\n",
      "\n",
      "Analyse de ZTS...\n",
      "ZTS: Données prêtes pour l'analyse.\n"
     ]
    },
    {
     "name": "stderr",
     "output_type": "stream",
     "text": [
      "11:06:28 - cmdstanpy - INFO - Chain [1] start processing\n",
      "11:06:29 - cmdstanpy - INFO - Chain [1] done processing\n"
     ]
    },
    {
     "name": "stdout",
     "output_type": "stream",
     "text": [
      "Prévision réussie pour ZTS.\n",
      "\n",
      "Identification des meilleures opportunités...\n",
      "\n",
      "Top opportunités d'investissement (croissance prévue) :\n",
      "ALGN: Croissance prévue: 8.93%\n",
      "ENPH: Croissance prévue: 8.81%\n",
      "TER: Croissance prévue: 7.77%\n",
      "QCOM: Croissance prévue: 7.49%\n",
      "AMD: Croissance prévue: 7.46%\n",
      "PODD: Croissance prévue: 6.63%\n",
      "ALB: Croissance prévue: 6.41%\n",
      "ZBRA: Croissance prévue: 6.33%\n",
      "EXPE: Croissance prévue: 6.03%\n",
      "FFIV: Croissance prévue: 6.02%\n",
      "\n",
      "Sauvegarde des résultats...\n",
      "\n",
      "Classement sauvegardé dans : 9daysp500_analysis\\ranking.csv\n",
      "Enregistrement des prévisions pour ALGN...\n"
     ]
    },
    {
     "name": "stderr",
     "output_type": "stream",
     "text": [
      "C:\\Users\\mania\\anaconda3\\Lib\\site-packages\\prophet\\plot.py:72: FutureWarning: The behavior of DatetimeProperties.to_pydatetime is deprecated, in a future version this will return a Series containing python datetime objects instead of an ndarray. To retain the old behavior, call `np.array` on the result\n",
      "  fcst_t = fcst['ds'].dt.to_pydatetime()\n",
      "C:\\Users\\mania\\anaconda3\\Lib\\site-packages\\prophet\\plot.py:73: FutureWarning: The behavior of DatetimeProperties.to_pydatetime is deprecated, in a future version this will return a Series containing python datetime objects instead of an ndarray. To retain the old behavior, call `np.array` on the result\n",
      "  ax.plot(m.history['ds'].dt.to_pydatetime(), m.history['y'], 'k.',\n"
     ]
    },
    {
     "name": "stdout",
     "output_type": "stream",
     "text": [
      "Enregistrement des prévisions pour ENPH...\n",
      "Enregistrement des prévisions pour TER...\n",
      "Enregistrement des prévisions pour QCOM...\n",
      "Enregistrement des prévisions pour AMD...\n",
      "Enregistrement des prévisions pour PODD...\n",
      "Enregistrement des prévisions pour ALB...\n",
      "Enregistrement des prévisions pour ZBRA...\n",
      "Enregistrement des prévisions pour EXPE...\n",
      "Enregistrement des prévisions pour FFIV...\n"
     ]
    }
   ],
   "source": [
    "import os\n",
    "import yfinance as yf\n",
    "from prophet import Prophet\n",
    "import pandas as pd\n",
    "import matplotlib.pyplot as plt\n",
    "import requests\n",
    "import numpy as np\n",
    "import warnings\n",
    "\n",
    "# Étape 1 : Récupérer les tickers du S&P 500\n",
    "def get_sp500_tickers():\n",
    "    url = 'https://en.wikipedia.org/wiki/List_of_S%26P_500_companies'\n",
    "    response = requests.get(url)\n",
    "    tables = pd.read_html(response.text)\n",
    "    sp500_table = tables[0]  # La première table contient la liste des actions\n",
    "    tickers = sp500_table['Symbol'].tolist()\n",
    "    return tickers\n",
    "\n",
    "# Étape 2 : Récupérer et nettoyer les données d'une action\n",
    "def get_stock_data(ticker, start_date, end_date):\n",
    "    try:\n",
    "        # Télécharger les données\n",
    "        data = yf.download(ticker, start=start_date, end=end_date, progress=False)\n",
    "        if data.empty:\n",
    "            print(f\"{ticker}: Pas de données disponibles.\")\n",
    "            return None\n",
    "\n",
    "        # Vérifier et aplatir les colonnes multi-index\n",
    "        if isinstance(data.columns, pd.MultiIndex):\n",
    "            data.columns = [' '.join(col).strip() for col in data.columns.values]\n",
    "\n",
    "        # Identifier la colonne `Close` ou `Adj Close` contenant le ticker\n",
    "        close_col = next((col for col in data.columns if \"Close\" in col and ticker in col), None)\n",
    "        if close_col:\n",
    "            data.reset_index(inplace=True)\n",
    "            data = data[['Date', close_col]].rename(columns={'Date': 'ds', close_col: 'y'})\n",
    "        else:\n",
    "            print(f\"{ticker}: Aucune colonne Close ou Adj Close trouvée.\")\n",
    "            return None\n",
    "\n",
    "        # Supprimer les valeurs manquantes\n",
    "        data.dropna(inplace=True)\n",
    "\n",
    "        # Vérifier si les données sont numériques\n",
    "        if not pd.api.types.is_numeric_dtype(data['y']):\n",
    "            print(f\"{ticker}: Les données ne sont pas numériques après traitement.\")\n",
    "            return None\n",
    "\n",
    "        # Vérifier la longueur minimale\n",
    "        if len(data) < 50:\n",
    "            print(f\"{ticker}: Série trop courte pour une analyse fiable.\")\n",
    "            return None\n",
    "\n",
    "        return data\n",
    "    except Exception as e:\n",
    "        print(f\"{ticker}: Erreur lors de la récupération des données - {e}\")\n",
    "        return None\n",
    "\n",
    "# Étape 3 : Effectuer une prévision avec Prophet\n",
    "def forecast_stock(data, periods=9):\n",
    "    try:\n",
    "        model = Prophet()\n",
    "        model.fit(data)\n",
    "        future = model.make_future_dataframe(periods=periods)\n",
    "        forecast = model.predict(future)\n",
    "        return forecast, model\n",
    "    except Exception as e:\n",
    "        print(f\"Erreur lors de la prévision avec Prophet: {e}\")\n",
    "        return None, None\n",
    "\n",
    "# Étape 4 : Analyser les tickers du S&P 500\n",
    "def analyze_sp500_tickers(tickers, start_date, end_date, forecast_days=9):\n",
    "    results = {}\n",
    "    for ticker in tickers:\n",
    "        print(f\"\\nAnalyse de {ticker}...\")\n",
    "        data = get_stock_data(ticker, start_date, end_date)\n",
    "        if data is not None:\n",
    "            print(f\"{ticker}: Données prêtes pour l'analyse.\")\n",
    "            forecast, model = forecast_stock(data, periods=forecast_days)\n",
    "            if forecast is not None:\n",
    "                print(f\"Prévision réussie pour {ticker}.\")\n",
    "                results[ticker] = {'data': data, 'forecast': forecast, 'model': model}\n",
    "    return results\n",
    "\n",
    "# Étape 5 : Trouver les meilleures opportunités d'investissement\n",
    "def find_top_opportunities(results, forecast_days=9):\n",
    "    opportunities = []\n",
    "    for ticker, result in results.items():\n",
    "        forecast = result['forecast']\n",
    "        try:\n",
    "            # Calculer le taux de croissance prévu\n",
    "            growth = (forecast['yhat'].iloc[-1] - forecast['yhat'].iloc[-forecast_days]) / forecast['yhat'].iloc[-forecast_days]\n",
    "            opportunities.append((ticker, growth))\n",
    "        except Exception as e:\n",
    "            print(f\"{ticker}: Erreur lors du calcul de la croissance prévue - {e}\")\n",
    "    # Trier par taux de croissance décroissant\n",
    "    opportunities = sorted(opportunities, key=lambda x: x[1], reverse=True)\n",
    "    return opportunities\n",
    "\n",
    "# Étape 6 : Générer des graphiques et un CSV\n",
    "def save_results_and_images(results, top_opportunities, output_dir=\"results\", top_n=None):\n",
    "    # Créer le répertoire principal\n",
    "    os.makedirs(output_dir, exist_ok=True)\n",
    "\n",
    "    # Sauvegarder les classements dans un CSV\n",
    "    ranking_df = pd.DataFrame(top_opportunities, columns=[\"Ticker\", \"Growth\"])\n",
    "    ranking_csv_path = os.path.join(output_dir, \"ranking.csv\")\n",
    "    ranking_df.to_csv(ranking_csv_path, index=False)\n",
    "    print(f\"\\nClassement sauvegardé dans : {ranking_csv_path}\")\n",
    "\n",
    "    # Sauvegarder les graphiques dans des dossiers par action\n",
    "    for ticker, _ in top_opportunities[:top_n] if top_n else top_opportunities:\n",
    "        print(f\"Enregistrement des prévisions pour {ticker}...\")\n",
    "        action_dir = os.path.join(output_dir, ticker)\n",
    "        os.makedirs(action_dir, exist_ok=True)\n",
    "\n",
    "        forecast = results[ticker]['forecast']\n",
    "        model = results[ticker]['model']\n",
    "\n",
    "        # Sauvegarder le graphique des prévisions\n",
    "        fig = model.plot(forecast)\n",
    "        fig_path = os.path.join(action_dir, f\"{ticker}_forecast.png\")\n",
    "        fig.savefig(fig_path)\n",
    "        plt.close(fig)  # Fermer le graphique pour économiser de la mémoire\n",
    "\n",
    "# Étape 7 : Exécution principale\n",
    "if __name__ == \"__main__\":\n",
    "    # Paramètres\n",
    "    start_date = '2020-01-01'\n",
    "    end_date = '2024-11-28'\n",
    "    forecast_days = 9\n",
    "\n",
    "    # Récupérer les tickers du S&P 500\n",
    "    print(\"Récupération des tickers du S&P 500...\")\n",
    "    sp500_tickers = get_sp500_tickers()\n",
    "    print(f\"{len(sp500_tickers)} tickers récupérés.\")\n",
    "\n",
    "    # Analyser les tickers\n",
    "    print(\"\\nAnalyse des actions...\")\n",
    "    results = analyze_sp500_tickers(sp500_tickers, start_date, end_date, forecast_days)\n",
    "\n",
    "    # Identifier les meilleures opportunités\n",
    "    print(\"\\nIdentification des meilleures opportunités...\")\n",
    "    top_opportunities = find_top_opportunities(results, forecast_days=forecast_days)\n",
    "    print(\"\\nTop opportunités d'investissement (croissance prévue) :\")\n",
    "    for ticker, growth in top_opportunities[:10]:  # Top 10 opportunités\n",
    "        print(f\"{ticker}: Croissance prévue: {growth:.2%}\")\n",
    "\n",
    "    # Sauvegarder les résultats et les images\n",
    "    print(\"\\nSauvegarde des résultats...\")\n",
    "    save_results_and_images(results, top_opportunities, output_dir=\"9daysp500_analysis\", top_n=10)\n"
   ]
  }
 ],
 "metadata": {
  "kernelspec": {
   "display_name": "Python 3 (ipykernel)",
   "language": "python",
   "name": "python3"
  },
  "language_info": {
   "codemirror_mode": {
    "name": "ipython",
    "version": 3
   },
   "file_extension": ".py",
   "mimetype": "text/x-python",
   "name": "python",
   "nbconvert_exporter": "python",
   "pygments_lexer": "ipython3",
   "version": "3.12.4"
  }
 },
 "nbformat": 4,
 "nbformat_minor": 5
}
